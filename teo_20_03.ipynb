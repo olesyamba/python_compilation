{
  "nbformat": 4,
  "nbformat_minor": 0,
  "metadata": {
    "colab": {
      "provenance": [],
      "include_colab_link": true
    },
    "kernelspec": {
      "name": "python3",
      "display_name": "Python 3"
    },
    "language_info": {
      "name": "python"
    }
  },
  "cells": [
    {
      "cell_type": "markdown",
      "metadata": {
        "id": "view-in-github",
        "colab_type": "text"
      },
      "source": [
        "<a href=\"https://colab.research.google.com/github/olesyamba/python_compilation/blob/main/teo_20_03.ipynb\" target=\"_parent\"><img src=\"https://colab.research.google.com/assets/colab-badge.svg\" alt=\"Open In Colab\"/></a>"
      ]
    },
    {
      "cell_type": "markdown",
      "source": [
        "# Для проигрывания скрипта:\n",
        "\n",
        "1.   Загрузить файл с шаблоном\n",
        "2.   Скопировать путь\n",
        "3.   Подставить его в переменную fname в 5 ячейке\n",
        "\n"
      ],
      "metadata": {
        "id": "EAkO5yaLuhvw"
      }
    },
    {
      "cell_type": "code",
      "execution_count": 7,
      "metadata": {
        "colab": {
          "base_uri": "https://localhost:8080/"
        },
        "id": "rRE8WZHU7-z3",
        "outputId": "c995e833-c13e-43b0-ecd1-bd86c295bdb7"
      },
      "outputs": [
        {
          "output_type": "stream",
          "name": "stdout",
          "text": [
            "Mounted at /content/drive\n"
          ]
        }
      ],
      "source": [
        "from google.colab import drive\n",
        "drive.mount('/content/drive')"
      ]
    },
    {
      "cell_type": "code",
      "source": [
        "pip install pycel"
      ],
      "metadata": {
        "colab": {
          "base_uri": "https://localhost:8080/"
        },
        "id": "DJpepAeo8Ns_",
        "outputId": "01d2cd59-f5c0-4761-d5f3-a0ed74d1787d"
      },
      "execution_count": 8,
      "outputs": [
        {
          "output_type": "stream",
          "name": "stdout",
          "text": [
            "Collecting pycel\n",
            "  Downloading pycel-1.0b30-py3-none-any.whl (114 kB)\n",
            "\u001b[2K     \u001b[90m━━━━━━━━━━━━━━━━━━━━━━━━━━━━━━━━━━━━━━━━\u001b[0m \u001b[32m114.1/114.1 kB\u001b[0m \u001b[31m3.1 MB/s\u001b[0m eta \u001b[36m0:00:00\u001b[0m\n",
            "\u001b[?25hCollecting networkx<2.7,>=2.0 (from pycel)\n",
            "  Downloading networkx-2.6.3-py3-none-any.whl (1.9 MB)\n",
            "\u001b[2K     \u001b[90m━━━━━━━━━━━━━━━━━━━━━━━━━━━━━━━━━━━━━━━━\u001b[0m \u001b[32m1.9/1.9 MB\u001b[0m \u001b[31m13.4 MB/s\u001b[0m eta \u001b[36m0:00:00\u001b[0m\n",
            "\u001b[?25hRequirement already satisfied: numpy in /usr/local/lib/python3.10/dist-packages (from pycel) (1.25.2)\n",
            "Requirement already satisfied: openpyxl>=2.6.2 in /usr/local/lib/python3.10/dist-packages (from pycel) (3.1.2)\n",
            "Requirement already satisfied: python-dateutil in /usr/local/lib/python3.10/dist-packages (from pycel) (2.8.2)\n",
            "Collecting ruamel.yaml (from pycel)\n",
            "  Downloading ruamel.yaml-0.18.6-py3-none-any.whl (117 kB)\n",
            "\u001b[2K     \u001b[90m━━━━━━━━━━━━━━━━━━━━━━━━━━━━━━━━━━━━━━━━\u001b[0m \u001b[32m117.8/117.8 kB\u001b[0m \u001b[31m16.4 MB/s\u001b[0m eta \u001b[36m0:00:00\u001b[0m\n",
            "\u001b[?25hRequirement already satisfied: et-xmlfile in /usr/local/lib/python3.10/dist-packages (from openpyxl>=2.6.2->pycel) (1.1.0)\n",
            "Requirement already satisfied: six>=1.5 in /usr/local/lib/python3.10/dist-packages (from python-dateutil->pycel) (1.16.0)\n",
            "Collecting ruamel.yaml.clib>=0.2.7 (from ruamel.yaml->pycel)\n",
            "  Downloading ruamel.yaml.clib-0.2.8-cp310-cp310-manylinux_2_17_x86_64.manylinux2014_x86_64.manylinux_2_24_x86_64.whl (526 kB)\n",
            "\u001b[2K     \u001b[90m━━━━━━━━━━━━━━━━━━━━━━━━━━━━━━━━━━━━━━━━\u001b[0m \u001b[32m526.7/526.7 kB\u001b[0m \u001b[31m14.4 MB/s\u001b[0m eta \u001b[36m0:00:00\u001b[0m\n",
            "\u001b[?25hInstalling collected packages: ruamel.yaml.clib, networkx, ruamel.yaml, pycel\n",
            "  Attempting uninstall: networkx\n",
            "    Found existing installation: networkx 3.2.1\n",
            "    Uninstalling networkx-3.2.1:\n",
            "      Successfully uninstalled networkx-3.2.1\n",
            "\u001b[31mERROR: pip's dependency resolver does not currently take into account all the packages that are installed. This behaviour is the source of the following dependency conflicts.\n",
            "torch 2.2.1+cu121 requires nvidia-cublas-cu12==12.1.3.1; platform_system == \"Linux\" and platform_machine == \"x86_64\", which is not installed.\n",
            "torch 2.2.1+cu121 requires nvidia-cuda-cupti-cu12==12.1.105; platform_system == \"Linux\" and platform_machine == \"x86_64\", which is not installed.\n",
            "torch 2.2.1+cu121 requires nvidia-cuda-nvrtc-cu12==12.1.105; platform_system == \"Linux\" and platform_machine == \"x86_64\", which is not installed.\n",
            "torch 2.2.1+cu121 requires nvidia-cuda-runtime-cu12==12.1.105; platform_system == \"Linux\" and platform_machine == \"x86_64\", which is not installed.\n",
            "torch 2.2.1+cu121 requires nvidia-cudnn-cu12==8.9.2.26; platform_system == \"Linux\" and platform_machine == \"x86_64\", which is not installed.\n",
            "torch 2.2.1+cu121 requires nvidia-cufft-cu12==11.0.2.54; platform_system == \"Linux\" and platform_machine == \"x86_64\", which is not installed.\n",
            "torch 2.2.1+cu121 requires nvidia-curand-cu12==10.3.2.106; platform_system == \"Linux\" and platform_machine == \"x86_64\", which is not installed.\n",
            "torch 2.2.1+cu121 requires nvidia-cusolver-cu12==11.4.5.107; platform_system == \"Linux\" and platform_machine == \"x86_64\", which is not installed.\n",
            "torch 2.2.1+cu121 requires nvidia-cusparse-cu12==12.1.0.106; platform_system == \"Linux\" and platform_machine == \"x86_64\", which is not installed.\n",
            "torch 2.2.1+cu121 requires nvidia-nccl-cu12==2.19.3; platform_system == \"Linux\" and platform_machine == \"x86_64\", which is not installed.\n",
            "torch 2.2.1+cu121 requires nvidia-nvtx-cu12==12.1.105; platform_system == \"Linux\" and platform_machine == \"x86_64\", which is not installed.\u001b[0m\u001b[31m\n",
            "\u001b[0mSuccessfully installed networkx-2.6.3 pycel-1.0b30 ruamel.yaml-0.18.6 ruamel.yaml.clib-0.2.8\n"
          ]
        }
      ]
    },
    {
      "cell_type": "code",
      "source": [
        "pip install markdown"
      ],
      "metadata": {
        "colab": {
          "base_uri": "https://localhost:8080/"
        },
        "id": "wBj1Gil48nDR",
        "outputId": "74046ac4-5bfd-4899-d69b-7d1a01bab7e1"
      },
      "execution_count": 9,
      "outputs": [
        {
          "output_type": "stream",
          "name": "stdout",
          "text": [
            "Requirement already satisfied: markdown in /usr/local/lib/python3.10/dist-packages (3.6)\n"
          ]
        }
      ]
    },
    {
      "cell_type": "code",
      "source": [
        "pip install openai"
      ],
      "metadata": {
        "colab": {
          "base_uri": "https://localhost:8080/"
        },
        "id": "zwUKSqry8pYp",
        "outputId": "2e2b601b-ca00-45ad-c12f-3d0d669e5b18"
      },
      "execution_count": 10,
      "outputs": [
        {
          "output_type": "stream",
          "name": "stdout",
          "text": [
            "Collecting openai\n",
            "  Downloading openai-1.14.2-py3-none-any.whl (262 kB)\n",
            "\u001b[2K     \u001b[90m━━━━━━━━━━━━━━━━━━━━━━━━━━━━━━━━━━━━━━━━\u001b[0m \u001b[32m262.4/262.4 kB\u001b[0m \u001b[31m3.3 MB/s\u001b[0m eta \u001b[36m0:00:00\u001b[0m\n",
            "\u001b[?25hRequirement already satisfied: anyio<5,>=3.5.0 in /usr/local/lib/python3.10/dist-packages (from openai) (3.7.1)\n",
            "Requirement already satisfied: distro<2,>=1.7.0 in /usr/lib/python3/dist-packages (from openai) (1.7.0)\n",
            "Collecting httpx<1,>=0.23.0 (from openai)\n",
            "  Downloading httpx-0.27.0-py3-none-any.whl (75 kB)\n",
            "\u001b[2K     \u001b[90m━━━━━━━━━━━━━━━━━━━━━━━━━━━━━━━━━━━━━━━━\u001b[0m \u001b[32m75.6/75.6 kB\u001b[0m \u001b[31m8.0 MB/s\u001b[0m eta \u001b[36m0:00:00\u001b[0m\n",
            "\u001b[?25hRequirement already satisfied: pydantic<3,>=1.9.0 in /usr/local/lib/python3.10/dist-packages (from openai) (2.6.4)\n",
            "Requirement already satisfied: sniffio in /usr/local/lib/python3.10/dist-packages (from openai) (1.3.1)\n",
            "Requirement already satisfied: tqdm>4 in /usr/local/lib/python3.10/dist-packages (from openai) (4.66.2)\n",
            "Requirement already satisfied: typing-extensions<5,>=4.7 in /usr/local/lib/python3.10/dist-packages (from openai) (4.10.0)\n",
            "Requirement already satisfied: idna>=2.8 in /usr/local/lib/python3.10/dist-packages (from anyio<5,>=3.5.0->openai) (3.6)\n",
            "Requirement already satisfied: exceptiongroup in /usr/local/lib/python3.10/dist-packages (from anyio<5,>=3.5.0->openai) (1.2.0)\n",
            "Requirement already satisfied: certifi in /usr/local/lib/python3.10/dist-packages (from httpx<1,>=0.23.0->openai) (2024.2.2)\n",
            "Collecting httpcore==1.* (from httpx<1,>=0.23.0->openai)\n",
            "  Downloading httpcore-1.0.4-py3-none-any.whl (77 kB)\n",
            "\u001b[2K     \u001b[90m━━━━━━━━━━━━━━━━━━━━━━━━━━━━━━━━━━━━━━━━\u001b[0m \u001b[32m77.8/77.8 kB\u001b[0m \u001b[31m5.5 MB/s\u001b[0m eta \u001b[36m0:00:00\u001b[0m\n",
            "\u001b[?25hCollecting h11<0.15,>=0.13 (from httpcore==1.*->httpx<1,>=0.23.0->openai)\n",
            "  Downloading h11-0.14.0-py3-none-any.whl (58 kB)\n",
            "\u001b[2K     \u001b[90m━━━━━━━━━━━━━━━━━━━━━━━━━━━━━━━━━━━━━━━━\u001b[0m \u001b[32m58.3/58.3 kB\u001b[0m \u001b[31m6.5 MB/s\u001b[0m eta \u001b[36m0:00:00\u001b[0m\n",
            "\u001b[?25hRequirement already satisfied: annotated-types>=0.4.0 in /usr/local/lib/python3.10/dist-packages (from pydantic<3,>=1.9.0->openai) (0.6.0)\n",
            "Requirement already satisfied: pydantic-core==2.16.3 in /usr/local/lib/python3.10/dist-packages (from pydantic<3,>=1.9.0->openai) (2.16.3)\n",
            "Installing collected packages: h11, httpcore, httpx, openai\n",
            "Successfully installed h11-0.14.0 httpcore-1.0.4 httpx-0.27.0 openai-1.14.2\n"
          ]
        }
      ]
    },
    {
      "cell_type": "code",
      "source": [
        "fname = '/content/deprotected_shablon_CLEAN_RANGES.xlsx'"
      ],
      "metadata": {
        "id": "vyNCLrDK7hXw"
      },
      "execution_count": 11,
      "outputs": []
    },
    {
      "cell_type": "code",
      "source": [
        "fname = '/content/drive/MyDrive/Colab Notebooks/deprotected_shablon_CLEAN_RANGES.xlsx'"
      ],
      "metadata": {
        "id": "lqOIMppuuyFx"
      },
      "execution_count": 12,
      "outputs": []
    },
    {
      "cell_type": "markdown",
      "source": [
        "# *Создание необходимых функций и загрузка файла с шаблоном*"
      ],
      "metadata": {
        "id": "FVZyMnjgtH-g"
      }
    },
    {
      "cell_type": "code",
      "source": [
        "# -*- coding: UTF-8 -*-\n",
        "#\n",
        "# Created by: Krasnukhina Olesya\n",
        "# Updated at: 19/03/2024\n",
        "# This file uses the Pycel Library, Licensed under GPLv3 (the 'License')\n",
        "# You may not use this work except in compliance with the License.\n",
        "# You may obtain a copy of the Licence at:\n",
        "#   https://www.gnu.org/licenses/gpl-3.0.en.html\n",
        "\n",
        "\"\"\"\n",
        "Simple script showing how a spreadsheet cell can be translated to python\n",
        "and write to documentation\n",
        "\"\"\"\n",
        "import logging\n",
        "import os\n",
        "import sys\n",
        "import markdown\n",
        "import re\n",
        "import pycel\n",
        "from pycel import ExcelCompiler\n",
        "import openpyxl\n",
        "from openpyxl.utils import get_column_letter\n",
        "import copy\n",
        "\n",
        "def pycel_logging_to_console(enable=True):\n",
        "    if enable:\n",
        "        logger = logging.getLogger('pycel')\n",
        "        logger.setLevel('INFO')\n",
        "\n",
        "        console = logging.StreamHandler(sys.stdout)\n",
        "        console.setLevel(logging.INFO)\n",
        "        logger.addHandler(console)\n",
        "\n",
        "def pycel_logging_to_file(sheet_name,enable=True):\n",
        "    if enable:\n",
        "        logger = logging.getLogger('pycel')\n",
        "        logger.setLevel('INFO')\n",
        "        console = logging.FileHandler(f\"/content/{sheet_name}.log\", mode='w')\n",
        "\n",
        "        # console = logging.StreamHandler(sys.stdout)\n",
        "        # console.setLevel(logging.INFO)\n",
        "        logger.addHandler(console)\n",
        "\n",
        "def write_to_file(cell_name, sheet_name, compiled_code, table, dependent_tables, upd_name):\n",
        "    filename=f'/content/{sheet_name}.txt'\n",
        "    with open(filename, 'a+') as file:\n",
        "        # Write sheet_name in H2 style\n",
        "        file.write(f'### {sheet_name}\\n\\n')\n",
        "        file.write(f'#### {old_cell_row} =\\> {table}\\n\\n')\n",
        "\n",
        "        # Write cell_name in H1 style\n",
        "        file.write(f'{sheet_name_to_write}!{pycel.AddressCell(cell_name_to_write).column}{pycel.AddressCell(cell_name_to_write).row} =\\>  {upd_name}\\n\\n')\n",
        "\n",
        "        # Write compiled_code in code block style\n",
        "        # compiled_code_markdown = markdown.markdown(compiled_code, extensions=['codehilite'])\n",
        "        file.write(f'```\\n{compiled_code}\\n```')\n",
        "\n",
        "        # Write table name\n",
        "        file.write(f'\\n\\nТаблицы для хранения расчетного значения: *{{red}}({table})*\\n\\n')\n",
        "\n",
        "        dep_tables_formatted = [f'* {value} ({key})\\n' for key,value in dependent_tables.items()]\n",
        "        # Write connected tables names\n",
        "        file.write(f'Таблицы с исходными данными для расчета:\\n\\n{\"\".join(dep_tables_formatted)}\\n\\n')\n",
        "\n",
        "\n",
        "# def remove_patterns(input_str):\n",
        "#     # Define the patterns to be removed\n",
        "#     patterns = [r'_R_\\((\\w+)\\)', r'_C_\\((\\w+)\\)', r'_REF_\\((\\w+)\\)']\n",
        "#     # Iterate through patterns and replace them with the captured 'some_text'\n",
        "#     for pattern in patterns:\n",
        "#         input_str = re.sub(pattern, r'\\1', input_str)\n",
        "#     return input_str\n",
        "\n",
        "\n",
        "def remove_patterns(input_str):\n",
        "    # Define a function for recursive replacement\n",
        "    def replace(match):\n",
        "        return match.group(1) if match.group(1) else match.group(2)\n",
        "    # Define the patterns to be replaced\n",
        "    patterns = [\n",
        "        r'_R_\\(\"([^\"]*)\"\\)',\n",
        "        r'_C_\\(\"([^\"]*)\"\\)',\n",
        "        r'_REF_\\(\"([^\"]*)\"\\)'\n",
        "    ]\n",
        "    # Replace the patterns recursively\n",
        "    for pattern in patterns:\n",
        "        input_str = re.sub(pattern, replace, input_str)\n",
        "    return input_str\n",
        "\n",
        "\n",
        "def is_cell_in_explicit_range(workbook, sheet_name, cell_address, min_row, max_row, min_col, max_col):\n",
        "    # # Load the workbook\n",
        "    # workbook = openpyxl.load_workbook(workbook_path)\n",
        "\n",
        "    # Select the sheet\n",
        "    sheet = workbook[sheet_name]\n",
        "\n",
        "    # Convert cell address to row and column indices\n",
        "    cell_column, cell_row  = openpyxl.utils.cell.coordinate_from_string(cell_address)\n",
        "\n",
        "    # Check if the cell is within the explicit range\n",
        "    if min_row <= cell_row <= max_row and min_col <= openpyxl.utils.cell.column_index_from_string(cell_column) <= max_col:\n",
        "        return True\n",
        "    else:\n",
        "        return False\n",
        "\n",
        "\n",
        "def filter_defined_names_by_type_and_sheet(defined_names, sheet_name, defined_name_type = 'RANGE'):\n",
        "    filtered_names = {}\n",
        "\n",
        "    for name, value in defined_names.items():\n",
        "        if value.type == defined_name_type and any(sheet == sheet_name for sheet, _ in value.destinations):\n",
        "            filtered_names[name] = value\n",
        "\n",
        "    return filtered_names\n",
        "\n",
        "# функция, которая проверяет строки на вхождение\n",
        "def filter_refs(string_to_check):\n",
        "    if len(re.findall(r'\\w+[!]*\\w?\\d+', string_to_check)) > 0: # len(re.findall(r'!', string_to_check)) > 0 or\n",
        "        return True\n",
        "    else:\n",
        "        return False\n",
        "\n",
        "# path = os.path.dirname(__file__)\n",
        "# fname = os.path.join(path, \"deprotected_shablon_CLEAN_RANGES.xlsx\")\n",
        "\n",
        "print(f\"Loading {fname}...\")\n",
        "\n",
        "# load & compile the file to a graph\n",
        "excel = ExcelCompiler(filename=fname)\n"
      ],
      "metadata": {
        "colab": {
          "base_uri": "https://localhost:8080/"
        },
        "id": "5uqh-qAL8FpN",
        "outputId": "6f8ecd17-a826-4789-f4e6-ab3a6701a4ad"
      },
      "execution_count": 127,
      "outputs": [
        {
          "output_type": "stream",
          "name": "stdout",
          "text": [
            "Loading /content/drive/MyDrive/Colab Notebooks/deprotected_shablon_CLEAN_RANGES.xlsx...\n"
          ]
        },
        {
          "output_type": "stream",
          "name": "stderr",
          "text": [
            "/usr/local/lib/python3.10/dist-packages/openpyxl/worksheet/_reader.py:329: UserWarning: Data Validation extension is not supported and will be removed\n",
            "  warn(msg)\n"
          ]
        }
      ]
    },
    {
      "cell_type": "markdown",
      "source": [
        "# *Исследование и преобразования над ячейкой*"
      ],
      "metadata": {
        "id": "eZLmzkYlsaHR"
      }
    },
    {
      "cell_type": "markdown",
      "source": [
        "Примеры ячеек для тестирования:\n",
        "Маркетинг\n",
        "\n",
        "L11\n",
        "\n",
        "H34\n",
        "\n",
        "H9:H11\n",
        "\n",
        "P27, J43\n",
        "\n",
        "Нормативы_Маркетинг\n",
        "\n",
        "C9\n",
        "\n",
        "E8"
      ],
      "metadata": {
        "id": "8pej6YXjY9VC"
      }
    },
    {
      "cell_type": "code",
      "source": [
        "\n",
        "cell_or_range = input('Необходимо исследовать одну ячейку (1) или несколько (2)? (1/2)  ')\n",
        "\n",
        "if cell_or_range == '1':\n",
        "    cell_name = input('Введите наименование ячейки (Пример | С9):  ')\n",
        "    cell_name_to_write = cell_name\n",
        "    sheet_name = input('Введите наименование листа (Пример | Маркетинг): ')\n",
        "    sheet_name_to_write = sheet_name\n",
        "\n",
        "    pycel_logging_to_file(sheet_name)\n",
        "\n",
        "    print(\"Идентификация ячейки завершена: {}\".format(f'{sheet_name}!{cell_name}...'))\n",
        "\n",
        "    print(\"\\nРасчет цепочки вычислений для исследуемой ячейки завершен.\\n{} = {}\".format(cell_name, excel.evaluate(f'{sheet_name}!{cell_name}')))\n",
        "\n",
        "    if excel.cell_map[f'{sheet_name}!{cell_name}'].formula != None: # ячейка содержит формулу, требуется расшифровка:\n",
        "        print('\\nГенерирую методологию расчетов для ячейки... Ячейка содержит формулу, требуется расшифровка.')\n",
        "\n",
        "        print(\"\\n {}\".format(excel.cell_map[f'{sheet_name}!{cell_name}']))\n",
        "\n",
        "        print(\"\\nВычисляю, в какой диапазон попадает исследуемая ячейка...\")\n",
        "        workbook = excel.excel.workbook\n",
        "\n",
        "        filtered_defined_names = filter_defined_names_by_type_and_sheet(workbook.defined_names, sheet_name)\n",
        "\n",
        "        main_done = False\n",
        "        a = 0\n",
        "        for name, value in filtered_defined_names.items():\n",
        "            if main_done == False:\n",
        "                ranges = workbook.defined_names[name].value  # 'АА_методология!$A$13:$DR$53'\n",
        "                ranges_splited = ranges.split(',')\n",
        "                for range in ranges_splited:\n",
        "                    min_col, min_row, max_col, max_row = openpyxl.utils.cell.range_boundaries(range.split('!')[1])\n",
        "                    result = is_cell_in_explicit_range(workbook, sheet_name, cell_name, min_row, max_row, min_col, max_col)\n",
        "                    if result:\n",
        "                        print(f\"Ячейка {cell_name} находится в диапазоне: {range}.\")\n",
        "                        print(f'\\nПредполагаемая таблица для хранения: {name}')\n",
        "                        table = name\n",
        "                        main_done = True\n",
        "                    if len(ranges_splited) > 1:\n",
        "                        for range_temp in ranges_splited:\n",
        "                            if a == 0:\n",
        "                                min_col_temp, min_row_temp, max_col_temp, max_row_temp = openpyxl.utils.cell.range_boundaries(range_temp.split('!')[1])\n",
        "                            else:\n",
        "                                min_col_tempp, min_row_tempp, max_col_tempp, max_row_tempp = openpyxl.utils.cell.range_boundaries(\n",
        "                                    range_temp.split('!')[1])\n",
        "                                if min_col_tempp < min_col_temp:\n",
        "                                    min_col_temp = min_col_tempp\n",
        "                            a += 1\n",
        "                        start_range_column = openpyxl.utils.cell.get_column_letter(min_col_temp)\n",
        "                    else:\n",
        "                        # start_range_column_i = pycel.AddressRange(range.split('!')[1]).start.column\n",
        "                        start_range_column = pycel.AddressRange(ranges.split(',')[0].split('!')[1]).start.column\n",
        "                    if result:\n",
        "                        break\n",
        "\n",
        "        old_cell_column = pycel.AddressCell(cell_name).column\n",
        "        old_cell_row = pycel.AddressCell(cell_name).row\n",
        "        cell_name_new = name\n",
        "\n",
        "        # ВСТАВИТЬ ПЕРЕПРИСВОЕНИЕ для строк\n",
        "        # Для переприсвоения строки на продукт необходимо вытащить по name именованный диапазон\n",
        "        # У него найти первый столбец\n",
        "        # start_range_column = pycel.AddressRange(workbook.defined_names[name].value).start.column\n",
        "        # И из него вытащить элемент по old_cell_row и подставить вместо old_cell_row\n",
        "        old_cell_row = excel.evaluate(f'{sheet_name}!{start_range_column}{old_cell_row}')\n",
        "        excel.evaluate(f'{sheet_name}!{old_cell_column}{pycel.AddressCell(cell_name).row}')\n",
        "\n",
        "        print(f'\\nПереприсвоенная ячейка: {table}[{old_cell_row}][{old_cell_column}]')\n",
        "        upd_name = f'{table}[{old_cell_row}][{old_cell_column}]'\n",
        "\n",
        "        print(\"\\nФормула: {}\".format(\n",
        "        excel.cell_map[f'{sheet_name}!{cell_name}'].formula))\n",
        "\n",
        "        # print(\"Формула: {}\".format(\n",
        "        # excel.cell_map[f'{sheet_name}!{cell_name}'].formula.base_formula))\n",
        "\n",
        "        print(\"\\nPython code: {}\".format(excel.cell_map[f'{sheet_name}!{cell_name}'].formula.python_code))\n",
        "\n",
        "        formula = excel.cell_map[f'{sheet_name}!{cell_name}'].formula.python_code\n",
        "\n",
        "        # cell_references = list(excel.cell_map[f'{sheet_name}!{cell_name}'].needed_addresses)\n",
        "        cell_references = [i.address for i in list(excel.cell_map[f'{sheet_name}!{cell_name}'].needed_addresses)]\n",
        "\n",
        "        # cell_references = [i.replace('\"', '') for i in re.findall(r'\".*?\"', formula)]\n",
        "        # cell_references = list(filter(filter_refs, cell_references))\n",
        "        print(\"\\n\\nЯчейки, которые используются в формуле: {}\".format(cell_references))\n",
        "        dependent_tables = {}\n",
        "        for i in cell_references:\n",
        "            if i.__contains__(':'): # диапазон ячеек\n",
        "                range_list = [i[0].address for i in list(pycel.AddressRange(i).resolve_range)] # [i.address for i in [i[0] for i in list(excel.cell_map[i].needed_addresses[cell_references.index(i)].resolve_range[0])]]\n",
        "                print(\"\\nДиапазон ячеек, использующийся в формуле состоит из: \\n{}\".format(f'{range_list}'.replace(',', ',\\n')))\n",
        "                range_name = i\n",
        "\n",
        "                replace_cell_name_list = []\n",
        "\n",
        "                for i in range_list:\n",
        "                    done = False\n",
        "                    sheet_name = pycel.AddressCell(i).sheet\n",
        "                    cell_name = pycel.AddressCell(i).coordinate\n",
        "\n",
        "                    filtered_defined_names = filter_defined_names_by_type_and_sheet(workbook.defined_names, sheet_name)\n",
        "\n",
        "                    a = 0\n",
        "                    for name, value in filtered_defined_names.items():\n",
        "                        if done == False:\n",
        "                            ranges = workbook.defined_names[name].value  # 'АА_методология!$A$13:$DR$53'\n",
        "                            ranges_splited = ranges.split(',')\n",
        "                            for range in ranges_splited:\n",
        "                                min_col, min_row, max_col, max_row = openpyxl.utils.cell.range_boundaries(range.split('!')[1])\n",
        "                                result = is_cell_in_explicit_range(workbook, sheet_name, cell_name, min_row, max_row, min_col,\n",
        "                                                                    max_col)\n",
        "                                if result:\n",
        "                                    print(f\"\\nЯчейка {sheet_name}!{cell_name} находится в диапазоне: {range}.\")\n",
        "                                    print(f'Таблица: {name}')\n",
        "                                    done = True\n",
        "                            if len(ranges_splited) > 1:\n",
        "                                for range_temp in ranges_splited:\n",
        "                                    if a == 0:\n",
        "                                        min_col_temp, min_row_temp, max_col_temp, max_row_temp = openpyxl.utils.cell.range_boundaries(range_temp.split('!')[1])\n",
        "                                    else:\n",
        "                                        min_col_tempp, min_row_tempp, max_col_tempp, max_row_tempp = openpyxl.utils.cell.range_boundaries(\n",
        "                                            range_temp.split('!')[1])\n",
        "                                        if min_col_tempp < min_col_temp:\n",
        "                                            min_col_temp = min_col_tempp\n",
        "                                    a += 1\n",
        "                                start_range_column_i = openpyxl.utils.cell.get_column_letter(min_col_temp)\n",
        "                            else:\n",
        "                                # start_range_column_i = pycel.AddressRange(range.split('!')[1]).start.column\n",
        "                                start_range_column_i = pycel.AddressRange(ranges.split(',')[0].split('!')[1]).start.column\n",
        "                            if result:\n",
        "                                break\n",
        "\n",
        "\n",
        "                    dependent_tables[i] = f'{name}'\n",
        "                    cell_name_new_i = f'{name}'\n",
        "                    old_cell_column_i = pycel.AddressCell(cell_name).column\n",
        "                    old_cell_row_i = pycel.AddressCell(cell_name).row\n",
        "\n",
        "                    old_cell_row_i = excel.evaluate(f'{sheet_name}!{start_range_column_i}{old_cell_row_i}')\n",
        "\n",
        "\n",
        "                    replace_cell_name = f'{cell_name_new_i}[{old_cell_row_i}][{old_cell_column_i}]'\n",
        "                    replace_cell_name_list.append(replace_cell_name)\n",
        "\n",
        "                excel.evaluate(f'{sheet_name_to_write}!{pycel.AddressCell(cell_name_to_write).column}{pycel.AddressCell(cell_name_to_write).row}')\n",
        "                formula = re.sub(range_name, f'{replace_cell_name_list}', formula)\n",
        "\n",
        "\n",
        "            else: # конкретная ячейка\n",
        "\n",
        "                sheet_name = pycel.AddressCell(i).sheet\n",
        "                cell_name = pycel.AddressCell(i).coordinate\n",
        "\n",
        "                filtered_defined_names = filter_defined_names_by_type_and_sheet(workbook.defined_names, sheet_name)\n",
        "\n",
        "                done = False\n",
        "\n",
        "                a = 0\n",
        "                for name, value in filtered_defined_names.items():\n",
        "                    if done == False:\n",
        "                        ranges = workbook.defined_names[name].value  # 'АА_методология!$A$13:$DR$53'\n",
        "                        ranges_splited = ranges.split(',')\n",
        "                        for range in ranges_splited:\n",
        "                            min_col, min_row, max_col, max_row = openpyxl.utils.cell.range_boundaries(range.split('!')[1])\n",
        "                            result = is_cell_in_explicit_range(workbook, sheet_name, cell_name, min_row, max_row, min_col,\n",
        "                                                                max_col)\n",
        "                            if result:\n",
        "                                print(f\"\\nЯчейка {sheet_name}!{cell_name} находится в диапазоне: {range}.\")\n",
        "                                print(f'Таблица: {name}')\n",
        "                                done = True\n",
        "                                dependent_tables[i] = f'{name}'\n",
        "                                cell_name_new_i = f'{name}'\n",
        "                        if len(ranges_splited) > 1:\n",
        "                            for range_temp in ranges_splited:\n",
        "                                if a == 0:\n",
        "                                    min_col_temp, min_row_temp, max_col_temp, max_row_temp = openpyxl.utils.cell.range_boundaries(range_temp.split('!')[1])\n",
        "                                else:\n",
        "                                    min_col_tempp, min_row_tempp, max_col_tempp, max_row_tempp = openpyxl.utils.cell.range_boundaries(\n",
        "                                        range_temp.split('!')[1])\n",
        "                                    if min_col_tempp < min_col_temp:\n",
        "                                        min_col_temp = min_col_tempp\n",
        "                                a += 1\n",
        "                            start_range_column_i = openpyxl.utils.cell.get_column_letter(min_col_temp)\n",
        "                        else:\n",
        "                            # start_range_column_i = pycel.AddressRange(range.split('!')[1]).start.column\n",
        "                            start_range_column_i = pycel.AddressRange(ranges.split(',')[0].split('!')[1]).start.column\n",
        "                        if result:\n",
        "                            break\n",
        "\n",
        "                old_cell_column_i = pycel.AddressCell(cell_name).column\n",
        "                old_cell_row_i = pycel.AddressCell(cell_name).row\n",
        "\n",
        "                old_cell_row_i = excel.evaluate(f'{sheet_name}!{start_range_column_i}{old_cell_row_i}')\n",
        "                excel.evaluate(f'{sheet_name_to_write}!{pycel.AddressCell(cell_name_to_write).column}{pycel.AddressCell(cell_name_to_write).row}')\n",
        "\n",
        "                replace_cell_name = f'{cell_name_new_i}[{old_cell_row_i}][{old_cell_column_i}]'\n",
        "\n",
        "                formula = re.sub(rf'{sheet_name}!{cell_name}', replace_cell_name, formula)\n",
        "\n",
        "        print(\"\\nРедуцирую локальные функции pycel из формулы...\")\n",
        "        compiled_code = remove_patterns(formula)\n",
        "        print(\"\\nПереприсваиваю имена ячеек в формуле...\")\n",
        "\n",
        "        print(f\"\\n\\nPython code | UPD version:\\n {compiled_code}\\n\\n---------------------------------------------------------------------------------------------------------------------------------\")\n",
        "    else:\n",
        "        print('\\nГенерирую методологию расчетов для ячейки...')\n",
        "\n",
        "        print(\"\\n\\nЯчейка является константой {}\".format(excel.cell_map[f'{sheet_name}!{cell_name}']))\n",
        "\n",
        "        need_rename = input('Все равно выполнить переприсвоение? (д/н)')\n",
        "        if need_rename == 'д' :\n",
        "            print(\"\\nВычисляю, в какой диапазон попадает исследуемая ячейка...\")\n",
        "            workbook = excel.excel.workbook\n",
        "\n",
        "            filtered_defined_names = filter_defined_names_by_type_and_sheet(workbook.defined_names, sheet_name)\n",
        "\n",
        "            main_done = False\n",
        "            a = 0\n",
        "            for name, value in filtered_defined_names.items():\n",
        "                if main_done == False:\n",
        "                    ranges = workbook.defined_names[name].value  # 'АА_методология!$A$13:$DR$53'\n",
        "                    ranges_splited = ranges.split(',')\n",
        "                    for range in ranges_splited:\n",
        "                        min_col, min_row, max_col, max_row = openpyxl.utils.cell.range_boundaries(range.split('!')[1])\n",
        "                        result = is_cell_in_explicit_range(workbook, sheet_name, cell_name, min_row, max_row, min_col, max_col)\n",
        "                        if result:\n",
        "                            print(f\"Ячейка {cell_name} находится в диапазоне: {range}.\")\n",
        "                            print(f'\\nПредполагаемая таблица для хранения: {name}')\n",
        "                            table = name\n",
        "                            main_done = True\n",
        "                        if len(ranges_splited) > 1:\n",
        "                            for range_temp in ranges_splited:\n",
        "                                if a == 0:\n",
        "                                    min_col_temp, min_row_temp, max_col_temp, max_row_temp = openpyxl.utils.cell.range_boundaries(range_temp.split('!')[1])\n",
        "                                else:\n",
        "                                    min_col_tempp, min_row_tempp, max_col_tempp, max_row_tempp = openpyxl.utils.cell.range_boundaries(\n",
        "                                        range_temp.split('!')[1])\n",
        "                                    if min_col_tempp < min_col_temp:\n",
        "                                        min_col_temp = min_col_tempp\n",
        "                                a += 1\n",
        "                            start_range_column = openpyxl.utils.cell.get_column_letter(min_col_temp)\n",
        "                        else:\n",
        "                            # start_range_column_i = pycel.AddressRange(range.split('!')[1]).start.column\n",
        "                            start_range_column = pycel.AddressRange(ranges.split(',')[0].split('!')[1]).start.column\n",
        "                        if result:\n",
        "                            break\n",
        "\n",
        "            old_cell_column = pycel.AddressCell(cell_name).column\n",
        "            old_cell_row = pycel.AddressCell(cell_name).row\n",
        "            cell_name_new = name\n",
        "\n",
        "            # ВСТАВИТЬ ПЕРЕПРИСВОЕНИЕ для строк\n",
        "            # Для переприсвоения строки на продукт необходимо вытащить по name именованный диапазон\n",
        "            # У него найти первый столбец\n",
        "            # start_range_column = pycel.AddressRange(workbook.defined_names[name].value).start.column\n",
        "            # И из него вытащить элемент по old_cell_row и подставить вместо old_cell_row\n",
        "            old_cell_row = excel.evaluate(f'{sheet_name}!{start_range_column}{old_cell_row}')\n",
        "            excel.evaluate(f'{sheet_name}!{old_cell_column}{pycel.AddressCell(cell_name).row}')\n",
        "\n",
        "            print(f'\\nПереприсвоенная ячейка: {table}[{old_cell_row}][{old_cell_column}]')\n",
        "            upd_name = f'{table}[{old_cell_row}][{old_cell_column}]'\n",
        "\n",
        "            #"
      ],
      "metadata": {
        "id": "Uystlm5rmR9W",
        "colab": {
          "base_uri": "https://localhost:8080/"
        },
        "outputId": "87a3ca99-75ac-4d12-9ff8-2dfe7421b7df"
      },
      "execution_count": 128,
      "outputs": [
        {
          "output_type": "stream",
          "name": "stdout",
          "text": [
            "Необходимо исследовать одну ячейку (1) или несколько (2)? (1/2)  1\n",
            "Введите наименование ячейки (Пример | С9):  H9\n",
            "Введите наименование листа (Пример | Маркетинг): Маркетинг\n",
            "Идентификация ячейки завершена: Маркетинг!H9...\n",
            "Range Адресная программа!G3:G200 evaluated to '((None,), (None,), (None,), (None,), (None,), (None,), (None,), (None,), (None,), (None,), (None,), (None,), (None,), (None,), (None,), (None,), (None,), (None,), (None,), (None,), (None,), (None,), (None,), (None,), (None,), (None,), (None,), (None,), (None,), (None,), (None,), (None,), (None,), (None,), (None,), (None,), (None,), (None,), (None,), (None,), (None,), (None,), (None,), (None,), (None,), (None,), (None,), (None,), (None,), (None,), (None,), (None,), (None,), (None,), (None,), (None,), (None,), (None,), (None,), (None,), (None,), (None,), (None,), (None,), (None,), (None,), (None,), (None,), (None,), (None,), (None,), (None,), (None,), (None,), (None,), (None,), (None,), (None,), (None,), (None,), (None,), (None,), (None,), (None,), (None,), (None,), (None,), (None,), (None,), (None,), (None,), (None,), (None,), (None,), (None,), (None,), (None,), (None,), (None,), (None,), (None,), (None,), (None,), (None,), (None,), (None,), (None,), (None,), (None,), (None,), (None,), (None,), (None,), (None,), (None,), (None,), (None,), (None,), (None,), (None,), (None,), (None,), (None,), (None,), (None,), (None,), (None,), (None,), (None,), (None,), (None,), (None,), (None,), (None,), (None,), (None,), (None,), (None,), (None,), (None,), (None,), (None,), (None,), (None,), (None,), (None,), (None,), (None,), (None,), (None,), (None,), (None,), (None,), (None,), (None,), (None,), (None,), (None,), (None,), (None,), (None,), (None,), (None,), (None,), (None,), (None,), (None,), (None,), (None,), (None,), (None,), (None,), (None,), (None,), (None,), (None,), (None,), (None,), (None,), (None,), (None,), (None,), (None,), (None,), (None,), (None,), (None,), (None,), (None,), (None,), (None,), (None,), (None,), (None,), (None,), (None,), (None,), (None,))'\n"
          ]
        },
        {
          "output_type": "stream",
          "name": "stderr",
          "text": [
            "INFO:pycel:Range Адресная программа!G3:G200 evaluated to '((None,), (None,), (None,), (None,), (None,), (None,), (None,), (None,), (None,), (None,), (None,), (None,), (None,), (None,), (None,), (None,), (None,), (None,), (None,), (None,), (None,), (None,), (None,), (None,), (None,), (None,), (None,), (None,), (None,), (None,), (None,), (None,), (None,), (None,), (None,), (None,), (None,), (None,), (None,), (None,), (None,), (None,), (None,), (None,), (None,), (None,), (None,), (None,), (None,), (None,), (None,), (None,), (None,), (None,), (None,), (None,), (None,), (None,), (None,), (None,), (None,), (None,), (None,), (None,), (None,), (None,), (None,), (None,), (None,), (None,), (None,), (None,), (None,), (None,), (None,), (None,), (None,), (None,), (None,), (None,), (None,), (None,), (None,), (None,), (None,), (None,), (None,), (None,), (None,), (None,), (None,), (None,), (None,), (None,), (None,), (None,), (None,), (None,), (None,), (None,), (None,), (None,), (None,), (None,), (None,), (None,), (None,), (None,), (None,), (None,), (None,), (None,), (None,), (None,), (None,), (None,), (None,), (None,), (None,), (None,), (None,), (None,), (None,), (None,), (None,), (None,), (None,), (None,), (None,), (None,), (None,), (None,), (None,), (None,), (None,), (None,), (None,), (None,), (None,), (None,), (None,), (None,), (None,), (None,), (None,), (None,), (None,), (None,), (None,), (None,), (None,), (None,), (None,), (None,), (None,), (None,), (None,), (None,), (None,), (None,), (None,), (None,), (None,), (None,), (None,), (None,), (None,), (None,), (None,), (None,), (None,), (None,), (None,), (None,), (None,), (None,), (None,), (None,), (None,), (None,), (None,), (None,), (None,), (None,), (None,), (None,), (None,), (None,), (None,), (None,), (None,), (None,), (None,), (None,), (None,), (None,), (None,), (None,))'\n"
          ]
        },
        {
          "output_type": "stream",
          "name": "stdout",
          "text": [
            "Range Адресная программа!I3:I200 evaluated to '((None,), (None,), (None,), (None,), (None,), (None,), (None,), (None,), (None,), (None,), (None,), (None,), (None,), (None,), (None,), (None,), (None,), (None,), (None,), (None,), (None,), (None,), (None,), (None,), (None,), (None,), (None,), (None,), (None,), (None,), (None,), (None,), (None,), (None,), (None,), (None,), (None,), (None,), (None,), (None,), (None,), (None,), (None,), (None,), (None,), (None,), (None,), (None,), (None,), (None,), (None,), (None,), (None,), (None,), (None,), (None,), (None,), (None,), (None,), (None,), (None,), (None,), (None,), (None,), (None,), (None,), (None,), (None,), (None,), (None,), (None,), (None,), (None,), (None,), (None,), (None,), (None,), (None,), (None,), (None,), (None,), (None,), (None,), (None,), (None,), (None,), (None,), (None,), (None,), (None,), (None,), (None,), (None,), (None,), (None,), (None,), (None,), (None,), (None,), (None,), (None,), (None,), (None,), (None,), (None,), (None,), (None,), (None,), (None,), (None,), (None,), (None,), (None,), (None,), (None,), (None,), (None,), (None,), (None,), (None,), (None,), (None,), (None,), (None,), (None,), (None,), (None,), (None,), (None,), (None,), (None,), (None,), (None,), (None,), (None,), (None,), (None,), (None,), (None,), (None,), (None,), (None,), (None,), (None,), (None,), (None,), (None,), (None,), (None,), (None,), (None,), (None,), (None,), (None,), (None,), (None,), (None,), (None,), (None,), (None,), (None,), (None,), (None,), (None,), (None,), (None,), (None,), (None,), (None,), (None,), (None,), (None,), (None,), (None,), (None,), (None,), (None,), (None,), (None,), (None,), (None,), (None,), (None,), (None,), (None,), (None,), (None,), (None,), (None,), (None,), (None,), (None,), (None,), (None,), (None,), (None,), (None,), (None,))'\n"
          ]
        },
        {
          "output_type": "stream",
          "name": "stderr",
          "text": [
            "INFO:pycel:Range Адресная программа!I3:I200 evaluated to '((None,), (None,), (None,), (None,), (None,), (None,), (None,), (None,), (None,), (None,), (None,), (None,), (None,), (None,), (None,), (None,), (None,), (None,), (None,), (None,), (None,), (None,), (None,), (None,), (None,), (None,), (None,), (None,), (None,), (None,), (None,), (None,), (None,), (None,), (None,), (None,), (None,), (None,), (None,), (None,), (None,), (None,), (None,), (None,), (None,), (None,), (None,), (None,), (None,), (None,), (None,), (None,), (None,), (None,), (None,), (None,), (None,), (None,), (None,), (None,), (None,), (None,), (None,), (None,), (None,), (None,), (None,), (None,), (None,), (None,), (None,), (None,), (None,), (None,), (None,), (None,), (None,), (None,), (None,), (None,), (None,), (None,), (None,), (None,), (None,), (None,), (None,), (None,), (None,), (None,), (None,), (None,), (None,), (None,), (None,), (None,), (None,), (None,), (None,), (None,), (None,), (None,), (None,), (None,), (None,), (None,), (None,), (None,), (None,), (None,), (None,), (None,), (None,), (None,), (None,), (None,), (None,), (None,), (None,), (None,), (None,), (None,), (None,), (None,), (None,), (None,), (None,), (None,), (None,), (None,), (None,), (None,), (None,), (None,), (None,), (None,), (None,), (None,), (None,), (None,), (None,), (None,), (None,), (None,), (None,), (None,), (None,), (None,), (None,), (None,), (None,), (None,), (None,), (None,), (None,), (None,), (None,), (None,), (None,), (None,), (None,), (None,), (None,), (None,), (None,), (None,), (None,), (None,), (None,), (None,), (None,), (None,), (None,), (None,), (None,), (None,), (None,), (None,), (None,), (None,), (None,), (None,), (None,), (None,), (None,), (None,), (None,), (None,), (None,), (None,), (None,), (None,), (None,), (None,), (None,), (None,), (None,), (None,))'\n"
          ]
        },
        {
          "output_type": "stream",
          "name": "stdout",
          "text": [
            "Range АА_методология!C16:C52 evaluated to '((0,), (None,), (None,), (None,), (None,), (None,), (None,), (None,), (None,), (None,), (None,), (None,), (None,), (None,), (None,), (None,), (None,), (None,), (None,), (None,), (None,), (None,), (None,), (None,), (None,), (None,), (None,), (None,), (None,), (None,), (None,), (None,), (None,), (None,), (None,), (None,), (None,))'\n"
          ]
        },
        {
          "output_type": "stream",
          "name": "stderr",
          "text": [
            "INFO:pycel:Range АА_методология!C16:C52 evaluated to '((0,), (None,), (None,), (None,), (None,), (None,), (None,), (None,), (None,), (None,), (None,), (None,), (None,), (None,), (None,), (None,), (None,), (None,), (None,), (None,), (None,), (None,), (None,), (None,), (None,), (None,), (None,), (None,), (None,), (None,), (None,), (None,), (None,), (None,), (None,), (None,), (None,))'\n"
          ]
        },
        {
          "output_type": "stream",
          "name": "stdout",
          "text": [
            "Range Отток B2C!N89:N129 evaluated to '((0.18146083821756887,), (0.18026215826384076,), (0.13239639076485002,), (0.18988554726223972,), (0.1597645860371902,), (0.1671116332395781,), (0.16953377242828702,), (0.1613345695131861,), (0.101,), (0.10031221811305784,), (0.14670228227814255,), (0.18537208829602672,), (0.16345221816153818,), (0.17925280390811446,), (0.15177161119140076,), (0.14446477274936645,), (0.1310994808916781,), (0.14762500731269518,), (0.13713799805871274,), (0.16994993448773388,), (0.15222934290207685,), (0.15442461624405174,), (0.181649282856333,), (0.18013859011904004,), (0.12009304919722998,), (0.16756869745479933,), (0.16732267407309134,), (0.18516528911350905,), (0.12024739256076994,), (0.1594948310251,), (0.16456157332249763,), (0.14823217941154715,), (0.17950129555025163,), (0.19176231570105834,), (0.15097494069710946,), (0.18742748729444772,), (0.1737911340551146,), (0.18018107493705363,), (0.14832420194299897,), (0.11474730822113086,), (0.1985,))'\n"
          ]
        },
        {
          "output_type": "stream",
          "name": "stderr",
          "text": [
            "INFO:pycel:Range Отток B2C!N89:N129 evaluated to '((0.18146083821756887,), (0.18026215826384076,), (0.13239639076485002,), (0.18988554726223972,), (0.1597645860371902,), (0.1671116332395781,), (0.16953377242828702,), (0.1613345695131861,), (0.101,), (0.10031221811305784,), (0.14670228227814255,), (0.18537208829602672,), (0.16345221816153818,), (0.17925280390811446,), (0.15177161119140076,), (0.14446477274936645,), (0.1310994808916781,), (0.14762500731269518,), (0.13713799805871274,), (0.16994993448773388,), (0.15222934290207685,), (0.15442461624405174,), (0.181649282856333,), (0.18013859011904004,), (0.12009304919722998,), (0.16756869745479933,), (0.16732267407309134,), (0.18516528911350905,), (0.12024739256076994,), (0.1594948310251,), (0.16456157332249763,), (0.14823217941154715,), (0.17950129555025163,), (0.19176231570105834,), (0.15097494069710946,), (0.18742748729444772,), (0.1737911340551146,), (0.18018107493705363,), (0.14832420194299897,), (0.11474730822113086,), (0.1985,))'\n"
          ]
        },
        {
          "output_type": "stream",
          "name": "stdout",
          "text": [
            "Range Отток B2C!N347:N387 evaluated to '((0.08000000000000002,), (0.08000000000000002,), (0.08,), (0.08000000000000002,), (0.08000000000000002,), (0.08,), (0.08,), (0.08,), (0.08,), (0.08,), (0.08000000000000002,), (0.08,), (0.07999999999999999,), (0.07999999999999999,), (0.08,), (0.08000000000000002,), (0.08,), (0.08,), (0.08000000000000002,), (0.08000000000000002,), (0.08,), (0.08,), (0.07999999999999999,), (0.08,), (0.08,), (0.08,), (0.08000000000000002,), (0.08000000000000003,), (0.08000000000000003,), (0.08000000000000003,), (0.08000000000000003,), (0.08000000000000003,), (0.08000000000000003,), (0.08000000000000003,), (0.08000000000000003,), (0.08000000000000003,), (0.08000000000000003,), (0.08000000000000003,), (0.08000000000000003,), (0.08000000000000003,), (0.08000000000000003,))'\n"
          ]
        },
        {
          "output_type": "stream",
          "name": "stderr",
          "text": [
            "INFO:pycel:Range Отток B2C!N347:N387 evaluated to '((0.08000000000000002,), (0.08000000000000002,), (0.08,), (0.08000000000000002,), (0.08000000000000002,), (0.08,), (0.08,), (0.08,), (0.08,), (0.08,), (0.08000000000000002,), (0.08,), (0.07999999999999999,), (0.07999999999999999,), (0.08,), (0.08000000000000002,), (0.08,), (0.08,), (0.08000000000000002,), (0.08000000000000002,), (0.08,), (0.08,), (0.07999999999999999,), (0.08,), (0.08,), (0.08,), (0.08000000000000002,), (0.08000000000000003,), (0.08000000000000003,), (0.08000000000000003,), (0.08000000000000003,), (0.08000000000000003,), (0.08000000000000003,), (0.08000000000000003,), (0.08000000000000003,), (0.08000000000000003,), (0.08000000000000003,), (0.08000000000000003,), (0.08000000000000003,), (0.08000000000000003,), (0.08000000000000003,))'\n"
          ]
        },
        {
          "output_type": "stream",
          "name": "stdout",
          "text": [
            "Range Отток B2C!B347:M347 evaluated to '((0.0057171414292853575, 0.007556221889055473, 0.006036981509245377, 0.0063968015992004, 0.00895552223888056, 0.011554222888555723, 0.01211394302848576, 0.00495752123938031, 0.0007596201899050475, 0.004757621189405298, 0.006196901549225388, 0.004997501249375313),)'\n"
          ]
        },
        {
          "output_type": "stream",
          "name": "stderr",
          "text": [
            "INFO:pycel:Range Отток B2C!B347:M347 evaluated to '((0.0057171414292853575, 0.007556221889055473, 0.006036981509245377, 0.0063968015992004, 0.00895552223888056, 0.011554222888555723, 0.01211394302848576, 0.00495752123938031, 0.0007596201899050475, 0.004757621189405298, 0.006196901549225388, 0.004997501249375313),)'\n"
          ]
        },
        {
          "output_type": "stream",
          "name": "stdout",
          "text": [
            "Range Отток B2C!B348:M348 evaluated to '((0.0076241252915694785, 0.007704098633788739, 0.007464178607130957, 0.007490836387870709, 0.007970676441186273, 0.009196934355214929, 0.010689770076641118, 0.0038653782072642453, 0.0017594135288237257, 0.0038653782072642453, 0.0062379206931023005, 0.006131289570143286),)'\n"
          ]
        },
        {
          "output_type": "stream",
          "name": "stderr",
          "text": [
            "INFO:pycel:Range Отток B2C!B348:M348 evaluated to '((0.0076241252915694785, 0.007704098633788739, 0.007464178607130957, 0.007490836387870709, 0.007970676441186273, 0.009196934355214929, 0.010689770076641118, 0.0038653782072642453, 0.0017594135288237257, 0.0038653782072642453, 0.0062379206931023005, 0.006131289570143286),)'\n"
          ]
        },
        {
          "output_type": "stream",
          "name": "stdout",
          "text": [
            "Range Отток B2C!B349:M349 evaluated to '((0.00648, 0.008, 0.00624, 0.00664, 0.00792, 0.01168, 0.012, 0.00472, 0.00096, 0.00544, 0.00504, 0.00488),)'\n"
          ]
        },
        {
          "output_type": "stream",
          "name": "stderr",
          "text": [
            "INFO:pycel:Range Отток B2C!B349:M349 evaluated to '((0.00648, 0.008, 0.00624, 0.00664, 0.00792, 0.01168, 0.012, 0.00472, 0.00096, 0.00544, 0.00504, 0.00488),)'\n"
          ]
        },
        {
          "output_type": "stream",
          "name": "stdout",
          "text": [
            "Range Отток B2C!B350:M350 evaluated to '((0.006320000000000001, 0.006280000000000001, 0.006440000000000001, 0.007760000000000001, 0.007920000000000002, 0.008880000000000002, 0.010760000000000004, 0.005360000000000002, 0.0030400000000000006, 0.0048400000000000006, 0.006240000000000002, 0.006160000000000001),)'\n"
          ]
        },
        {
          "output_type": "stream",
          "name": "stderr",
          "text": [
            "INFO:pycel:Range Отток B2C!B350:M350 evaluated to '((0.006320000000000001, 0.006280000000000001, 0.006440000000000001, 0.007760000000000001, 0.007920000000000002, 0.008880000000000002, 0.010760000000000004, 0.005360000000000002, 0.0030400000000000006, 0.0048400000000000006, 0.006240000000000002, 0.006160000000000001),)'\n"
          ]
        },
        {
          "output_type": "stream",
          "name": "stdout",
          "text": [
            "Range Отток B2C!B351:M351 evaluated to '((0.0064064064064064076, 0.006886886886886887, 0.006966966966966968, 0.007447447447447448, 0.007687687687687689, 0.00800800800800801, 0.00872872872872873, 0.006326326326326327, 0.0052852852852852865, 0.0052852852852852865, 0.005605605605605606, 0.005365365365365367),)'\n"
          ]
        },
        {
          "output_type": "stream",
          "name": "stderr",
          "text": [
            "INFO:pycel:Range Отток B2C!B351:M351 evaluated to '((0.0064064064064064076, 0.006886886886886887, 0.006966966966966968, 0.007447447447447448, 0.007687687687687689, 0.00800800800800801, 0.00872872872872873, 0.006326326326326327, 0.0052852852852852865, 0.0052852852852852865, 0.005605605605605606, 0.005365365365365367),)'\n"
          ]
        },
        {
          "output_type": "stream",
          "name": "stdout",
          "text": [
            "Range Отток B2C!B352:M352 evaluated to '((0.007272727272727273, 0.007632367632367632, 0.007072927072927074, 0.007712287712287713, 0.007072927072927074, 0.007872127872127873, 0.00927072927072927, 0.005034965034965036, 0.004035964035964037, 0.006513486513486514, 0.004955044955044955, 0.0055544455544455544),)'\n"
          ]
        },
        {
          "output_type": "stream",
          "name": "stderr",
          "text": [
            "INFO:pycel:Range Отток B2C!B352:M352 evaluated to '((0.007272727272727273, 0.007632367632367632, 0.007072927072927074, 0.007712287712287713, 0.007072927072927074, 0.007872127872127873, 0.00927072927072927, 0.005034965034965036, 0.004035964035964037, 0.006513486513486514, 0.004955044955044955, 0.0055544455544455544),)'\n"
          ]
        },
        {
          "output_type": "stream",
          "name": "stdout",
          "text": [
            "Range Отток B2C!B353:M353 evaluated to '((0.0064735264735264735, 0.008311688311688312, 0.008231768231768233, 0.007272727272727273, 0.007592407592407593, 0.007272727272727273, 0.007992007992007992, 0.0054345654345654346, 0.0043956043956043965, 0.006073926073926075, 0.005594405594405595, 0.0053546453546453555),)'\n"
          ]
        },
        {
          "output_type": "stream",
          "name": "stderr",
          "text": [
            "INFO:pycel:Range Отток B2C!B353:M353 evaluated to '((0.0064735264735264735, 0.008311688311688312, 0.008231768231768233, 0.007272727272727273, 0.007592407592407593, 0.007272727272727273, 0.007992007992007992, 0.0054345654345654346, 0.0043956043956043965, 0.006073926073926075, 0.005594405594405595, 0.0053546453546453555),)'\n"
          ]
        },
        {
          "output_type": "stream",
          "name": "stdout",
          "text": [
            "Range Отток B2C!B354:M354 evaluated to '((0.006796601699150424, 0.006956521739130435, 0.007076461769115443, 0.006956521739130435, 0.00783608195902049, 0.009595202398800599, 0.009995002498750625, 0.006636681659170415, 0.002518740629685158, 0.004877561219390304, 0.004997501249375313, 0.005757121439280361),)'\n"
          ]
        },
        {
          "output_type": "stream",
          "name": "stderr",
          "text": [
            "INFO:pycel:Range Отток B2C!B354:M354 evaluated to '((0.006796601699150424, 0.006956521739130435, 0.007076461769115443, 0.006956521739130435, 0.00783608195902049, 0.009595202398800599, 0.009995002498750625, 0.006636681659170415, 0.002518740629685158, 0.004877561219390304, 0.004997501249375313, 0.005757121439280361),)'\n"
          ]
        },
        {
          "output_type": "stream",
          "name": "stdout",
          "text": [
            "Range Отток B2C!B355:M355 evaluated to '((0.0072, 0.008, 0.008, 0.00684, 0.00716, 0.00804, 0.00988, 0.00556, 0.00268, 0.00492, 0.005720000000000001, 0.006),)'\n"
          ]
        },
        {
          "output_type": "stream",
          "name": "stderr",
          "text": [
            "INFO:pycel:Range Отток B2C!B355:M355 evaluated to '((0.0072, 0.008, 0.008, 0.00684, 0.00716, 0.00804, 0.00988, 0.00556, 0.00268, 0.00492, 0.005720000000000001, 0.006),)'\n"
          ]
        },
        {
          "output_type": "stream",
          "name": "stdout",
          "text": [
            "Range Отток B2C!B356:M356 evaluated to '((0.00847152847152847, 0.004875124875124874, 0.007072927072927072, 0.007312687312687312, 0.006353646353646353, 0.010269730269730269, 0.012147852147852148, 0.006353646353646353, 0.001678321678321678, 0.004755244755244754, 0.0056743256743256735, 0.005034965034965034),)'\n"
          ]
        },
        {
          "output_type": "stream",
          "name": "stderr",
          "text": [
            "INFO:pycel:Range Отток B2C!B356:M356 evaluated to '((0.00847152847152847, 0.004875124875124874, 0.007072927072927072, 0.007312687312687312, 0.006353646353646353, 0.010269730269730269, 0.012147852147852148, 0.006353646353646353, 0.001678321678321678, 0.004755244755244754, 0.0056743256743256735, 0.005034965034965034),)'\n"
          ]
        },
        {
          "output_type": "stream",
          "name": "stdout",
          "text": [
            "Range Отток B2C!B357:M357 evaluated to '((0.006123061530765384, 0.006763381690845424, 0.006083041520760382, 0.006763381690845424, 0.007643821910955479, 0.009924962481240621, 0.010405202601300652, 0.005242621310655329, 0.0025612806403201606, 0.006083041520760382, 0.006563281640820411, 0.005842921460730366),)'\n"
          ]
        },
        {
          "output_type": "stream",
          "name": "stderr",
          "text": [
            "INFO:pycel:Range Отток B2C!B357:M357 evaluated to '((0.006123061530765384, 0.006763381690845424, 0.006083041520760382, 0.006763381690845424, 0.007643821910955479, 0.009924962481240621, 0.010405202601300652, 0.005242621310655329, 0.0025612806403201606, 0.006083041520760382, 0.006563281640820411, 0.005842921460730366),)'\n"
          ]
        },
        {
          "output_type": "stream",
          "name": "stdout",
          "text": [
            "Range Отток B2C!B358:M358 evaluated to '((0.00664, 0.00752, 0.00772, 0.00736, 0.00784, 0.00736, 0.00784, 0.0054, 0.003, 0.00396, 0.00776, 0.0076),)'\n"
          ]
        },
        {
          "output_type": "stream",
          "name": "stderr",
          "text": [
            "INFO:pycel:Range Отток B2C!B358:M358 evaluated to '((0.00664, 0.00752, 0.00772, 0.00736, 0.00784, 0.00736, 0.00784, 0.0054, 0.003, 0.00396, 0.00776, 0.0076),)'\n"
          ]
        },
        {
          "output_type": "stream",
          "name": "stdout",
          "text": [
            "Range Отток B2C!B359:M359 evaluated to '((0.0076361819090454775, 0.00655672163918041, 0.0063568215892053975, 0.006116941529235383, 0.006276861569215393, 0.007436281859070465, 0.010074962518740632, 0.0057971014492753615, 0.0020789605197401298, 0.007076461769115443, 0.00783608195902049, 0.006756621689155424),)'\n"
          ]
        },
        {
          "output_type": "stream",
          "name": "stderr",
          "text": [
            "INFO:pycel:Range Отток B2C!B359:M359 evaluated to '((0.0076361819090454775, 0.00655672163918041, 0.0063568215892053975, 0.006116941529235383, 0.006276861569215393, 0.007436281859070465, 0.010074962518740632, 0.0057971014492753615, 0.0020789605197401298, 0.007076461769115443, 0.00783608195902049, 0.006756621689155424),)'\n"
          ]
        },
        {
          "output_type": "stream",
          "name": "stdout",
          "text": [
            "Range Отток B2C!B360:M360 evaluated to '((0.0066433216608304145, 0.007123561780890445, 0.006923461730865432, 0.0066433216608304145, 0.008404202101050525, 0.009444722361180592, 0.011685842921460729, 0.005402701350675338, 0.0014007003501750877, 0.00464232116058029, 0.0058429214607303645, 0.0058429214607303645),)'\n"
          ]
        },
        {
          "output_type": "stream",
          "name": "stderr",
          "text": [
            "INFO:pycel:Range Отток B2C!B360:M360 evaluated to '((0.0066433216608304145, 0.007123561780890445, 0.006923461730865432, 0.0066433216608304145, 0.008404202101050525, 0.009444722361180592, 0.011685842921460729, 0.005402701350675338, 0.0014007003501750877, 0.00464232116058029, 0.0058429214607303645, 0.0058429214607303645),)'\n"
          ]
        },
        {
          "output_type": "stream",
          "name": "stdout",
          "text": [
            "Range Отток B2C!B361:M361 evaluated to '((0.00728, 0.007039999999999999, 0.0062, 0.00636, 0.0074800000000000005, 0.00872, 0.011279999999999998, 0.00732, 0.00272, 0.00532, 0.005159999999999999, 0.00512),)'\n"
          ]
        },
        {
          "output_type": "stream",
          "name": "stderr",
          "text": [
            "INFO:pycel:Range Отток B2C!B361:M361 evaluated to '((0.00728, 0.007039999999999999, 0.0062, 0.00636, 0.0074800000000000005, 0.00872, 0.011279999999999998, 0.00732, 0.00272, 0.00532, 0.005159999999999999, 0.00512),)'\n"
          ]
        },
        {
          "output_type": "stream",
          "name": "stdout",
          "text": [
            "Range Отток B2C!B362:M362 evaluated to '((0.006880000000000001, 0.007640000000000002, 0.006280000000000001, 0.006400000000000001, 0.008120000000000002, 0.009840000000000002, 0.011000000000000001, 0.005400000000000001, 0.0028400000000000005, 0.004400000000000001, 0.005600000000000001, 0.005600000000000001),)'\n"
          ]
        },
        {
          "output_type": "stream",
          "name": "stderr",
          "text": [
            "INFO:pycel:Range Отток B2C!B362:M362 evaluated to '((0.006880000000000001, 0.007640000000000002, 0.006280000000000001, 0.006400000000000001, 0.008120000000000002, 0.009840000000000002, 0.011000000000000001, 0.005400000000000001, 0.0028400000000000005, 0.004400000000000001, 0.005600000000000001, 0.005600000000000001),)'\n"
          ]
        },
        {
          "output_type": "stream",
          "name": "stdout",
          "text": [
            "Range Отток B2C!B363:M363 evaluated to '((0.00644, 0.00688, 0.00696, 0.00744, 0.00768, 0.008, 0.00876, 0.00632, 0.00528, 0.00532, 0.00556, 0.00536),)'\n"
          ]
        },
        {
          "output_type": "stream",
          "name": "stderr",
          "text": [
            "INFO:pycel:Range Отток B2C!B363:M363 evaluated to '((0.00644, 0.00688, 0.00696, 0.00744, 0.00768, 0.008, 0.00876, 0.00632, 0.00528, 0.00532, 0.00556, 0.00536),)'\n"
          ]
        },
        {
          "output_type": "stream",
          "name": "stdout",
          "text": [
            "Range Отток B2C!B364:M364 evaluated to '((0.00888, 0.00736, 0.00632, 0.006999999999999999, 0.00936, 0.00988, 0.0122, 0.0048, -0.00012, 0.00376, 0.00548, 0.00508),)'\n"
          ]
        },
        {
          "output_type": "stream",
          "name": "stderr",
          "text": [
            "INFO:pycel:Range Отток B2C!B364:M364 evaluated to '((0.00888, 0.00736, 0.00632, 0.006999999999999999, 0.00936, 0.00988, 0.0122, 0.0048, -0.00012, 0.00376, 0.00548, 0.00508),)'\n"
          ]
        },
        {
          "output_type": "stream",
          "name": "stdout",
          "text": [
            "Range Отток B2C!B365:M365 evaluated to '((0.006520000000000001, 0.006000000000000001, 0.005960000000000001, 0.006760000000000002, 0.008080000000000002, 0.010120000000000002, 0.010920000000000001, 0.0062000000000000015, 0.002880000000000001, 0.005200000000000001, 0.005920000000000001, 0.005440000000000001),)'\n"
          ]
        },
        {
          "output_type": "stream",
          "name": "stderr",
          "text": [
            "INFO:pycel:Range Отток B2C!B365:M365 evaluated to '((0.006520000000000001, 0.006000000000000001, 0.005960000000000001, 0.006760000000000002, 0.008080000000000002, 0.010120000000000002, 0.010920000000000001, 0.0062000000000000015, 0.002880000000000001, 0.005200000000000001, 0.005920000000000001, 0.005440000000000001),)'\n"
          ]
        },
        {
          "output_type": "stream",
          "name": "stdout",
          "text": [
            "Range Отток B2C!B366:M366 evaluated to '((0.006996501749125439, 0.006476761619190406, 0.005957021489255373, 0.006876561719140431, 0.00811594202898551, 0.008635682158920542, 0.01087456271864068, 0.005677161419290357, 0.0031184407796101955, 0.004917541229385309, 0.006196901549225388, 0.006156921539230385),)'\n"
          ]
        },
        {
          "output_type": "stream",
          "name": "stderr",
          "text": [
            "INFO:pycel:Range Отток B2C!B366:M366 evaluated to '((0.006996501749125439, 0.006476761619190406, 0.005957021489255373, 0.006876561719140431, 0.00811594202898551, 0.008635682158920542, 0.01087456271864068, 0.005677161419290357, 0.0031184407796101955, 0.004917541229385309, 0.006196901549225388, 0.006156921539230385),)'\n"
          ]
        },
        {
          "output_type": "stream",
          "name": "stdout",
          "text": [
            "Range Отток B2C!B367:M367 evaluated to '((0.007413333333333333, 0.0073599999999999985, 0.007306666666666666, 0.007013333333333332, 0.0076, 0.008666666666666666, 0.010186666666666667, 0.005279999999999999, 0.0024266666666666664, 0.004906666666666667, 0.005893333333333334, 0.005946666666666667),)'\n"
          ]
        },
        {
          "output_type": "stream",
          "name": "stderr",
          "text": [
            "INFO:pycel:Range Отток B2C!B367:M367 evaluated to '((0.007413333333333333, 0.0073599999999999985, 0.007306666666666666, 0.007013333333333332, 0.0076, 0.008666666666666666, 0.010186666666666667, 0.005279999999999999, 0.0024266666666666664, 0.004906666666666667, 0.005893333333333334, 0.005946666666666667),)'\n"
          ]
        },
        {
          "output_type": "stream",
          "name": "stdout",
          "text": [
            "Range Отток B2C!B368:M368 evaluated to '((0.006756621689155422, 0.007476261869065466, 0.007116441779110443, 0.006116941529235381, 0.009035482258870563, 0.009435282358820588, 0.011634182908545725, 0.005997001499250374, 0.0011994002998500747, 0.005037481259370314, 0.005157421289355321, 0.005037481259370314),)'\n"
          ]
        },
        {
          "output_type": "stream",
          "name": "stderr",
          "text": [
            "INFO:pycel:Range Отток B2C!B368:M368 evaluated to '((0.006756621689155422, 0.007476261869065466, 0.007116441779110443, 0.006116941529235381, 0.009035482258870563, 0.009435282358820588, 0.011634182908545725, 0.005997001499250374, 0.0011994002998500747, 0.005037481259370314, 0.005157421289355321, 0.005037481259370314),)'\n"
          ]
        },
        {
          "output_type": "stream",
          "name": "stdout",
          "text": [
            "Range Отток B2C!B369:M369 evaluated to '((0.008844422211105553, 0.008124062031015507, 0.006843421710855427, 0.006843421710855427, 0.0064432216108054035, 0.008124062031015507, 0.00720360180090045, 0.005562781390695347, 0.0024812406203101552, 0.005922961480740369, 0.007123561780890445, 0.006483241620810405),)'\n"
          ]
        },
        {
          "output_type": "stream",
          "name": "stderr",
          "text": [
            "INFO:pycel:Range Отток B2C!B369:M369 evaluated to '((0.008844422211105553, 0.008124062031015507, 0.006843421710855427, 0.006843421710855427, 0.0064432216108054035, 0.008124062031015507, 0.00720360180090045, 0.005562781390695347, 0.0024812406203101552, 0.005922961480740369, 0.007123561780890445, 0.006483241620810405),)'\n"
          ]
        },
        {
          "output_type": "stream",
          "name": "stdout",
          "text": [
            "Range Отток B2C!B370:M370 evaluated to '((0.006506666666666667, 0.006773333333333334, 0.006293333333333334, 0.0074666666666666675, 0.006293333333333334, 0.007013333333333334, 0.011866666666666668, 0.007013333333333334, 0.0035466666666666667, 0.0054933333333333344, 0.00616, 0.005573333333333334),)'\n"
          ]
        },
        {
          "output_type": "stream",
          "name": "stderr",
          "text": [
            "INFO:pycel:Range Отток B2C!B370:M370 evaluated to '((0.006506666666666667, 0.006773333333333334, 0.006293333333333334, 0.0074666666666666675, 0.006293333333333334, 0.007013333333333334, 0.011866666666666668, 0.007013333333333334, 0.0035466666666666667, 0.0054933333333333344, 0.00616, 0.005573333333333334),)'\n"
          ]
        },
        {
          "output_type": "stream",
          "name": "stdout",
          "text": [
            "Range Отток B2C!B371:M371 evaluated to '((0.00719640179910045, 0.0069965017491254375, 0.006636681659170415, 0.00911544227886057, 0.01039480259870065, 0.011434282858570715, 0.00271864067966017, 0.005557221389305347, 0.004277861069465268, 0.004597701149425287, 0.0059970014992503755, 0.0050774612693653175),)'\n"
          ]
        },
        {
          "output_type": "stream",
          "name": "stderr",
          "text": [
            "INFO:pycel:Range Отток B2C!B371:M371 evaluated to '((0.00719640179910045, 0.0069965017491254375, 0.006636681659170415, 0.00911544227886057, 0.01039480259870065, 0.011434282858570715, 0.00271864067966017, 0.005557221389305347, 0.004277861069465268, 0.004597701149425287, 0.0059970014992503755, 0.0050774612693653175),)'\n"
          ]
        },
        {
          "output_type": "stream",
          "name": "stdout",
          "text": [
            "Range Отток B2C!B372:M372 evaluated to '((0.00664, 0.00672, 0.00584, 0.00696, 0.010319999999999998, 0.00952, 0.01016, 0.0048, 0.0032, 0.00496, 0.00576, 0.00512),)'\n"
          ]
        },
        {
          "output_type": "stream",
          "name": "stderr",
          "text": [
            "INFO:pycel:Range Отток B2C!B372:M372 evaluated to '((0.00664, 0.00672, 0.00584, 0.00696, 0.010319999999999998, 0.00952, 0.01016, 0.0048, 0.0032, 0.00496, 0.00576, 0.00512),)'\n"
          ]
        },
        {
          "output_type": "stream",
          "name": "stdout",
          "text": [
            "Range Отток B2C!B373:M373 evaluated to '((0.007840961627369395, 0.006398520573277855, 0.005325936199722607, 0.006028663892741563, 0.0074711049468331025, 0.009949144706426261, 0.012094313453536754, 0.006028663892741563, 0.006028663892741563, 0.0032177531206657424, 0.004993065187239945, 0.004623208506703653),)'\n"
          ]
        },
        {
          "output_type": "stream",
          "name": "stderr",
          "text": [
            "INFO:pycel:Range Отток B2C!B373:M373 evaluated to '((0.007840961627369395, 0.006398520573277855, 0.005325936199722607, 0.006028663892741563, 0.0074711049468331025, 0.009949144706426261, 0.012094313453536754, 0.006028663892741563, 0.006028663892741563, 0.0032177531206657424, 0.004993065187239945, 0.004623208506703653),)'\n"
          ]
        },
        {
          "output_type": "stream",
          "name": "stdout",
          "text": [
            "Range Отток B2C!B374:M374 evaluated to '((0.00848282760920307, 0.004908302767589197, 0.007069023007669224, 0.007335778592864288, 0.0063487829276425494, 0.010270090030010006, 0.01213737912637546, 0.0063487829276425494, 0.0016538846282094033, 0.0047749249749916645, 0.00565521840613538, 0.005015005001667223),)'\n"
          ]
        },
        {
          "output_type": "stream",
          "name": "stderr",
          "text": [
            "INFO:pycel:Range Отток B2C!B374:M374 evaluated to '((0.00848282760920307, 0.004908302767589197, 0.007069023007669224, 0.007335778592864288, 0.0063487829276425494, 0.010270090030010006, 0.01213737912637546, 0.0063487829276425494, 0.0016538846282094033, 0.0047749249749916645, 0.00565521840613538, 0.005015005001667223),)'\n"
          ]
        },
        {
          "output_type": "stream",
          "name": "stdout",
          "text": [
            "Range Отток B2C!B375:M375 evaluated to '((0.00848282760920307, 0.004908302767589197, 0.007069023007669224, 0.007335778592864288, 0.0063487829276425494, 0.010270090030010006, 0.01213737912637546, 0.0063487829276425494, 0.0016538846282094033, 0.0047749249749916645, 0.00565521840613538, 0.005015005001667223),)'\n"
          ]
        },
        {
          "output_type": "stream",
          "name": "stderr",
          "text": [
            "INFO:pycel:Range Отток B2C!B375:M375 evaluated to '((0.00848282760920307, 0.004908302767589197, 0.007069023007669224, 0.007335778592864288, 0.0063487829276425494, 0.010270090030010006, 0.01213737912637546, 0.0063487829276425494, 0.0016538846282094033, 0.0047749249749916645, 0.00565521840613538, 0.005015005001667223),)'\n"
          ]
        },
        {
          "output_type": "stream",
          "name": "stdout",
          "text": [
            "Range Отток B2C!B376:M376 evaluated to '((0.00848282760920307, 0.004908302767589197, 0.007069023007669224, 0.007335778592864288, 0.0063487829276425494, 0.010270090030010006, 0.01213737912637546, 0.0063487829276425494, 0.0016538846282094033, 0.0047749249749916645, 0.00565521840613538, 0.005015005001667223),)'\n"
          ]
        },
        {
          "output_type": "stream",
          "name": "stderr",
          "text": [
            "INFO:pycel:Range Отток B2C!B376:M376 evaluated to '((0.00848282760920307, 0.004908302767589197, 0.007069023007669224, 0.007335778592864288, 0.0063487829276425494, 0.010270090030010006, 0.01213737912637546, 0.0063487829276425494, 0.0016538846282094033, 0.0047749249749916645, 0.00565521840613538, 0.005015005001667223),)'\n"
          ]
        },
        {
          "output_type": "stream",
          "name": "stdout",
          "text": [
            "Range Отток B2C!B377:M377 evaluated to '((0.00848282760920307, 0.004908302767589197, 0.007069023007669224, 0.007335778592864288, 0.0063487829276425494, 0.010270090030010006, 0.01213737912637546, 0.0063487829276425494, 0.0016538846282094033, 0.0047749249749916645, 0.00565521840613538, 0.005015005001667223),)'\n"
          ]
        },
        {
          "output_type": "stream",
          "name": "stderr",
          "text": [
            "INFO:pycel:Range Отток B2C!B377:M377 evaluated to '((0.00848282760920307, 0.004908302767589197, 0.007069023007669224, 0.007335778592864288, 0.0063487829276425494, 0.010270090030010006, 0.01213737912637546, 0.0063487829276425494, 0.0016538846282094033, 0.0047749249749916645, 0.00565521840613538, 0.005015005001667223),)'\n"
          ]
        },
        {
          "output_type": "stream",
          "name": "stdout",
          "text": [
            "Range Отток B2C!B378:M378 evaluated to '((0.00848282760920307, 0.004908302767589197, 0.007069023007669224, 0.007335778592864288, 0.0063487829276425494, 0.010270090030010006, 0.01213737912637546, 0.0063487829276425494, 0.0016538846282094033, 0.0047749249749916645, 0.00565521840613538, 0.005015005001667223),)'\n"
          ]
        },
        {
          "output_type": "stream",
          "name": "stderr",
          "text": [
            "INFO:pycel:Range Отток B2C!B378:M378 evaluated to '((0.00848282760920307, 0.004908302767589197, 0.007069023007669224, 0.007335778592864288, 0.0063487829276425494, 0.010270090030010006, 0.01213737912637546, 0.0063487829276425494, 0.0016538846282094033, 0.0047749249749916645, 0.00565521840613538, 0.005015005001667223),)'\n"
          ]
        },
        {
          "output_type": "stream",
          "name": "stdout",
          "text": [
            "Range Отток B2C!B379:M379 evaluated to '((0.00848282760920307, 0.004908302767589197, 0.007069023007669224, 0.007335778592864288, 0.0063487829276425494, 0.010270090030010006, 0.01213737912637546, 0.0063487829276425494, 0.0016538846282094033, 0.0047749249749916645, 0.00565521840613538, 0.005015005001667223),)'\n"
          ]
        },
        {
          "output_type": "stream",
          "name": "stderr",
          "text": [
            "INFO:pycel:Range Отток B2C!B379:M379 evaluated to '((0.00848282760920307, 0.004908302767589197, 0.007069023007669224, 0.007335778592864288, 0.0063487829276425494, 0.010270090030010006, 0.01213737912637546, 0.0063487829276425494, 0.0016538846282094033, 0.0047749249749916645, 0.00565521840613538, 0.005015005001667223),)'\n"
          ]
        },
        {
          "output_type": "stream",
          "name": "stdout",
          "text": [
            "Range Отток B2C!B380:M380 evaluated to '((0.00848282760920307, 0.004908302767589197, 0.007069023007669224, 0.007335778592864288, 0.0063487829276425494, 0.010270090030010006, 0.01213737912637546, 0.0063487829276425494, 0.0016538846282094033, 0.0047749249749916645, 0.00565521840613538, 0.005015005001667223),)'\n"
          ]
        },
        {
          "output_type": "stream",
          "name": "stderr",
          "text": [
            "INFO:pycel:Range Отток B2C!B380:M380 evaluated to '((0.00848282760920307, 0.004908302767589197, 0.007069023007669224, 0.007335778592864288, 0.0063487829276425494, 0.010270090030010006, 0.01213737912637546, 0.0063487829276425494, 0.0016538846282094033, 0.0047749249749916645, 0.00565521840613538, 0.005015005001667223),)'\n"
          ]
        },
        {
          "output_type": "stream",
          "name": "stdout",
          "text": [
            "Range Отток B2C!B381:M381 evaluated to '((0.00848282760920307, 0.004908302767589197, 0.007069023007669224, 0.007335778592864288, 0.0063487829276425494, 0.010270090030010006, 0.01213737912637546, 0.0063487829276425494, 0.0016538846282094033, 0.0047749249749916645, 0.00565521840613538, 0.005015005001667223),)'\n"
          ]
        },
        {
          "output_type": "stream",
          "name": "stderr",
          "text": [
            "INFO:pycel:Range Отток B2C!B381:M381 evaluated to '((0.00848282760920307, 0.004908302767589197, 0.007069023007669224, 0.007335778592864288, 0.0063487829276425494, 0.010270090030010006, 0.01213737912637546, 0.0063487829276425494, 0.0016538846282094033, 0.0047749249749916645, 0.00565521840613538, 0.005015005001667223),)'\n"
          ]
        },
        {
          "output_type": "stream",
          "name": "stdout",
          "text": [
            "Range Отток B2C!B382:M382 evaluated to '((0.00848282760920307, 0.004908302767589197, 0.007069023007669224, 0.007335778592864288, 0.0063487829276425494, 0.010270090030010006, 0.01213737912637546, 0.0063487829276425494, 0.0016538846282094033, 0.0047749249749916645, 0.00565521840613538, 0.005015005001667223),)'\n"
          ]
        },
        {
          "output_type": "stream",
          "name": "stderr",
          "text": [
            "INFO:pycel:Range Отток B2C!B382:M382 evaluated to '((0.00848282760920307, 0.004908302767589197, 0.007069023007669224, 0.007335778592864288, 0.0063487829276425494, 0.010270090030010006, 0.01213737912637546, 0.0063487829276425494, 0.0016538846282094033, 0.0047749249749916645, 0.00565521840613538, 0.005015005001667223),)'\n"
          ]
        },
        {
          "output_type": "stream",
          "name": "stdout",
          "text": [
            "Range Отток B2C!B383:M383 evaluated to '((0.00848282760920307, 0.004908302767589197, 0.007069023007669224, 0.007335778592864288, 0.0063487829276425494, 0.010270090030010006, 0.01213737912637546, 0.0063487829276425494, 0.0016538846282094033, 0.0047749249749916645, 0.00565521840613538, 0.005015005001667223),)'\n"
          ]
        },
        {
          "output_type": "stream",
          "name": "stderr",
          "text": [
            "INFO:pycel:Range Отток B2C!B383:M383 evaluated to '((0.00848282760920307, 0.004908302767589197, 0.007069023007669224, 0.007335778592864288, 0.0063487829276425494, 0.010270090030010006, 0.01213737912637546, 0.0063487829276425494, 0.0016538846282094033, 0.0047749249749916645, 0.00565521840613538, 0.005015005001667223),)'\n"
          ]
        },
        {
          "output_type": "stream",
          "name": "stdout",
          "text": [
            "Range Отток B2C!B384:M384 evaluated to '((0.00848282760920307, 0.004908302767589197, 0.007069023007669224, 0.007335778592864288, 0.0063487829276425494, 0.010270090030010006, 0.01213737912637546, 0.0063487829276425494, 0.0016538846282094033, 0.0047749249749916645, 0.00565521840613538, 0.005015005001667223),)'\n"
          ]
        },
        {
          "output_type": "stream",
          "name": "stderr",
          "text": [
            "INFO:pycel:Range Отток B2C!B384:M384 evaluated to '((0.00848282760920307, 0.004908302767589197, 0.007069023007669224, 0.007335778592864288, 0.0063487829276425494, 0.010270090030010006, 0.01213737912637546, 0.0063487829276425494, 0.0016538846282094033, 0.0047749249749916645, 0.00565521840613538, 0.005015005001667223),)'\n"
          ]
        },
        {
          "output_type": "stream",
          "name": "stdout",
          "text": [
            "Range Отток B2C!B385:M385 evaluated to '((0.00848282760920307, 0.004908302767589197, 0.007069023007669224, 0.007335778592864288, 0.0063487829276425494, 0.010270090030010006, 0.01213737912637546, 0.0063487829276425494, 0.0016538846282094033, 0.0047749249749916645, 0.00565521840613538, 0.005015005001667223),)'\n"
          ]
        },
        {
          "output_type": "stream",
          "name": "stderr",
          "text": [
            "INFO:pycel:Range Отток B2C!B385:M385 evaluated to '((0.00848282760920307, 0.004908302767589197, 0.007069023007669224, 0.007335778592864288, 0.0063487829276425494, 0.010270090030010006, 0.01213737912637546, 0.0063487829276425494, 0.0016538846282094033, 0.0047749249749916645, 0.00565521840613538, 0.005015005001667223),)'\n"
          ]
        },
        {
          "output_type": "stream",
          "name": "stdout",
          "text": [
            "Range Отток B2C!B386:M386 evaluated to '((0.00848282760920307, 0.004908302767589197, 0.007069023007669224, 0.007335778592864288, 0.0063487829276425494, 0.010270090030010006, 0.01213737912637546, 0.0063487829276425494, 0.0016538846282094033, 0.0047749249749916645, 0.00565521840613538, 0.005015005001667223),)'\n"
          ]
        },
        {
          "output_type": "stream",
          "name": "stderr",
          "text": [
            "INFO:pycel:Range Отток B2C!B386:M386 evaluated to '((0.00848282760920307, 0.004908302767589197, 0.007069023007669224, 0.007335778592864288, 0.0063487829276425494, 0.010270090030010006, 0.01213737912637546, 0.0063487829276425494, 0.0016538846282094033, 0.0047749249749916645, 0.00565521840613538, 0.005015005001667223),)'\n"
          ]
        },
        {
          "output_type": "stream",
          "name": "stdout",
          "text": [
            "Range Отток B2C!B387:M387 evaluated to '((0.00848282760920307, 0.004908302767589197, 0.007069023007669224, 0.007335778592864288, 0.0063487829276425494, 0.010270090030010006, 0.01213737912637546, 0.0063487829276425494, 0.0016538846282094033, 0.0047749249749916645, 0.00565521840613538, 0.005015005001667223),)'\n"
          ]
        },
        {
          "output_type": "stream",
          "name": "stderr",
          "text": [
            "INFO:pycel:Range Отток B2C!B387:M387 evaluated to '((0.00848282760920307, 0.004908302767589197, 0.007069023007669224, 0.007335778592864288, 0.0063487829276425494, 0.010270090030010006, 0.01213737912637546, 0.0063487829276425494, 0.0016538846282094033, 0.0047749249749916645, 0.00565521840613538, 0.005015005001667223),)'\n"
          ]
        },
        {
          "output_type": "stream",
          "name": "stdout",
          "text": [
            "Range Отток B2C!B261:M261 evaluated to '((1, 2, 3, 4, 5, 6, 7, 8, 9, 10, 11, 12),)'\n"
          ]
        },
        {
          "output_type": "stream",
          "name": "stderr",
          "text": [
            "INFO:pycel:Range Отток B2C!B261:M261 evaluated to '((1, 2, 3, 4, 5, 6, 7, 8, 9, 10, 11, 12),)'\n"
          ]
        },
        {
          "output_type": "stream",
          "name": "stdout",
          "text": [
            "Range Отток B2C!B89:M89 evaluated to '((0.012133365054549162, 0.014471706715750012, 0.013529145501181915, 0.015636534460774443, 0.019097838395105544, 0.02089944381888286, 0.02748004363560804, 0.012900771279355308, 0.006308174914719646, 0.011672819250751983, 0.014685064215176272, 0.012645930975713676),)'\n"
          ]
        },
        {
          "output_type": "stream",
          "name": "stderr",
          "text": [
            "INFO:pycel:Range Отток B2C!B89:M89 evaluated to '((0.012133365054549162, 0.014471706715750012, 0.013529145501181915, 0.015636534460774443, 0.019097838395105544, 0.02089944381888286, 0.02748004363560804, 0.012900771279355308, 0.006308174914719646, 0.011672819250751983, 0.014685064215176272, 0.012645930975713676),)'\n"
          ]
        },
        {
          "output_type": "stream",
          "name": "stdout",
          "text": [
            "Range Отток B2C!B90:M90 evaluated to '((0.012623034641441901, 0.015771553385583965, 0.014535258476215032, 0.01283004233590796, 0.017896215015838803, 0.023199549265899976, 0.0330937203309372, 0.014841542703475508, 0.004850934815563416, 0.010342164467277794, 0.011443337024732374, 0.008834805800966827),)'\n"
          ]
        },
        {
          "output_type": "stream",
          "name": "stderr",
          "text": [
            "INFO:pycel:Range Отток B2C!B90:M90 evaluated to '((0.012623034641441901, 0.015771553385583965, 0.014535258476215032, 0.01283004233590796, 0.017896215015838803, 0.023199549265899976, 0.0330937203309372, 0.014841542703475508, 0.004850934815563416, 0.010342164467277794, 0.011443337024732374, 0.008834805800966827),)'\n"
          ]
        },
        {
          "output_type": "stream",
          "name": "stdout",
          "text": [
            "Range Отток B2C!B91:M91 evaluated to '((0.007226229676229035, 0.009692620072279617, 0.009121050826357042, 0.009726836939153372, 0.012659516266524168, 0.016390711502973138, 0.018163719102285654, 0.010067591144655389, 0.009410976034240483, 0.01019647173790053, 0.011629250259925296, 0.008111417202326294),)'\n"
          ]
        },
        {
          "output_type": "stream",
          "name": "stderr",
          "text": [
            "INFO:pycel:Range Отток B2C!B91:M91 evaluated to '((0.007226229676229035, 0.009692620072279617, 0.009121050826357042, 0.009726836939153372, 0.012659516266524168, 0.016390711502973138, 0.018163719102285654, 0.010067591144655389, 0.009410976034240483, 0.01019647173790053, 0.011629250259925296, 0.008111417202326294),)'\n"
          ]
        },
        {
          "output_type": "stream",
          "name": "stdout",
          "text": [
            "Range Отток B2C!B92:M92 evaluated to '((0.011574912759100704, 0.011527925734287018, 0.012912781754998956, 0.017641100131878213, 0.02392075522903057, 0.026912991186734753, 0.03574535229502559, 0.013457996883411249, 0.0006, 0.008550200487459705, 0.01551849450959593, 0.01152303629071701),)'\n"
          ]
        },
        {
          "output_type": "stream",
          "name": "stderr",
          "text": [
            "INFO:pycel:Range Отток B2C!B92:M92 evaluated to '((0.011574912759100704, 0.011527925734287018, 0.012912781754998956, 0.017641100131878213, 0.02392075522903057, 0.026912991186734753, 0.03574535229502559, 0.013457996883411249, 0.0006, 0.008550200487459705, 0.01551849450959593, 0.01152303629071701),)'\n"
          ]
        },
        {
          "output_type": "stream",
          "name": "stdout",
          "text": [
            "Range Отток B2C!B93:M93 evaluated to '((0.007534664689979942, 0.01221900618749675, 0.011528122415219189, 0.012722602444532556, 0.016025974927943883, 0.02269120913995557, 0.030515077189438754, 0.010830975508659375, 0.005163480435947829, 0.01182311758822689, 0.01236531279595447, 0.006345042713835029),)'\n"
          ]
        },
        {
          "output_type": "stream",
          "name": "stderr",
          "text": [
            "INFO:pycel:Range Отток B2C!B93:M93 evaluated to '((0.007534664689979942, 0.01221900618749675, 0.011528122415219189, 0.012722602444532556, 0.016025974927943883, 0.02269120913995557, 0.030515077189438754, 0.010830975508659375, 0.005163480435947829, 0.01182311758822689, 0.01236531279595447, 0.006345042713835029),)'\n"
          ]
        },
        {
          "output_type": "stream",
          "name": "stdout",
          "text": [
            "Range Отток B2C!B94:M94 evaluated to '((0.009332492568237096, 0.01186815558073043, 0.012264775921648673, 0.01617216807567354, 0.018229826020906427, 0.019695009747298996, 0.026722068328716528, 0.014237825093936491, 0.003811805706817687, 0.011092443047350641, 0.013932195447254114, 0.009752867701007499),)'\n"
          ]
        },
        {
          "output_type": "stream",
          "name": "stderr",
          "text": [
            "INFO:pycel:Range Отток B2C!B94:M94 evaluated to '((0.009332492568237096, 0.01186815558073043, 0.012264775921648673, 0.01617216807567354, 0.018229826020906427, 0.019695009747298996, 0.026722068328716528, 0.014237825093936491, 0.003811805706817687, 0.011092443047350641, 0.013932195447254114, 0.009752867701007499),)'\n"
          ]
        },
        {
          "output_type": "stream",
          "name": "stdout",
          "text": [
            "Range Отток B2C!B95:M95 evaluated to '((0.006872852233676976, 0.0185, 0.018543046357615896, 0.013447432762836185, 0.006764374295377677, 0.024704618689581095, 0.02694610778443114, 0.0027, 0.008298755186721992, 0.01848998459167951, 0.010541110330288124, 0.013725490196078431),)'\n"
          ]
        },
        {
          "output_type": "stream",
          "name": "stderr",
          "text": [
            "INFO:pycel:Range Отток B2C!B95:M95 evaluated to '((0.006872852233676976, 0.0185, 0.018543046357615896, 0.013447432762836185, 0.006764374295377677, 0.024704618689581095, 0.02694610778443114, 0.0027, 0.008298755186721992, 0.01848998459167951, 0.010541110330288124, 0.013725490196078431),)'\n"
          ]
        },
        {
          "output_type": "stream",
          "name": "stdout",
          "text": [
            "Range Отток B2C!B96:M96 evaluated to '((0.011120125996277383, 0.01428810760357083, 0.012931963503125225, 0.014495192307692308, 0.01574345435609272, 0.02026861428361355, 0.02132936507936508, 0.011309243322338236, 0.0066048895899053625, 0.011454612637024264, 0.012609284570865657, 0.009179716263315497),)'\n"
          ]
        },
        {
          "output_type": "stream",
          "name": "stderr",
          "text": [
            "INFO:pycel:Range Отток B2C!B96:M96 evaluated to '((0.011120125996277383, 0.01428810760357083, 0.012931963503125225, 0.014495192307692308, 0.01574345435609272, 0.02026861428361355, 0.02132936507936508, 0.011309243322338236, 0.0066048895899053625, 0.011454612637024264, 0.012609284570865657, 0.009179716263315497),)'\n"
          ]
        },
        {
          "output_type": "stream",
          "name": "stdout",
          "text": [
            "Range Отток B2C!B97:M97 evaluated to '((0.01, 0.012, 0.009, 0.011, 0.012, 0.014, 0.013, 0.007, 0.004, 0.003, 0.003, 0.003),)'\n"
          ]
        },
        {
          "output_type": "stream",
          "name": "stderr",
          "text": [
            "INFO:pycel:Range Отток B2C!B97:M97 evaluated to '((0.01, 0.012, 0.009, 0.011, 0.012, 0.014, 0.013, 0.007, 0.004, 0.003, 0.003, 0.003),)'\n"
          ]
        },
        {
          "output_type": "stream",
          "name": "stdout",
          "text": [
            "Range Отток B2C!B98:M98 evaluated to '((0.0051352826010206375, 0.008597706564450679, 0.0074850299401197605, 0.007695760918360803, 0.009876675603217158, 0.01054001441185644, 0.014764621196540489, 0.008823338595618607, 0.00488035602949713, 0.007898351648351648, 0.008819742489270387, 0.005795338114754098),)'\n"
          ]
        },
        {
          "output_type": "stream",
          "name": "stderr",
          "text": [
            "INFO:pycel:Range Отток B2C!B98:M98 evaluated to '((0.0051352826010206375, 0.008597706564450679, 0.0074850299401197605, 0.007695760918360803, 0.009876675603217158, 0.01054001441185644, 0.014764621196540489, 0.008823338595618607, 0.00488035602949713, 0.007898351648351648, 0.008819742489270387, 0.005795338114754098),)'\n"
          ]
        },
        {
          "output_type": "stream",
          "name": "stdout",
          "text": [
            "Range Отток B2C!B99:M99 evaluated to '((0.009196645929131728, 0.012003175937602167, 0.01023142054312413, 0.015169172932330827, 0.016621760085006262, 0.01793042611130288, 0.02362488202154262, 0.012393108222744425, 0.00463567827037908, 0.008975187948156226, 0.009676860268063473, 0.006243964008758761),)'\n"
          ]
        },
        {
          "output_type": "stream",
          "name": "stderr",
          "text": [
            "INFO:pycel:Range Отток B2C!B99:M99 evaluated to '((0.009196645929131728, 0.012003175937602167, 0.01023142054312413, 0.015169172932330827, 0.016621760085006262, 0.01793042611130288, 0.02362488202154262, 0.012393108222744425, 0.00463567827037908, 0.008975187948156226, 0.009676860268063473, 0.006243964008758761),)'\n"
          ]
        },
        {
          "output_type": "stream",
          "name": "stdout",
          "text": [
            "Range Отток B2C!B100:M100 evaluated to '((0.011256669413959138, 0.010957660636711405, 0.013372507507183133, 0.01479649396858457, 0.019326000262938778, 0.023593506782299312, 0.032580542554641705, 0.01279433782496257, 0.0074703876525484565, 0.010510074017755316, 0.013648669814064842, 0.015065237860377528),)'\n"
          ]
        },
        {
          "output_type": "stream",
          "name": "stderr",
          "text": [
            "INFO:pycel:Range Отток B2C!B100:M100 evaluated to '((0.011256669413959138, 0.010957660636711405, 0.013372507507183133, 0.01479649396858457, 0.019326000262938778, 0.023593506782299312, 0.032580542554641705, 0.01279433782496257, 0.0074703876525484565, 0.010510074017755316, 0.013648669814064842, 0.015065237860377528),)'\n"
          ]
        },
        {
          "output_type": "stream",
          "name": "stdout",
          "text": [
            "Range Отток B2C!B101:M101 evaluated to '((0.007912220223462886, 0.013133531412823495, 0.01132429778602811, 0.014693495554515676, 0.019022945427288537, 0.023854757275811853, 0.027923119198367825, 0.012781790655810555, 0.003170279743698511, 0.008822745051558611, 0.012049618687634532, 0.008763417144537568),)'\n"
          ]
        },
        {
          "output_type": "stream",
          "name": "stderr",
          "text": [
            "INFO:pycel:Range Отток B2C!B101:M101 evaluated to '((0.007912220223462886, 0.013133531412823495, 0.01132429778602811, 0.014693495554515676, 0.019022945427288537, 0.023854757275811853, 0.027923119198367825, 0.012781790655810555, 0.003170279743698511, 0.008822745051558611, 0.012049618687634532, 0.008763417144537568),)'\n"
          ]
        },
        {
          "output_type": "stream",
          "name": "stdout",
          "text": [
            "Range Отток B2C!B102:M102 evaluated to '((0.008883817596479075, 0.01393179353941204, 0.009172999918280625, 0.016181829411401397, 0.02345924453280318, 0.025825851442707555, 0.02864351116814198, 0.0136675254355705, 0.005308660700743212, 0.010683853107833383, 0.012789162753456968, 0.010704554301284546),)'\n"
          ]
        },
        {
          "output_type": "stream",
          "name": "stderr",
          "text": [
            "INFO:pycel:Range Отток B2C!B102:M102 evaluated to '((0.008883817596479075, 0.01393179353941204, 0.009172999918280625, 0.016181829411401397, 0.02345924453280318, 0.025825851442707555, 0.02864351116814198, 0.0136675254355705, 0.005308660700743212, 0.010683853107833383, 0.012789162753456968, 0.010704554301284546),)'\n"
          ]
        },
        {
          "output_type": "stream",
          "name": "stdout",
          "text": [
            "Range Отток B2C!B103:M103 evaluated to '((0.009242216565498335, 0.011592386621759224, 0.012025539582435662, 0.01489890031926215, 0.017969309056213724, 0.02044347861080929, 0.025558190889016112, 0.010054358932439613, 0.003605720536401572, 0.006359172502616115, 0.010959014090160974, 0.00906332348478799),)'\n"
          ]
        },
        {
          "output_type": "stream",
          "name": "stderr",
          "text": [
            "INFO:pycel:Range Отток B2C!B103:M103 evaluated to '((0.009242216565498335, 0.011592386621759224, 0.012025539582435662, 0.01489890031926215, 0.017969309056213724, 0.02044347861080929, 0.025558190889016112, 0.010054358932439613, 0.003605720536401572, 0.006359172502616115, 0.010959014090160974, 0.00906332348478799),)'\n"
          ]
        },
        {
          "output_type": "stream",
          "name": "stdout",
          "text": [
            "Range Отток B2C!B104:M104 evaluated to '((0.007698980698330081, 0.010439203807875379, 0.011242635533214421, 0.011667661583545885, 0.012532693984306887, 0.016279837201627984, 0.020652415942997104, 0.013491665272899593, 0.008699988917211571, 0.009555371444352388, 0.01082813104248384, 0.011376187320521317),)'\n"
          ]
        },
        {
          "output_type": "stream",
          "name": "stderr",
          "text": [
            "INFO:pycel:Range Отток B2C!B104:M104 evaluated to '((0.007698980698330081, 0.010439203807875379, 0.011242635533214421, 0.011667661583545885, 0.012532693984306887, 0.016279837201627984, 0.020652415942997104, 0.013491665272899593, 0.008699988917211571, 0.009555371444352388, 0.01082813104248384, 0.011376187320521317),)'\n"
          ]
        },
        {
          "output_type": "stream",
          "name": "stdout",
          "text": [
            "Range Отток B2C!B105:M105 evaluated to '((0.0060231954207399145, 0.009525235069194029, 0.00819672131147541, 0.013384556491304824, 0.01754410200444819, 0.019436087595326383, 0.01945293917770982, 0.008961309228874385, 0.0049163931424063565, 0.007900359874044085, 0.009485266219805236, 0.006273315356349461),)'\n"
          ]
        },
        {
          "output_type": "stream",
          "name": "stderr",
          "text": [
            "INFO:pycel:Range Отток B2C!B105:M105 evaluated to '((0.0060231954207399145, 0.009525235069194029, 0.00819672131147541, 0.013384556491304824, 0.01754410200444819, 0.019436087595326383, 0.01945293917770982, 0.008961309228874385, 0.0049163931424063565, 0.007900359874044085, 0.009485266219805236, 0.006273315356349461),)'\n"
          ]
        },
        {
          "output_type": "stream",
          "name": "stdout",
          "text": [
            "Range Отток B2C!B106:M106 evaluated to '((0.008310827326763368, 0.010436154761122036, 0.011297131344142761, 0.01388394231523793, 0.02085719711123226, 0.021848362773727172, 0.026271525322602143, 0.007206464902551102, 0.001747900005029928, 0.00719112968505864, 0.009926306597224403, 0.008648065168003413),)'\n"
          ]
        },
        {
          "output_type": "stream",
          "name": "stderr",
          "text": [
            "INFO:pycel:Range Отток B2C!B106:M106 evaluated to '((0.008310827326763368, 0.010436154761122036, 0.011297131344142761, 0.01388394231523793, 0.02085719711123226, 0.021848362773727172, 0.026271525322602143, 0.007206464902551102, 0.001747900005029928, 0.00719112968505864, 0.009926306597224403, 0.008648065168003413),)'\n"
          ]
        },
        {
          "output_type": "stream",
          "name": "stdout",
          "text": [
            "Range Отток B2C!B107:M107 evaluated to '((0.007882068974921929, 0.010298885649674414, 0.008880849732758503, 0.012554301795032922, 0.016254446190751923, 0.018613464110566205, 0.020989970518119367, 0.012031009503367836, 0.004883867798750965, 0.009192825112107623, 0.008837430433201891, 0.0067188782394591515),)'\n"
          ]
        },
        {
          "output_type": "stream",
          "name": "stderr",
          "text": [
            "INFO:pycel:Range Отток B2C!B107:M107 evaluated to '((0.007882068974921929, 0.010298885649674414, 0.008880849732758503, 0.012554301795032922, 0.016254446190751923, 0.018613464110566205, 0.020989970518119367, 0.012031009503367836, 0.004883867798750965, 0.009192825112107623, 0.008837430433201891, 0.0067188782394591515),)'\n"
          ]
        },
        {
          "output_type": "stream",
          "name": "stdout",
          "text": [
            "Range Отток B2C!B108:M108 evaluated to '((0.009515384283433306, 0.013640497120339497, 0.01350295241403265, 0.016181937458998468, 0.020537019805928487, 0.0192497310864109, 0.031988076129328136, 0.011308747109859671, 0.00351481893013447, 0.008673457863709258, 0.01153941693200551, 0.010297895353553563),)'\n"
          ]
        },
        {
          "output_type": "stream",
          "name": "stderr",
          "text": [
            "INFO:pycel:Range Отток B2C!B108:M108 evaluated to '((0.009515384283433306, 0.013640497120339497, 0.01350295241403265, 0.016181937458998468, 0.020537019805928487, 0.0192497310864109, 0.031988076129328136, 0.011308747109859671, 0.00351481893013447, 0.008673457863709258, 0.01153941693200551, 0.010297895353553563),)'\n"
          ]
        },
        {
          "output_type": "stream",
          "name": "stdout",
          "text": [
            "Range Отток B2C!B109:M109 evaluated to '((0.009676133227013432, 0.011842954133513564, 0.00978449533815646, 0.01263949688636784, 0.01596710373186438, 0.017961256347564417, 0.025111936136649724, 0.013613150335142037, 0.004245714826856909, 0.010406350703450444, 0.012150763538302342, 0.008829987697195271),)'\n"
          ]
        },
        {
          "output_type": "stream",
          "name": "stderr",
          "text": [
            "INFO:pycel:Range Отток B2C!B109:M109 evaluated to '((0.009676133227013432, 0.011842954133513564, 0.00978449533815646, 0.01263949688636784, 0.01596710373186438, 0.017961256347564417, 0.025111936136649724, 0.013613150335142037, 0.004245714826856909, 0.010406350703450444, 0.012150763538302342, 0.008829987697195271),)'\n"
          ]
        },
        {
          "output_type": "stream",
          "name": "stdout",
          "text": [
            "Range Отток B2C!B110:M110 evaluated to '((0.008778062051817952, 0.012149316691225332, 0.012025861756890797, 0.016979961309632443, 0.0186238701346615, 0.02311926605504587, 0.02568909413746066, 0.008988593155893536, 0.0011, 0.007505528625996828, 0.011141585093019971, 0.00832347723240686),)'\n"
          ]
        },
        {
          "output_type": "stream",
          "name": "stderr",
          "text": [
            "INFO:pycel:Range Отток B2C!B110:M110 evaluated to '((0.008778062051817952, 0.012149316691225332, 0.012025861756890797, 0.016979961309632443, 0.0186238701346615, 0.02311926605504587, 0.02568909413746066, 0.008988593155893536, 0.0011, 0.007505528625996828, 0.011141585093019971, 0.00832347723240686),)'\n"
          ]
        },
        {
          "output_type": "stream",
          "name": "stdout",
          "text": [
            "Range Отток B2C!B111:M111 evaluated to '((0.01350977243784951, 0.013523935437668704, 0.01373483416865226, 0.017061157477083047, 0.01598542545613939, 0.017998599651285713, 0.02439429370010101, 0.013797182788599097, 0.009363677075275821, 0.014626635873749037, 0.015973924521186327, 0.011679844268743083),)'\n"
          ]
        },
        {
          "output_type": "stream",
          "name": "stderr",
          "text": [
            "INFO:pycel:Range Отток B2C!B111:M111 evaluated to '((0.01350977243784951, 0.013523935437668704, 0.01373483416865226, 0.017061157477083047, 0.01598542545613939, 0.017998599651285713, 0.02439429370010101, 0.013797182788599097, 0.009363677075275821, 0.014626635873749037, 0.015973924521186327, 0.011679844268743083),)'\n"
          ]
        },
        {
          "output_type": "stream",
          "name": "stdout",
          "text": [
            "Range Отток B2C!B112:M112 evaluated to '((0.011038970066873358, 0.010243509201089676, 0.010127531882970742, 0.017679883349223262, 0.02242708348175484, 0.026021926958542076, 0.038287884224375075, 0.010903659447348767, 0.0004564260368968919, 0.011617988764375423, 0.01105629459959475, 0.010277432105995169),)'\n"
          ]
        },
        {
          "output_type": "stream",
          "name": "stderr",
          "text": [
            "INFO:pycel:Range Отток B2C!B112:M112 evaluated to '((0.011038970066873358, 0.010243509201089676, 0.010127531882970742, 0.017679883349223262, 0.02242708348175484, 0.026021926958542076, 0.038287884224375075, 0.010903659447348767, 0.0004564260368968919, 0.011617988764375423, 0.01105629459959475, 0.010277432105995169),)'\n"
          ]
        },
        {
          "output_type": "stream",
          "name": "stdout",
          "text": [
            "Range Отток B2C!B113:M113 evaluated to '((0.007692554660159887, 0.008334506907014557, 0.008387537421566312, 0.011073036006546645, 0.014610608936211278, 0.015851508000311196, 0.021366428679136427, 0.009477650013735725, 0.0019253631053910167, 0.007157451073617661, 0.008086029209501085, 0.006130375184038178),)'\n"
          ]
        },
        {
          "output_type": "stream",
          "name": "stderr",
          "text": [
            "INFO:pycel:Range Отток B2C!B113:M113 evaluated to '((0.007692554660159887, 0.008334506907014557, 0.008387537421566312, 0.011073036006546645, 0.014610608936211278, 0.015851508000311196, 0.021366428679136427, 0.009477650013735725, 0.0019253631053910167, 0.007157451073617661, 0.008086029209501085, 0.006130375184038178),)'\n"
          ]
        },
        {
          "output_type": "stream",
          "name": "stdout",
          "text": [
            "Range Отток B2C!B114:M114 evaluated to '((0.010298219266251877, 0.012663375619895395, 0.011192137326285179, 0.016386568906315516, 0.019619065061123576, 0.021591238338065713, 0.031093410229743785, 0.011683096020445418, 0.0026682444111880647, 0.009135264195992941, 0.011804869077450056, 0.009433209002041771),)'\n"
          ]
        },
        {
          "output_type": "stream",
          "name": "stderr",
          "text": [
            "INFO:pycel:Range Отток B2C!B114:M114 evaluated to '((0.010298219266251877, 0.012663375619895395, 0.011192137326285179, 0.016386568906315516, 0.019619065061123576, 0.021591238338065713, 0.031093410229743785, 0.011683096020445418, 0.0026682444111880647, 0.009135264195992941, 0.011804869077450056, 0.009433209002041771),)'\n"
          ]
        },
        {
          "output_type": "stream",
          "name": "stdout",
          "text": [
            "Range Отток B2C!B115:M115 evaluated to '((0.0093648947183061, 0.011240930431071276, 0.012527980938236252, 0.01634621070002204, 0.020196637156591913, 0.021378129798933294, 0.02853411651290789, 0.01347492665084681, 0.0004, 0.00970430225901625, 0.013159924202362066, 0.010994620704797453),)'\n"
          ]
        },
        {
          "output_type": "stream",
          "name": "stderr",
          "text": [
            "INFO:pycel:Range Отток B2C!B115:M115 evaluated to '((0.0093648947183061, 0.011240930431071276, 0.012527980938236252, 0.01634621070002204, 0.020196637156591913, 0.021378129798933294, 0.02853411651290789, 0.01347492665084681, 0.0004, 0.00970430225901625, 0.013159924202362066, 0.010994620704797453),)'\n"
          ]
        },
        {
          "output_type": "stream",
          "name": "stdout",
          "text": [
            "Range Отток B2C!B116:M116 evaluated to '((0.010376186851488322, 0.013222018055444595, 0.011650562646626108, 0.01559819683248893, 0.023211613894617657, 0.028220150177407376, 0.03331783011289163, 0.013250359834053002, 0.003098049066398727, 0.0069002785052167765, 0.013380428007479742, 0.012939615129396152),)'\n"
          ]
        },
        {
          "output_type": "stream",
          "name": "stderr",
          "text": [
            "INFO:pycel:Range Отток B2C!B116:M116 evaluated to '((0.010376186851488322, 0.013222018055444595, 0.011650562646626108, 0.01559819683248893, 0.023211613894617657, 0.028220150177407376, 0.03331783011289163, 0.013250359834053002, 0.003098049066398727, 0.0069002785052167765, 0.013380428007479742, 0.012939615129396152),)'\n"
          ]
        },
        {
          "output_type": "stream",
          "name": "stdout",
          "text": [
            "Range Отток B2C!B117:M117 evaluated to '((0.007639820376742287, 0.008580694890850652, 0.00788794478438651, 0.00939675174013921, 0.013896187306591931, 0.016685320452403393, 0.0192687967409566, 0.010579023223333284, 0.00350887495779073, 0.005749306872902379, 0.009712272118352846, 0.007342399096320111),)'\n"
          ]
        },
        {
          "output_type": "stream",
          "name": "stderr",
          "text": [
            "INFO:pycel:Range Отток B2C!B117:M117 evaluated to '((0.007639820376742287, 0.008580694890850652, 0.00788794478438651, 0.00939675174013921, 0.013896187306591931, 0.016685320452403393, 0.0192687967409566, 0.010579023223333284, 0.00350887495779073, 0.005749306872902379, 0.009712272118352846, 0.007342399096320111),)'\n"
          ]
        },
        {
          "output_type": "stream",
          "name": "stdout",
          "text": [
            "Range Отток B2C!B118:M118 evaluated to '((0.009022135051835248, 0.010501728487339998, 0.011655490595289239, 0.01580063427724296, 0.021107226992932594, 0.021265550193235786, 0.025588975855405694, 0.011128435002923407, 0.003998068565910188, 0.009413663259817106, 0.011588419255194644, 0.008424503487973163),)'\n"
          ]
        },
        {
          "output_type": "stream",
          "name": "stderr",
          "text": [
            "INFO:pycel:Range Отток B2C!B118:M118 evaluated to '((0.009022135051835248, 0.010501728487339998, 0.011655490595289239, 0.01580063427724296, 0.021107226992932594, 0.021265550193235786, 0.025588975855405694, 0.011128435002923407, 0.003998068565910188, 0.009413663259817106, 0.011588419255194644, 0.008424503487973163),)'\n"
          ]
        },
        {
          "output_type": "stream",
          "name": "stdout",
          "text": [
            "Range Отток B2C!B119:M119 evaluated to '((0.010076465981850845, 0.014141763113951747, 0.012049302015122047, 0.015203366707517284, 0.017591481528944394, 0.019094733378769005, 0.02449737528121987, 0.014884673549339715, 0.0051667394099536405, 0.011611748357161363, 0.011625449165081379, 0.00861847483358636),)'\n"
          ]
        },
        {
          "output_type": "stream",
          "name": "stderr",
          "text": [
            "INFO:pycel:Range Отток B2C!B119:M119 evaluated to '((0.010076465981850845, 0.014141763113951747, 0.012049302015122047, 0.015203366707517284, 0.017591481528944394, 0.019094733378769005, 0.02449737528121987, 0.014884673549339715, 0.0051667394099536405, 0.011611748357161363, 0.011625449165081379, 0.00861847483358636),)'\n"
          ]
        },
        {
          "output_type": "stream",
          "name": "stdout",
          "text": [
            "Range Отток B2C!B120:M120 evaluated to '((0.00815831987075929, 0.010773830366040887, 0.010527449449395546, 0.014307004470938897, 0.016243710347845112, 0.01809579148335685, 0.01978950904103454, 0.01369901547116737, 0.007684110157608391, 0.009869620075704473, 0.010622495025084784, 0.008461323652611003),)'\n"
          ]
        },
        {
          "output_type": "stream",
          "name": "stderr",
          "text": [
            "INFO:pycel:Range Отток B2C!B120:M120 evaluated to '((0.00815831987075929, 0.010773830366040887, 0.010527449449395546, 0.014307004470938897, 0.016243710347845112, 0.01809579148335685, 0.01978950904103454, 0.01369901547116737, 0.007684110157608391, 0.009869620075704473, 0.010622495025084784, 0.008461323652611003),)'\n"
          ]
        },
        {
          "output_type": "stream",
          "name": "stdout",
          "text": [
            "Range Отток B2C!B121:M121 evaluated to '((0.010882396340563672, 0.012871890524294077, 0.01205397522751186, 0.014693892677142011, 0.01674077949254512, 0.021985708344360845, 0.025799257934905895, 0.017061483170382967, 0.007528182673657122, 0.013719951576641494, 0.015022949049253673, 0.011140828538992899),)'\n"
          ]
        },
        {
          "output_type": "stream",
          "name": "stderr",
          "text": [
            "INFO:pycel:Range Отток B2C!B121:M121 evaluated to '((0.010882396340563672, 0.012871890524294077, 0.01205397522751186, 0.014693892677142011, 0.01674077949254512, 0.021985708344360845, 0.025799257934905895, 0.017061483170382967, 0.007528182673657122, 0.013719951576641494, 0.015022949049253673, 0.011140828538992899),)'\n"
          ]
        },
        {
          "output_type": "stream",
          "name": "stdout",
          "text": [
            "Range Отток B2C!B122:M122 evaluated to '((0.011084941334082414, 0.01131855812349086, 0.012115082524585225, 0.01561249864850254, 0.0219486550424954, 0.02431800467653936, 0.03398987826562714, 0.0136654478976234, 0.006169059445238257, 0.012688108586603719, 0.015058662717849414, 0.013793418438420607),)'\n"
          ]
        },
        {
          "output_type": "stream",
          "name": "stderr",
          "text": [
            "INFO:pycel:Range Отток B2C!B122:M122 evaluated to '((0.011084941334082414, 0.01131855812349086, 0.012115082524585225, 0.01561249864850254, 0.0219486550424954, 0.02431800467653936, 0.03398987826562714, 0.0136654478976234, 0.006169059445238257, 0.012688108586603719, 0.015058662717849414, 0.013793418438420607),)'\n"
          ]
        },
        {
          "output_type": "stream",
          "name": "stdout",
          "text": [
            "Range Отток B2C!B123:M123 evaluated to '((0.00802464440556781, 0.012507626601586334, 0.013787820758330141, 0.017459152535826028, 0.01634101634101634, 0.011544461778471139, 0.026994791873732757, 0.010712863401035444, 0.0019, 0.008199615520420573, 0.015012642225031606, 0.008490305256091301),)'\n"
          ]
        },
        {
          "output_type": "stream",
          "name": "stderr",
          "text": [
            "INFO:pycel:Range Отток B2C!B123:M123 evaluated to '((0.00802464440556781, 0.012507626601586334, 0.013787820758330141, 0.017459152535826028, 0.01634101634101634, 0.011544461778471139, 0.026994791873732757, 0.010712863401035444, 0.0019, 0.008199615520420573, 0.015012642225031606, 0.008490305256091301),)'\n"
          ]
        },
        {
          "output_type": "stream",
          "name": "stdout",
          "text": [
            "Range Отток B2C!B124:M124 evaluated to '((0.011352539936826875, 0.011288039547523625, 0.012632953284615679, 0.016621785199463827, 0.02210119842809919, 0.027140221997681215, 0.03670234737953297, 0.010100084739939995, 0.0029, 0.011679645438442647, 0.013766679680070473, 0.011141991662251192),)'\n"
          ]
        },
        {
          "output_type": "stream",
          "name": "stderr",
          "text": [
            "INFO:pycel:Range Отток B2C!B124:M124 evaluated to '((0.011352539936826875, 0.011288039547523625, 0.012632953284615679, 0.016621785199463827, 0.02210119842809919, 0.027140221997681215, 0.03670234737953297, 0.010100084739939995, 0.0029, 0.011679645438442647, 0.013766679680070473, 0.011141991662251192),)'\n"
          ]
        },
        {
          "output_type": "stream",
          "name": "stdout",
          "text": [
            "Range Отток B2C!B125:M125 evaluated to '((0.010892901832167647, 0.011634465299912118, 0.012154566439311936, 0.015540593439285993, 0.017664878758868505, 0.019252353725686972, 0.026234155212066106, 0.013524327784891165, 0.0073245596701313415, 0.013073268054498202, 0.014907971441671579, 0.011587092396623042),)'\n"
          ]
        },
        {
          "output_type": "stream",
          "name": "stderr",
          "text": [
            "INFO:pycel:Range Отток B2C!B125:M125 evaluated to '((0.010892901832167647, 0.011634465299912118, 0.012154566439311936, 0.015540593439285993, 0.017664878758868505, 0.019252353725686972, 0.026234155212066106, 0.013524327784891165, 0.0073245596701313415, 0.013073268054498202, 0.014907971441671579, 0.011587092396623042),)'\n"
          ]
        },
        {
          "output_type": "stream",
          "name": "stdout",
          "text": [
            "Range Отток B2C!B126:M126 evaluated to '((0.010792234414566502, 0.013139737205255894, 0.012187836061656111, 0.017810026385224276, 0.017644570668922593, 0.02439921530161844, 0.02670733984934321, 0.015884928080050032, 0.007012535683256795, 0.009453197405004634, 0.014140166718122878, 0.011009287164032228),)'\n"
          ]
        },
        {
          "output_type": "stream",
          "name": "stderr",
          "text": [
            "INFO:pycel:Range Отток B2C!B126:M126 evaluated to '((0.010792234414566502, 0.013139737205255894, 0.012187836061656111, 0.017810026385224276, 0.017644570668922593, 0.02439921530161844, 0.02670733984934321, 0.015884928080050032, 0.007012535683256795, 0.009453197405004634, 0.014140166718122878, 0.011009287164032228),)'\n"
          ]
        },
        {
          "output_type": "stream",
          "name": "stdout",
          "text": [
            "Range Отток B2C!B127:M127 evaluated to '((0.010297810126179958, 0.01163013000254907, 0.012511199283245872, 0.013136288998357963, 0.017204861676822315, 0.020461457093745868, 0.023076923076923078, 0.009173078861597392, 0.0034375730067082735, 0.00913272448503433, 0.010545284655943402, 0.007716870675891432),)'\n"
          ]
        },
        {
          "output_type": "stream",
          "name": "stderr",
          "text": [
            "INFO:pycel:Range Отток B2C!B127:M127 evaluated to '((0.010297810126179958, 0.01163013000254907, 0.012511199283245872, 0.013136288998357963, 0.017204861676822315, 0.020461457093745868, 0.023076923076923078, 0.009173078861597392, 0.0034375730067082735, 0.00913272448503433, 0.010545284655943402, 0.007716870675891432),)'\n"
          ]
        },
        {
          "output_type": "stream",
          "name": "stdout",
          "text": [
            "Range Отток B2C!B128:M128 evaluated to '((0.008446200227022145, 0.010945536603712213, 0.009491063055894974, 0.011086086899960972, 0.01158658352691853, 0.013310351039525724, 0.013512569688952068, 0.005895624997449989, 0.002285105231922032, 0.00865927966698172, 0.012239478554759797, 0.007289428728030694),)'\n"
          ]
        },
        {
          "output_type": "stream",
          "name": "stderr",
          "text": [
            "INFO:pycel:Range Отток B2C!B128:M128 evaluated to '((0.008446200227022145, 0.010945536603712213, 0.009491063055894974, 0.011086086899960972, 0.01158658352691853, 0.013310351039525724, 0.013512569688952068, 0.005895624997449989, 0.002285105231922032, 0.00865927966698172, 0.012239478554759797, 0.007289428728030694),)'\n"
          ]
        },
        {
          "output_type": "stream",
          "name": "stdout",
          "text": [
            "Range Отток B2C!B129:M129 evaluated to '((0.016, 0.01679, 0.016, 0.017, 0.02171, 0.024, 0.025, 0.012, 0.009, 0.012, 0.014, 0.015),)'\n"
          ]
        },
        {
          "output_type": "stream",
          "name": "stderr",
          "text": [
            "INFO:pycel:Range Отток B2C!B129:M129 evaluated to '((0.016, 0.01679, 0.016, 0.017, 0.02171, 0.024, 0.025, 0.012, 0.009, 0.012, 0.014, 0.015),)'\n"
          ]
        },
        {
          "output_type": "stream",
          "name": "stdout",
          "text": [
            "Range Отток B2C!B3:M3 evaluated to '((1, 2, 3, 4, 5, 6, 7, 8, 9, 10, 11, 12),)'\n"
          ]
        },
        {
          "output_type": "stream",
          "name": "stderr",
          "text": [
            "INFO:pycel:Range Отток B2C!B3:M3 evaluated to '((1, 2, 3, 4, 5, 6, 7, 8, 9, 10, 11, 12),)'\n"
          ]
        },
        {
          "output_type": "stream",
          "name": "stdout",
          "text": [
            "Range Отток B2C!P89:P129 evaluated to '((0.03476328543768897,), (0.026910444556329696,), (0.07108181710901297,), (0.0031597981449919166,), (0.032319305323057435,), (0.02280993628584149,), (0.04895045434226018,), (0.04093908459814334,), (0.039603960396039604,), (0.048651660997035065,), (0.031599223941110824,), (0.040299420054106264,), (0.019395758462973905,), (0.029615496020159598,), (0.023757542718936812,), (0.06022221716504742,), (0.03750124034791993,), (0.011840134925972095,), (0.03561279782325567,), (0.020681496234340426,), (0.027890252601221632,), (0.007123216665544868,), (0.05154810923576056,), (0.002533749357065992,), (0.016032260969816615,), (0.015923286698029074,), (0.0023905905294417454,), (0.016731262545106807,), (0.02918046606305775,), (0.02506707295912934,), (0.03139699813046988,), (0.051838340285576386,), (0.0419394336435282,), (0.03217034286786207,), (0.012584869987210912,), (0.015472650473322054,), (0.0421457614046554,), (0.038919379772302,), (0.023176076201167316,), (0.01991423822786657,), (0.04534005037783375,))'\n"
          ]
        },
        {
          "output_type": "stream",
          "name": "stderr",
          "text": [
            "INFO:pycel:Range Отток B2C!P89:P129 evaluated to '((0.03476328543768897,), (0.026910444556329696,), (0.07108181710901297,), (0.0031597981449919166,), (0.032319305323057435,), (0.02280993628584149,), (0.04895045434226018,), (0.04093908459814334,), (0.039603960396039604,), (0.048651660997035065,), (0.031599223941110824,), (0.040299420054106264,), (0.019395758462973905,), (0.029615496020159598,), (0.023757542718936812,), (0.06022221716504742,), (0.03750124034791993,), (0.011840134925972095,), (0.03561279782325567,), (0.020681496234340426,), (0.027890252601221632,), (0.007123216665544868,), (0.05154810923576056,), (0.002533749357065992,), (0.016032260969816615,), (0.015923286698029074,), (0.0023905905294417454,), (0.016731262545106807,), (0.02918046606305775,), (0.02506707295912934,), (0.03139699813046988,), (0.051838340285576386,), (0.0419394336435282,), (0.03217034286786207,), (0.012584869987210912,), (0.015472650473322054,), (0.0421457614046554,), (0.038919379772302,), (0.023176076201167316,), (0.01991423822786657,), (0.04534005037783375,))'\n"
          ]
        },
        {
          "output_type": "stream",
          "name": "stdout",
          "text": [
            "Range Отток B2C!A89:A129 evaluated to '(('Уфа ЭРТХ',), ('Йошкар-Ола ЭРТХ',), ('Набережные Челны ЭРТХ',), ('Ижевск ЭРТХ',), ('Чебоксары ЭРТХ',), ('Барнаул ЭРТХ',), ('Краснодар ЭРТХ',), ('Красноярск ЭРТХ',), ('Владивосток ЭРТХ',), ('Брянск ЭРТХ',), ('Волгоград ЭРТХ',), ('Воронеж ЭРТХ',), ('Иркутск ЭРТХ',), ('Киров ЭРТХ',), ('Курган ЭРТХ',), ('Курск ЭРТХ',), ('Липецк ЭРТХ',), ('Нижний Новгород ЭРТХ',), ('Омск ЭРТХ',), ('Оренбург ЭРТХ',), ('Пенза ЭРТХ',), ('Пермь ЭРТХ',), ('Ростов-на-Дону ЭРТХ',), ('Рязань ЭРТХ',), ('Самара ЭРТХ',), ('Саратов ЭРТХ',), ('Екатеринбург ЭРТХ',), ('Тверь ЭРТХ',), ('Томск ЭРТХ',), ('Тула ЭРТХ',), ('Тюмень ЭРТХ',), ('Ульяновск ЭРТХ',), ('Челябинск ЭРТХ',), ('Ярославль ЭРТХ',), ('Москва и МО ЭРТХ',), ('Санкт-Петербург ЭРТХ',), ('Казань ЭРТХ',), ('Магнитогорск ЭРТХ',), ('ООО \"БИКС+\"',), ('ООО \"Новотелеком\"',), ('ЭР-Телеком Холдинг',))'\n"
          ]
        },
        {
          "output_type": "stream",
          "name": "stderr",
          "text": [
            "INFO:pycel:Range Отток B2C!A89:A129 evaluated to '(('Уфа ЭРТХ',), ('Йошкар-Ола ЭРТХ',), ('Набережные Челны ЭРТХ',), ('Ижевск ЭРТХ',), ('Чебоксары ЭРТХ',), ('Барнаул ЭРТХ',), ('Краснодар ЭРТХ',), ('Красноярск ЭРТХ',), ('Владивосток ЭРТХ',), ('Брянск ЭРТХ',), ('Волгоград ЭРТХ',), ('Воронеж ЭРТХ',), ('Иркутск ЭРТХ',), ('Киров ЭРТХ',), ('Курган ЭРТХ',), ('Курск ЭРТХ',), ('Липецк ЭРТХ',), ('Нижний Новгород ЭРТХ',), ('Омск ЭРТХ',), ('Оренбург ЭРТХ',), ('Пенза ЭРТХ',), ('Пермь ЭРТХ',), ('Ростов-на-Дону ЭРТХ',), ('Рязань ЭРТХ',), ('Самара ЭРТХ',), ('Саратов ЭРТХ',), ('Екатеринбург ЭРТХ',), ('Тверь ЭРТХ',), ('Томск ЭРТХ',), ('Тула ЭРТХ',), ('Тюмень ЭРТХ',), ('Ульяновск ЭРТХ',), ('Челябинск ЭРТХ',), ('Ярославль ЭРТХ',), ('Москва и МО ЭРТХ',), ('Санкт-Петербург ЭРТХ',), ('Казань ЭРТХ',), ('Магнитогорск ЭРТХ',), ('ООО \"БИКС+\"',), ('ООО \"Новотелеком\"',), ('ЭР-Телеком Холдинг',))'\n"
          ]
        },
        {
          "output_type": "stream",
          "name": "stdout",
          "text": [
            "Range Отток B2C!P347:P387 evaluated to '((0.009495252373813092,), (0.021992669110296566,), (0.012,), (0.038,), (0.06606606606606606,), (0.05044955044955046,), (0.05494505494505496,), (0.03148425787106447,), (0.0335,), (0.020979020979020976,), (0.032016008004002,), (0.0375,), (0.025987006496751626,), (0.017508754377188598,), (0.034,), (0.0355,), (0.066,), (-0.0015,), (0.036000000000000004,), (0.038980509745127435,), (0.03033333333333333,), (0.014992503748125934,), (0.031015507753876945,), (0.044333333333333336,), (0.05347326336831584,), (0.04,), (0.07535829865926952,), (0.020673557852617534,), (0.020673557852617534,), (0.020673557852617534,), (0.020673557852617534,), (0.020673557852617534,), (0.020673557852617534,), (0.020673557852617534,), (0.020673557852617534,), (0.020673557852617534,), (0.020673557852617534,), (0.020673557852617534,), (0.020673557852617534,), (0.020673557852617534,), (0.020673557852617534,))'\n"
          ]
        },
        {
          "output_type": "stream",
          "name": "stderr",
          "text": [
            "INFO:pycel:Range Отток B2C!P347:P387 evaluated to '((0.009495252373813092,), (0.021992669110296566,), (0.012,), (0.038,), (0.06606606606606606,), (0.05044955044955046,), (0.05494505494505496,), (0.03148425787106447,), (0.0335,), (0.020979020979020976,), (0.032016008004002,), (0.0375,), (0.025987006496751626,), (0.017508754377188598,), (0.034,), (0.0355,), (0.066,), (-0.0015,), (0.036000000000000004,), (0.038980509745127435,), (0.03033333333333333,), (0.014992503748125934,), (0.031015507753876945,), (0.044333333333333336,), (0.05347326336831584,), (0.04,), (0.07535829865926952,), (0.020673557852617534,), (0.020673557852617534,), (0.020673557852617534,), (0.020673557852617534,), (0.020673557852617534,), (0.020673557852617534,), (0.020673557852617534,), (0.020673557852617534,), (0.020673557852617534,), (0.020673557852617534,), (0.020673557852617534,), (0.020673557852617534,), (0.020673557852617534,), (0.020673557852617534,))'\n"
          ]
        },
        {
          "output_type": "stream",
          "name": "stdout",
          "text": [
            "Range Отток B2C!A347:A387 evaluated to '(('Йошкар-Ола ЭРТХ',), ('Ижевск ЭРТХ',), ('Чебоксары ЭРТХ',), ('Барнаул ЭРТХ',), ('Краснодар ЭРТХ',), ('Красноярск ЭРТХ',), ('Брянск ЭРТХ',), ('Волгоград ЭРТХ',), ('Воронеж ЭРТХ',), ('Иркутск ЭРТХ',), ('Курган ЭРТХ',), ('Липецк ЭРТХ',), ('Омск ЭРТХ',), ('Оренбург ЭРТХ',), ('Пенза ЭРТХ',), ('Пермь ЭРТХ',), ('Ростов-на-Дону ЭРТХ',), ('Рязань ЭРТХ',), ('Самара ЭРТХ',), ('Саратов ЭРТХ',), ('Екатеринбург ЭРТХ',), ('Тверь ЭРТХ',), ('Томск ЭРТХ',), ('Тюмень ЭРТХ',), ('Ульяновск ЭРТХ',), ('Ярославль ЭРТХ',), ('Санкт-Петербург ЭРТХ',), ('ООО \"БИКС+\"',), ('Владивосток ЭРТХ',), ('Казань ЭРТХ',), ('Киров ЭРТХ',), ('Курск ЭРТХ',), ('Магнитогорск ЭРТХ',), ('Москва и МО ЭРТХ',), ('Набережные Челны ЭРТХ',), ('Нижний Новгород ЭРТХ',), ('ООО \"Новотелеком\"',), ('Тула ЭРТХ',), ('Уфа ЭРТХ',), ('Челябинск ЭРТХ',), ('ЭР-Телеком Холдинг',))'\n"
          ]
        },
        {
          "output_type": "stream",
          "name": "stderr",
          "text": [
            "INFO:pycel:Range Отток B2C!A347:A387 evaluated to '(('Йошкар-Ола ЭРТХ',), ('Ижевск ЭРТХ',), ('Чебоксары ЭРТХ',), ('Барнаул ЭРТХ',), ('Краснодар ЭРТХ',), ('Красноярск ЭРТХ',), ('Брянск ЭРТХ',), ('Волгоград ЭРТХ',), ('Воронеж ЭРТХ',), ('Иркутск ЭРТХ',), ('Курган ЭРТХ',), ('Липецк ЭРТХ',), ('Омск ЭРТХ',), ('Оренбург ЭРТХ',), ('Пенза ЭРТХ',), ('Пермь ЭРТХ',), ('Ростов-на-Дону ЭРТХ',), ('Рязань ЭРТХ',), ('Самара ЭРТХ',), ('Саратов ЭРТХ',), ('Екатеринбург ЭРТХ',), ('Тверь ЭРТХ',), ('Томск ЭРТХ',), ('Тюмень ЭРТХ',), ('Ульяновск ЭРТХ',), ('Ярославль ЭРТХ',), ('Санкт-Петербург ЭРТХ',), ('ООО \"БИКС+\"',), ('Владивосток ЭРТХ',), ('Казань ЭРТХ',), ('Киров ЭРТХ',), ('Курск ЭРТХ',), ('Магнитогорск ЭРТХ',), ('Москва и МО ЭРТХ',), ('Набережные Челны ЭРТХ',), ('Нижний Новгород ЭРТХ',), ('ООО \"Новотелеком\"',), ('Тула ЭРТХ',), ('Уфа ЭРТХ',), ('Челябинск ЭРТХ',), ('ЭР-Телеком Холдинг',))'\n"
          ]
        },
        {
          "output_type": "stream",
          "name": "stdout",
          "text": [
            "Range ПП B2C!C18:D18 evaluated to '((None, 0),)'\n"
          ]
        },
        {
          "output_type": "stream",
          "name": "stderr",
          "text": [
            "INFO:pycel:Range ПП B2C!C18:D18 evaluated to '((None, 0),)'\n"
          ]
        },
        {
          "output_type": "stream",
          "name": "stdout",
          "text": [
            "Range Нормативы_Маркетинг!A7:C46 evaluated to '(('Барнаул ЭРТХ', 550, 890), ('Брянск ЭРТХ', 650, 850), ('Волгоград ЭРТХ', 700, 900), ('Воронеж ЭРТХ', 850, 900), ('Екатеринбург ЭРТХ', 530, 400), ('Ижевск ЭРТХ', 450, 210), ('Иркутск ЭРТХ', 650, 890), ('Йошкар-Ола ЭРТХ', 603.6342698847295, 690), ('Казань ЭРТХ', 714, 750), ('Киров ЭРТХ', 669.8309151986695, 690), ('Краснодар ЭРТХ', 450, 1000), ('Красноярск ЭРТХ', 800, 690), ('Курган ЭРТХ', 680, 345), ('Курск ЭРТХ', 898.9611065950377, 1000), ('Липецк ЭРТХ', 650, 1000), ('Магнитогорск ЭРТХ', 850, 1000), ('Москва и МО ЭРТХ', 1462.3636363636363, None), ('Набережные Челны ЭРТХ', 697, 750), ('Нижний Новгород ЭРТХ', 550, 890), ('ООО \"Новотелеком\"', 800, 690), ('Омск ЭРТХ', 670, 552), ('Оренбург ЭРТХ', 587.6486583384284, 895), ('Пенза ЭРТХ', 850, 546), ('Пермь ЭРТХ', 443, 430), ('Ростов-на-Дону ЭРТХ', 380, 900), ('Рязань ЭРТХ', 650, 850), ('Самара ЭРТХ', 930, 627), ('Санкт-Петербург ЭРТХ', 590.12341336358, 1370), ('Саратов ЭРТХ', 780, 575), ('Тверь ЭРТХ', 942.3056234718827, 900), ('Томск ЭРТХ', 900, 590), ('Тула ЭРТХ', 650, 850), ('Тюмень ЭРТХ', 720, 550), ('ООО \"БИКС+\"', 960, 690), ('Ульяновск ЭРТХ', 987, 760), ('Уфа ЭРТХ', 639, 760), ('Чебоксары ЭРТХ', 604, 590), ('Челябинск ЭРТХ', 920, 1000), ('Ярославль ЭРТХ', 850, 900), ('Холдинг', 464.1942286094561, 750))'\n"
          ]
        },
        {
          "output_type": "stream",
          "name": "stderr",
          "text": [
            "INFO:pycel:Range Нормативы_Маркетинг!A7:C46 evaluated to '(('Барнаул ЭРТХ', 550, 890), ('Брянск ЭРТХ', 650, 850), ('Волгоград ЭРТХ', 700, 900), ('Воронеж ЭРТХ', 850, 900), ('Екатеринбург ЭРТХ', 530, 400), ('Ижевск ЭРТХ', 450, 210), ('Иркутск ЭРТХ', 650, 890), ('Йошкар-Ола ЭРТХ', 603.6342698847295, 690), ('Казань ЭРТХ', 714, 750), ('Киров ЭРТХ', 669.8309151986695, 690), ('Краснодар ЭРТХ', 450, 1000), ('Красноярск ЭРТХ', 800, 690), ('Курган ЭРТХ', 680, 345), ('Курск ЭРТХ', 898.9611065950377, 1000), ('Липецк ЭРТХ', 650, 1000), ('Магнитогорск ЭРТХ', 850, 1000), ('Москва и МО ЭРТХ', 1462.3636363636363, None), ('Набережные Челны ЭРТХ', 697, 750), ('Нижний Новгород ЭРТХ', 550, 890), ('ООО \"Новотелеком\"', 800, 690), ('Омск ЭРТХ', 670, 552), ('Оренбург ЭРТХ', 587.6486583384284, 895), ('Пенза ЭРТХ', 850, 546), ('Пермь ЭРТХ', 443, 430), ('Ростов-на-Дону ЭРТХ', 380, 900), ('Рязань ЭРТХ', 650, 850), ('Самара ЭРТХ', 930, 627), ('Санкт-Петербург ЭРТХ', 590.12341336358, 1370), ('Саратов ЭРТХ', 780, 575), ('Тверь ЭРТХ', 942.3056234718827, 900), ('Томск ЭРТХ', 900, 590), ('Тула ЭРТХ', 650, 850), ('Тюмень ЭРТХ', 720, 550), ('ООО \"БИКС+\"', 960, 690), ('Ульяновск ЭРТХ', 987, 760), ('Уфа ЭРТХ', 639, 760), ('Чебоксары ЭРТХ', 604, 590), ('Челябинск ЭРТХ', 920, 1000), ('Ярославль ЭРТХ', 850, 900), ('Холдинг', 464.1942286094561, 750))'\n"
          ]
        },
        {
          "output_type": "stream",
          "name": "stdout",
          "text": [
            "Range Инфляция!S34:AC34 evaluated to '((1, 1.04, 1.0816000000000001, 1.124864, 1.1698585600000002, 1.2166529024000003, 1.2653190184960004, 1.3159317792358405, 1.368569050405274, 1.4233118124214852, 1.4802442849183446),)'\n"
          ]
        },
        {
          "output_type": "stream",
          "name": "stderr",
          "text": [
            "INFO:pycel:Range Инфляция!S34:AC34 evaluated to '((1, 1.04, 1.0816000000000001, 1.124864, 1.1698585600000002, 1.2166529024000003, 1.2653190184960004, 1.3159317792358405, 1.368569050405274, 1.4233118124214852, 1.4802442849183446),)'\n"
          ]
        },
        {
          "output_type": "stream",
          "name": "stdout",
          "text": [
            "Range Инфляция!S1:AC1 evaluated to '((2023, 2024, 2025, 2026, 2027, 2028, 2029, 2030, 2031, 2032, 2033),)'\n"
          ]
        },
        {
          "output_type": "stream",
          "name": "stderr",
          "text": [
            "INFO:pycel:Range Инфляция!S1:AC1 evaluated to '((2023, 2024, 2025, 2026, 2027, 2028, 2029, 2030, 2031, 2032, 2033),)'\n"
          ]
        },
        {
          "output_type": "stream",
          "name": "stdout",
          "text": [
            "Graph construction done, 1985 nodes, 2354 edges, 1985 self.cell_map entries\n"
          ]
        },
        {
          "output_type": "stream",
          "name": "stderr",
          "text": [
            "INFO:pycel:Graph construction done, 1985 nodes, 2354 edges, 1985 self.cell_map entries\n"
          ]
        },
        {
          "output_type": "stream",
          "name": "stdout",
          "text": [
            "\n",
            "Расчет цепочки вычислений для исследуемой ячейки завершен.\n",
            "H9 = 0\n",
            "\n",
            "Генерирую методологию расчетов для ячейки... Ячейка содержит формулу, требуется расшифровка.\n",
            "\n",
            " Маркетинг!H9 -> ='ПП B2C'!D69*$E9*Нормативы_Маркетинг!$G$2*Инфляция!AE$34\n",
            "\n",
            "Вычисляю, в какой диапазон попадает исследуемая ячейка...\n",
            "Ячейка H9 находится в диапазоне: Маркетинг!$H$7:$DW$11.\n",
            "\n",
            "Предполагаемая таблица для хранения: MARKETING_polygraphy_calculated_value\n",
            "Graph construction done, 1986 nodes, 2355 edges, 1986 self.cell_map entries\n"
          ]
        },
        {
          "output_type": "stream",
          "name": "stderr",
          "text": [
            "INFO:pycel:Graph construction done, 1986 nodes, 2355 edges, 1986 self.cell_map entries\n"
          ]
        },
        {
          "output_type": "stream",
          "name": "stdout",
          "text": [
            "\n",
            "Переприсвоенная ячейка: MARKETING_polygraphy_calculated_value[Интернет МКД][H]\n",
            "\n",
            "Формула: ='ПП B2C'!D69*$E9*Нормативы_Маркетинг!$G$2*Инфляция!AE$34\n",
            "\n",
            "Python code: ((_C_(\"ПП B2C!D69\") * _C_(\"Маркетинг!E9\")) * _C_(\"Нормативы_Маркетинг!G2\")) * _C_(\"Инфляция!AE34\")\n",
            "\n",
            "\n",
            "Ячейки, которые используются в формуле: ['ПП B2C!D69', 'Маркетинг!E9', 'Нормативы_Маркетинг!G2', 'Инфляция!AE34']\n",
            "\n",
            "Ячейка ПП B2C!D69 находится в диапазоне: 'ПП B2C'!$D$66:$DS$80.\n",
            "Таблица: PP_B2C_net_sales\n",
            "Graph construction done, 1987 nodes, 2356 edges, 1987 self.cell_map entries\n"
          ]
        },
        {
          "output_type": "stream",
          "name": "stderr",
          "text": [
            "INFO:pycel:Graph construction done, 1987 nodes, 2356 edges, 1987 self.cell_map entries\n"
          ]
        },
        {
          "output_type": "stream",
          "name": "stdout",
          "text": [
            "\n",
            "Ячейка Маркетинг!E9 находится в диапазоне: Маркетинг!$D$8:$E$11.\n",
            "Таблица: MARKETING_polygraphy_normative_from_chp\n",
            "\n",
            "Ячейка Нормативы_Маркетинг!G2 находится в диапазоне: Нормативы_Маркетинг!$E$1:$G$6.\n",
            "Таблица: NORMATIVES_MARKETING_the_upper_right\n",
            "Graph construction done, 1987 nodes, 2356 edges, 1988 self.cell_map entries\n"
          ]
        },
        {
          "output_type": "stream",
          "name": "stderr",
          "text": [
            "INFO:pycel:Graph construction done, 1987 nodes, 2356 edges, 1988 self.cell_map entries\n"
          ]
        },
        {
          "output_type": "stream",
          "name": "stdout",
          "text": [
            "\n",
            "Ячейка Инфляция!AE34 находится в диапазоне: Инфляция!$AE$28:$ET$38.\n",
            "Таблица: INFLATION_indexing_by_months_accumulated_total_constant_costs_b2c_b2r_b2f\n",
            "Graph construction done, 1987 nodes, 2356 edges, 1989 self.cell_map entries\n"
          ]
        },
        {
          "output_type": "stream",
          "name": "stderr",
          "text": [
            "INFO:pycel:Graph construction done, 1987 nodes, 2356 edges, 1989 self.cell_map entries\n"
          ]
        },
        {
          "output_type": "stream",
          "name": "stdout",
          "text": [
            "\n",
            "Редуцирую локальные функции pycel из формулы...\n",
            "\n",
            "Переприсваиваю имена ячеек в формуле...\n",
            "\n",
            "\n",
            "Python code | UPD version:\n",
            " ((PP_B2C_net_sales[Интернет МКД][D] * MARKETING_polygraphy_normative_from_chp[Интернет МКД][E]) * NORMATIVES_MARKETING_the_upper_right[Полиграфия: рекламно-информационного характера][G]) * INFLATION_indexing_by_months_accumulated_total_constant_costs_b2c_b2r_b2f[Полиграфия: рекламно-информационного характера][AE]\n",
            "\n",
            "---------------------------------------------------------------------------------------------------------------------------------\n"
          ]
        }
      ]
    },
    {
      "cell_type": "markdown",
      "source": [
        "# **Сохранить результаты в файл**"
      ],
      "metadata": {
        "id": "Ya7h6un3sua5"
      }
    },
    {
      "cell_type": "code",
      "source": [
        "cell_name_to_write"
      ],
      "metadata": {
        "colab": {
          "base_uri": "https://localhost:8080/",
          "height": 35
        },
        "id": "eWmETf0gxkcR",
        "outputId": "92d4f67b-855f-4969-e213-0f8ded155869"
      },
      "execution_count": 75,
      "outputs": [
        {
          "output_type": "execute_result",
          "data": {
            "text/plain": [
              "'H34'"
            ],
            "application/vnd.google.colaboratory.intrinsic+json": {
              "type": "string"
            }
          },
          "metadata": {},
          "execution_count": 75
        }
      ]
    },
    {
      "cell_type": "code",
      "source": [
        "if cell_or_range == '1':\n",
        "\n",
        "    # Вставить обращение к чату джипити для рекомпиляции или оформления\n",
        "\n",
        "    # compiled_code = excel.cell_map[f'{sheet_name}!{cell_name}'].formula.python_code # \"Your Compiled Code\"\n",
        "\n",
        "    write_to_file(cell_name=cell_name_to_write,\n",
        "                  sheet_name=sheet_name_to_write,\n",
        "                  dependent_tables=dependent_tables,\n",
        "                  table=table,\n",
        "                  compiled_code=compiled_code,\n",
        "                  upd_name=upd_name)"
      ],
      "metadata": {
        "id": "PZBTyRWnqaxG"
      },
      "execution_count": 78,
      "outputs": []
    },
    {
      "cell_type": "code",
      "source": [
        "# через запятую\n",
        "str_test = 'Н9, H10, B11:B14'\n",
        "list_input_cells = str_test.split(', ')\n",
        "list_input_cells\n"
      ],
      "metadata": {
        "colab": {
          "base_uri": "https://localhost:8080/"
        },
        "id": "HWuZAVaXG3vX",
        "outputId": "5d31a737-f79f-4092-c686-a6b12cbaf5d5"
      },
      "execution_count": 104,
      "outputs": [
        {
          "output_type": "execute_result",
          "data": {
            "text/plain": [
              "['Н9', 'H10', 'B11:B14']"
            ]
          },
          "metadata": {},
          "execution_count": 104
        }
      ]
    },
    {
      "cell_type": "code",
      "source": [
        "# преобразование рэнджа в лист\n",
        "\n",
        "# str_range_test = '$S$1:$AC$1'\n",
        "# range_test = [i.coordinate for i in list(pycel.AddressRange(f'{sheet_name}!{str_range_test}').resolve_range[0])]\n",
        "str_range_test = 'B11:B14'\n",
        "range_test = [i[0].coordinate for i in list(pycel.AddressRange(f'{sheet_name}!{str_range_test}').resolve_range)]\n",
        "range_test"
      ],
      "metadata": {
        "colab": {
          "base_uri": "https://localhost:8080/"
        },
        "id": "fiC42KSQISz4",
        "outputId": "477457f3-08d2-4a28-f065-cbbc8b3a27d7"
      },
      "execution_count": 105,
      "outputs": [
        {
          "output_type": "execute_result",
          "data": {
            "text/plain": [
              "['B11', 'B12', 'B13', 'B14']"
            ]
          },
          "metadata": {},
          "execution_count": 105
        }
      ]
    },
    {
      "cell_type": "markdown",
      "source": [
        "# **Полный цикл при единичном или множественном вводе ячеек**"
      ],
      "metadata": {
        "id": "iEa0Opb6B_DQ"
      }
    },
    {
      "cell_type": "code",
      "source": [
        "cell_name = input('Введите наименования ячеек через запятую и пробел (Пример | H9 или H9, H10, B11:B14):  ')\n",
        "\n",
        "sheet_name = input('Введите наименование листа (Пример | Маркетинг): ')\n",
        "sheet_name_to_write = sheet_name\n",
        "\n",
        "pycel_logging_to_file(sheet_name)\n",
        "\n",
        "new_list_of_cells = []\n",
        "for value in cell_name.split(', '):\n",
        "    if value.__contains__(':'):\n",
        "        range_value_list = [i[0].coordinate for i in list(pycel.AddressRange(f'{sheet_name}!{value}').resolve_range)]\n",
        "        for i in range_value_list:\n",
        "          new_list_of_cells.append(i)\n",
        "    else:\n",
        "        new_list_of_cells.append(value)\n",
        "\n",
        "for cell_name in new_list_of_cells:\n",
        "    cell_name_to_write = cell_name\n",
        "    sheet_name = sheet_name_to_write\n",
        "    print(\"Идентификация ячейки завершена: {}\".format(f'{sheet_name}!{cell_name}...'))\n",
        "\n",
        "    print(\"\\n{} = {}\".format(cell_name, excel.evaluate(f'{sheet_name}!{cell_name}')))\n",
        "\n",
        "    if excel.cell_map[f'{sheet_name}!{cell_name}'].formula != None: # ячейка содержит формулу, требуется расшифровка:\n",
        "        print('\\nГенерирую методологию расчетов для ячейки... Ячейка содержит формулу, требуется расшифровка.')\n",
        "\n",
        "        print(\"\\n {}\".format(excel.cell_map[f'{sheet_name}!{cell_name}']))\n",
        "\n",
        "        print(\"\\nВычисляю, в какой диапазон попадает исследуемая ячейка...\")\n",
        "        workbook = excel.excel.workbook\n",
        "\n",
        "        filtered_defined_names = filter_defined_names_by_type_and_sheet(workbook.defined_names, sheet_name)\n",
        "\n",
        "        main_done = False\n",
        "        a = 0\n",
        "        for name, value in filtered_defined_names.items():\n",
        "            if main_done == False:\n",
        "                ranges = workbook.defined_names[name].value  # 'АА_методология!$A$13:$DR$53'\n",
        "                ranges_splited = ranges.split(',')\n",
        "                for range in ranges_splited:\n",
        "                    min_col, min_row, max_col, max_row = openpyxl.utils.cell.range_boundaries(range.split('!')[1])\n",
        "                    result = is_cell_in_explicit_range(workbook, sheet_name, cell_name, min_row, max_row, min_col, max_col)\n",
        "                    if result:\n",
        "                        print(f\"Ячейка {cell_name} находится в диапазоне: {range}.\")\n",
        "                        print(f'\\nПредполагаемая таблица для хранения: {name}')\n",
        "                        table = name\n",
        "                        main_done = True\n",
        "                    if len(ranges_splited) > 1:\n",
        "                        for range_temp in ranges_splited:\n",
        "                            if a == 0:\n",
        "                                min_col_temp, min_row_temp, max_col_temp, max_row_temp = openpyxl.utils.cell.range_boundaries(range_temp.split('!')[1])\n",
        "                            else:\n",
        "                                min_col_tempp, min_row_tempp, max_col_tempp, max_row_tempp = openpyxl.utils.cell.range_boundaries(\n",
        "                                    range_temp.split('!')[1])\n",
        "                                if min_col_tempp < min_col_temp:\n",
        "                                    min_col_temp = min_col_tempp\n",
        "                            a += 1\n",
        "                        start_range_column = openpyxl.utils.cell.get_column_letter(min_col_temp)\n",
        "                    else:\n",
        "                        # start_range_column_i = pycel.AddressRange(range.split('!')[1]).start.column\n",
        "                        start_range_column = pycel.AddressRange(ranges.split(',')[0].split('!')[1]).start.column\n",
        "                    if result:\n",
        "                        break\n",
        "\n",
        "        old_cell_column = pycel.AddressCell(cell_name).column\n",
        "        old_cell_row = pycel.AddressCell(cell_name).row\n",
        "        cell_name_new = name\n",
        "\n",
        "        # ВСТАВИТЬ ПЕРЕПРИСВОЕНИЕ для строк\n",
        "        # Для переприсвоения строки на продукт необходимо вытащить по name именованный диапазон\n",
        "        # У него найти первый столбец\n",
        "        # start_range_column = pycel.AddressRange(workbook.defined_names[name].value).start.column\n",
        "        # И из него вытащить элемент по old_cell_row и подставить вместо old_cell_row\n",
        "        old_cell_row = excel.evaluate(f'{sheet_name}!{start_range_column}{old_cell_row}')\n",
        "        excel.evaluate(f'{sheet_name}!{old_cell_column}{pycel.AddressCell(cell_name).row}')\n",
        "\n",
        "        print(f'\\nПереприсвоенная ячейка: {table}[{old_cell_row}][{old_cell_column}]')\n",
        "        upd_name = f'{table}[{old_cell_row}][{old_cell_column}]'\n",
        "\n",
        "        print(\"\\nФормула: {}\".format(\n",
        "        excel.cell_map[f'{sheet_name}!{cell_name}'].formula))\n",
        "\n",
        "        # print(\"Формула: {}\".format(\n",
        "        # excel.cell_map[f'{sheet_name}!{cell_name}'].formula.base_formula))\n",
        "\n",
        "        print(\"\\nPython code: {}\".format(excel.cell_map[f'{sheet_name}!{cell_name}'].formula.python_code))\n",
        "\n",
        "        formula = excel.cell_map[f'{sheet_name}!{cell_name}'].formula.python_code\n",
        "\n",
        "        # cell_references = list(excel.cell_map[f'{sheet_name}!{cell_name}'].needed_addresses)\n",
        "        cell_references = [i.address for i in list(excel.cell_map[f'{sheet_name}!{cell_name}'].needed_addresses)]\n",
        "\n",
        "        # cell_references = [i.replace('\"', '') for i in re.findall(r'\".*?\"', formula)]\n",
        "        # cell_references = list(filter(filter_refs, cell_references))\n",
        "        print(\"\\n\\nЯчейки, которые используются в формуле: {}\".format(cell_references))\n",
        "        dependent_tables = {}\n",
        "        for i in cell_references:\n",
        "            if i.__contains__(':'): # диапазон ячеек\n",
        "                range_list = [i[0].address for i in list(pycel.AddressRange(i).resolve_range)] # [i.address for i in [i[0] for i in list(excel.cell_map[i].needed_addresses[cell_references.index(i)].resolve_range[0])]]\n",
        "                print(\"\\nДиапазон ячеек, использующийся в формуле состоит из: \\n{}\".format(f'{range_list}'.replace(',', ',\\n')))\n",
        "                range_name = i\n",
        "\n",
        "                replace_cell_name_list = []\n",
        "\n",
        "                for i in range_list:\n",
        "                    done = False\n",
        "                    sheet_name = pycel.AddressCell(i).sheet\n",
        "                    cell_name = pycel.AddressCell(i).coordinate\n",
        "\n",
        "                    filtered_defined_names = filter_defined_names_by_type_and_sheet(workbook.defined_names, sheet_name)\n",
        "\n",
        "                    a = 0\n",
        "                    for name, value in filtered_defined_names.items():\n",
        "                        if done == False:\n",
        "                            ranges = workbook.defined_names[name].value  # 'АА_методология!$A$13:$DR$53'\n",
        "                            ranges_splited = ranges.split(',')\n",
        "                            for range in ranges_splited:\n",
        "                                min_col, min_row, max_col, max_row = openpyxl.utils.cell.range_boundaries(range.split('!')[1])\n",
        "                                result = is_cell_in_explicit_range(workbook, sheet_name, cell_name, min_row, max_row, min_col,\n",
        "                                                                    max_col)\n",
        "                                if result:\n",
        "                                    print(f\"\\nЯчейка {sheet_name}!{cell_name} находится в диапазоне: {range}.\")\n",
        "                                    print(f'Таблица: {name}')\n",
        "                                    done = True\n",
        "                            if len(ranges_splited) > 1:\n",
        "                                for range_temp in ranges_splited:\n",
        "                                    if a == 0:\n",
        "                                        min_col_temp, min_row_temp, max_col_temp, max_row_temp = openpyxl.utils.cell.range_boundaries(range_temp.split('!')[1])\n",
        "                                    else:\n",
        "                                        min_col_tempp, min_row_tempp, max_col_tempp, max_row_tempp = openpyxl.utils.cell.range_boundaries(\n",
        "                                            range_temp.split('!')[1])\n",
        "                                        if min_col_tempp < min_col_temp:\n",
        "                                            min_col_temp = min_col_tempp\n",
        "                                    a += 1\n",
        "                                start_range_column_i = openpyxl.utils.cell.get_column_letter(min_col_temp)\n",
        "                            else:\n",
        "                                # start_range_column_i = pycel.AddressRange(range.split('!')[1]).start.column\n",
        "                                start_range_column_i = pycel.AddressRange(ranges.split(',')[0].split('!')[1]).start.column\n",
        "                            if result:\n",
        "                                break\n",
        "\n",
        "\n",
        "                    dependent_tables[i] = f'{name}'\n",
        "                    cell_name_new_i = f'{name}'\n",
        "                    old_cell_column_i = pycel.AddressCell(cell_name).column\n",
        "                    old_cell_row_i = pycel.AddressCell(cell_name).row\n",
        "\n",
        "                    old_cell_row_i = excel.evaluate(f'{sheet_name}!{start_range_column_i}{old_cell_row_i}')\n",
        "\n",
        "\n",
        "                    replace_cell_name = f'{cell_name_new_i}[{old_cell_row_i}][{old_cell_column_i}]'\n",
        "                    replace_cell_name_list.append(replace_cell_name)\n",
        "\n",
        "                excel.evaluate(f'{sheet_name_to_write}!{pycel.AddressCell(cell_name_to_write).column}{pycel.AddressCell(cell_name_to_write).row}')\n",
        "                formula = re.sub(range_name, f'{replace_cell_name_list}', formula)\n",
        "\n",
        "\n",
        "            else: # конкретная ячейка\n",
        "\n",
        "                sheet_name = pycel.AddressCell(i).sheet\n",
        "                cell_name = pycel.AddressCell(i).coordinate\n",
        "\n",
        "                filtered_defined_names = filter_defined_names_by_type_and_sheet(workbook.defined_names, sheet_name)\n",
        "\n",
        "                done = False\n",
        "\n",
        "                a = 0\n",
        "                for name, value in filtered_defined_names.items():\n",
        "                    if done == False:\n",
        "                        ranges = workbook.defined_names[name].value  # 'АА_методология!$A$13:$DR$53'\n",
        "                        ranges_splited = ranges.split(',')\n",
        "                        for range in ranges_splited:\n",
        "                            min_col, min_row, max_col, max_row = openpyxl.utils.cell.range_boundaries(range.split('!')[1])\n",
        "                            result = is_cell_in_explicit_range(workbook, sheet_name, cell_name, min_row, max_row, min_col,\n",
        "                                                                max_col)\n",
        "                            if result:\n",
        "                                print(f\"\\nЯчейка {sheet_name}!{cell_name} находится в диапазоне: {range}.\")\n",
        "                                print(f'Таблица: {name}')\n",
        "                                done = True\n",
        "                                dependent_tables[i] = f'{name}'\n",
        "                                cell_name_new_i = f'{name}'\n",
        "                        if len(ranges_splited) > 1:\n",
        "                            for range_temp in ranges_splited:\n",
        "                                if a == 0:\n",
        "                                    min_col_temp, min_row_temp, max_col_temp, max_row_temp = openpyxl.utils.cell.range_boundaries(range_temp.split('!')[1])\n",
        "                                else:\n",
        "                                    min_col_tempp, min_row_tempp, max_col_tempp, max_row_tempp = openpyxl.utils.cell.range_boundaries(\n",
        "                                        range_temp.split('!')[1])\n",
        "                                    if min_col_tempp < min_col_temp:\n",
        "                                        min_col_temp = min_col_tempp\n",
        "                                a += 1\n",
        "                            start_range_column_i = openpyxl.utils.cell.get_column_letter(min_col_temp)\n",
        "                        else:\n",
        "                            # start_range_column_i = pycel.AddressRange(range.split('!')[1]).start.column\n",
        "                            start_range_column_i = pycel.AddressRange(ranges.split(',')[0].split('!')[1]).start.column\n",
        "                        if result:\n",
        "                            break\n",
        "\n",
        "                old_cell_column_i = pycel.AddressCell(cell_name).column\n",
        "                old_cell_row_i = pycel.AddressCell(cell_name).row\n",
        "\n",
        "                old_cell_row_i = excel.evaluate(f'{sheet_name}!{start_range_column_i}{old_cell_row_i}')\n",
        "                excel.evaluate(f'{sheet_name_to_write}!{pycel.AddressCell(cell_name_to_write).column}{pycel.AddressCell(cell_name_to_write).row}')\n",
        "\n",
        "                replace_cell_name = f'{cell_name_new_i}[{old_cell_row_i}][{old_cell_column_i}]'\n",
        "\n",
        "                formula = re.sub(rf'{sheet_name}!{cell_name}', replace_cell_name, formula)\n",
        "\n",
        "        print(\"\\nРедуцирую локальные функции pycel из формулы...\")\n",
        "        compiled_code = remove_patterns(formula)\n",
        "        print(\"\\nПереприсваиваю имена ячеек в формуле...\")\n",
        "\n",
        "        print(f\"\\n\\nPython code | UPD version:\\n {compiled_code}\\n\\n---------------------------------------------------------------------------------------------------------------------------------\")\n",
        "\n",
        "        write_to_file(cell_name=cell_name_to_write,\n",
        "                  sheet_name=sheet_name_to_write,\n",
        "                  dependent_tables=dependent_tables,\n",
        "                  table=table,\n",
        "                  compiled_code=compiled_code,\n",
        "                  upd_name=upd_name)\n",
        "\n",
        "        print(f\"\\n Документация по исследуемым ячейкам экспортирована в файл\\nПуть к файлу:{f'/content/{sheet_name}.txt'}\")\n",
        "    else:\n",
        "        print('\\nГенерирую методологию расчетов для ячейки...')\n",
        "\n",
        "        print(\"\\n\\nКОНСТАНТА\\nЯчейка является константой {}\".format(excel.cell_map[f'{sheet_name}!{cell_name}']))\n",
        "\n",
        "        need_rename = input('Все равно выполнить переприсвоение? (д/н)')\n",
        "        if need_rename == 'д' :\n",
        "            print(\"\\nВычисляю, в какой диапазон попадает исследуемая ячейка...\")\n",
        "            workbook = excel.excel.workbook\n",
        "\n",
        "            filtered_defined_names = filter_defined_names_by_type_and_sheet(workbook.defined_names, sheet_name)\n",
        "\n",
        "            main_done = False\n",
        "            a = 0\n",
        "            for name, value in filtered_defined_names.items():\n",
        "                if main_done == False:\n",
        "                    ranges = workbook.defined_names[name].value  # 'АА_методология!$A$13:$DR$53'\n",
        "                    ranges_splited = ranges.split(',')\n",
        "                    for range in ranges_splited:\n",
        "                        min_col, min_row, max_col, max_row = openpyxl.utils.cell.range_boundaries(range.split('!')[1])\n",
        "                        result = is_cell_in_explicit_range(workbook, sheet_name, cell_name, min_row, max_row, min_col, max_col)\n",
        "                        if result:\n",
        "                            print(f\"Ячейка {cell_name} находится в диапазоне: {range}.\")\n",
        "                            print(f'\\nПредполагаемая таблица для хранения: {name}')\n",
        "                            table = name\n",
        "                            main_done = True\n",
        "                        if len(ranges_splited) > 1:\n",
        "                            for range_temp in ranges_splited:\n",
        "                                if a == 0:\n",
        "                                    min_col_temp, min_row_temp, max_col_temp, max_row_temp = openpyxl.utils.cell.range_boundaries(range_temp.split('!')[1])\n",
        "                                else:\n",
        "                                    min_col_tempp, min_row_tempp, max_col_tempp, max_row_tempp = openpyxl.utils.cell.range_boundaries(\n",
        "                                        range_temp.split('!')[1])\n",
        "                                    if min_col_tempp < min_col_temp:\n",
        "                                        min_col_temp = min_col_tempp\n",
        "                                a += 1\n",
        "                            start_range_column = openpyxl.utils.cell.get_column_letter(min_col_temp)\n",
        "                        else:\n",
        "                            # start_range_column_i = pycel.AddressRange(range.split('!')[1]).start.column\n",
        "                            start_range_column = pycel.AddressRange(ranges.split(',')[0].split('!')[1]).start.column\n",
        "                        if result:\n",
        "                            break\n",
        "\n",
        "            old_cell_column = pycel.AddressCell(cell_name).column\n",
        "            old_cell_row = pycel.AddressCell(cell_name).row\n",
        "            cell_name_new = name\n",
        "\n",
        "            # ВСТАВИТЬ ПЕРЕПРИСВОЕНИЕ для строк\n",
        "            # Для переприсвоения строки на продукт необходимо вытащить по name именованный диапазон\n",
        "            # У него найти первый столбец\n",
        "            # start_range_column = pycel.AddressRange(workbook.defined_names[name].value).start.column\n",
        "            # И из него вытащить элемент по old_cell_row и подставить вместо old_cell_row\n",
        "            old_cell_row = excel.evaluate(f'{sheet_name}!{start_range_column}{old_cell_row}')\n",
        "            excel.evaluate(f'{sheet_name}!{old_cell_column}{pycel.AddressCell(cell_name).row}')\n",
        "\n",
        "            print(f'\\nПереприсвоенная ячейка: {table}[{old_cell_row}][{old_cell_column}]')\n",
        "            upd_name = f'{table}[{old_cell_row}][{old_cell_column}]'\n",
        "\n",
        "            #\n"
      ],
      "metadata": {
        "colab": {
          "base_uri": "https://localhost:8080/"
        },
        "id": "MZ8SrT6FJKnv",
        "outputId": "230706c8-1213-4791-a814-b87d0e369ef9"
      },
      "execution_count": 141,
      "outputs": [
        {
          "output_type": "stream",
          "name": "stdout",
          "text": [
            "Введите наименования ячеек через запятую и пробел (Пример | H9 или H9, H10, B11:B14):  K8:K10\n",
            "Введите наименование листа (Пример | Маркетинг): Маркетинг\n",
            "Идентификация ячейки завершена: Маркетинг!K8...\n",
            "Range АА_методология!E16:E52 evaluated to '((0,), (0,), (0,), (None,), (None,), (None,), (None,), (None,), (None,), (None,), (None,), (None,), (None,), (None,), (None,), (None,), (None,), (None,), (None,), (None,), (None,), (None,), (None,), (None,), (None,), (None,), (None,), (None,), (None,), (None,), (None,), (None,), (None,), (None,), (None,), (None,), (None,))'\n"
          ]
        },
        {
          "output_type": "stream",
          "name": "stderr",
          "text": [
            "INFO:pycel:Range АА_методология!E16:E52 evaluated to '((0,), (0,), (0,), (None,), (None,), (None,), (None,), (None,), (None,), (None,), (None,), (None,), (None,), (None,), (None,), (None,), (None,), (None,), (None,), (None,), (None,), (None,), (None,), (None,), (None,), (None,), (None,), (None,), (None,), (None,), (None,), (None,), (None,), (None,), (None,), (None,), (None,))'\n"
          ]
        },
        {
          "output_type": "stream",
          "name": "stdout",
          "text": [
            "Range Отток B2C!S47:S87 evaluated to '((0.09856221831289455,), (0.05394841295933198,), (0.06399903661388505,), (0.06830614623731678,), (0.04659514219477441,), (0.054230562225698005,), (0.07743597725915258,), (0.06051574984285365,), (0.0297029702970297,), (0.04807535003923993,), (0.04282499190846121,), (0.07933188449782332,), (0.05394815411154678,), (0.07122445887813166,), (0.050640284720318,), (0.06426133998937639,), (0.04933247195734573,), (0.05991306627107001,), (0.04991417732049161,), (0.07023484415881294,), (0.059944802223332955,), (0.058574565127536254,), (0.0685475307784493,), (0.05271580593068555,), (0.05136846262247722,), (0.04854741864071965,), (0.05934465313510238,), (0.06258085928676121,), (0.06934477254203306,), (0.048676973663013164,), (0.04525845288022598,), (0.06996469870617505,), (0.07364701241022731,), (0.0670669270693279,), (0.09078581863290151,), (0.06257408606100301,), (0.06582705069704821,), (0.06481726632221163,), (0.045563443851684815,), (0.06921240867690366,), (0.07692307692307691,))'\n"
          ]
        },
        {
          "output_type": "stream",
          "name": "stderr",
          "text": [
            "INFO:pycel:Range Отток B2C!S47:S87 evaluated to '((0.09856221831289455,), (0.05394841295933198,), (0.06399903661388505,), (0.06830614623731678,), (0.04659514219477441,), (0.054230562225698005,), (0.07743597725915258,), (0.06051574984285365,), (0.0297029702970297,), (0.04807535003923993,), (0.04282499190846121,), (0.07933188449782332,), (0.05394815411154678,), (0.07122445887813166,), (0.050640284720318,), (0.06426133998937639,), (0.04933247195734573,), (0.05991306627107001,), (0.04991417732049161,), (0.07023484415881294,), (0.059944802223332955,), (0.058574565127536254,), (0.0685475307784493,), (0.05271580593068555,), (0.05136846262247722,), (0.04854741864071965,), (0.05934465313510238,), (0.06258085928676121,), (0.06934477254203306,), (0.048676973663013164,), (0.04525845288022598,), (0.06996469870617505,), (0.07364701241022731,), (0.0670669270693279,), (0.09078581863290151,), (0.06257408606100301,), (0.06582705069704821,), (0.06481726632221163,), (0.045563443851684815,), (0.06921240867690366,), (0.07692307692307691,))'\n"
          ]
        },
        {
          "output_type": "stream",
          "name": "stdout",
          "text": [
            "Range Отток B2C!S305:S345 evaluated to '((0.07946026986506748,), (0.07802600866955653,), (0.07400000000000002,), (0.0838741887169246,), (0.074,), (0.08404202101050526,), (0.06593406593406592,), (0.07407407407407407,), (0.08545727136431784,), (0.07253626813406702,), (0.08004002001000501,), (0.0879560219890055,), (0.09659659659659663,), (0.0785,), (0.07896051974012994,), (0.07953976988494248,), (0.07403701850925462,), (0.07003501750875436,), (0.078,), (0.08304152076038018,), (0.08797067644118627,), (0.07446276861569213,), (0.07600000000000001,), (0.07946026986506746,), (0.07753876938469235,), (0.0739260739260739,), (0.065,), (0.07266666666666666,), (0.07266666666666666,), (0.07266666666666666,), (0.07266666666666666,), (0.07266666666666666,), (0.07266666666666666,), (0.07266666666666666,), (0.07266666666666666,), (0.07266666666666666,), (0.07266666666666666,), (0.07266666666666666,), (0.07266666666666666,), (0.07266666666666666,), (0.07266666666666666,))'\n"
          ]
        },
        {
          "output_type": "stream",
          "name": "stderr",
          "text": [
            "INFO:pycel:Range Отток B2C!S305:S345 evaluated to '((0.07946026986506748,), (0.07802600866955653,), (0.07400000000000002,), (0.0838741887169246,), (0.074,), (0.08404202101050526,), (0.06593406593406592,), (0.07407407407407407,), (0.08545727136431784,), (0.07253626813406702,), (0.08004002001000501,), (0.0879560219890055,), (0.09659659659659663,), (0.0785,), (0.07896051974012994,), (0.07953976988494248,), (0.07403701850925462,), (0.07003501750875436,), (0.078,), (0.08304152076038018,), (0.08797067644118627,), (0.07446276861569213,), (0.07600000000000001,), (0.07946026986506746,), (0.07753876938469235,), (0.0739260739260739,), (0.065,), (0.07266666666666666,), (0.07266666666666666,), (0.07266666666666666,), (0.07266666666666666,), (0.07266666666666666,), (0.07266666666666666,), (0.07266666666666666,), (0.07266666666666666,), (0.07266666666666666,), (0.07266666666666666,), (0.07266666666666666,), (0.07266666666666666,), (0.07266666666666666,), (0.07266666666666666,))'\n"
          ]
        },
        {
          "output_type": "stream",
          "name": "stdout",
          "text": [
            "Range ПП B2C!F17:G17 evaluated to '((0, 0),)'\n"
          ]
        },
        {
          "output_type": "stream",
          "name": "stderr",
          "text": [
            "INFO:pycel:Range ПП B2C!F17:G17 evaluated to '((0, 0),)'\n"
          ]
        },
        {
          "output_type": "stream",
          "name": "stdout",
          "text": [
            "Graph construction done, 5293 nodes, 6857 edges, 5315 self.cell_map entries\n"
          ]
        },
        {
          "output_type": "stream",
          "name": "stderr",
          "text": [
            "INFO:pycel:Graph construction done, 5293 nodes, 6857 edges, 5315 self.cell_map entries\n"
          ]
        },
        {
          "output_type": "stream",
          "name": "stdout",
          "text": [
            "\n",
            "K8 = 0\n",
            "\n",
            "Генерирую методологию расчетов для ячейки... Ячейка содержит формулу, требуется расшифровка.\n",
            "\n",
            " Маркетинг!K8 -> ='ПП B2C'!G68*$E8*Нормативы_Маркетинг!$G$2*Инфляция!AH$34\n",
            "\n",
            "Вычисляю, в какой диапазон попадает исследуемая ячейка...\n",
            "Ячейка K8 находится в диапазоне: Маркетинг!$H$7:$DW$11.\n",
            "\n",
            "Предполагаемая таблица для хранения: MARKETING_polygraphy_calculated_value\n",
            "\n",
            "Переприсвоенная ячейка: MARKETING_polygraphy_calculated_value[ИКТВ][K]\n",
            "\n",
            "Формула: ='ПП B2C'!G68*$E8*Нормативы_Маркетинг!$G$2*Инфляция!AH$34\n",
            "\n",
            "Python code: ((_C_(\"ПП B2C!G68\") * _C_(\"Маркетинг!E8\")) * _C_(\"Нормативы_Маркетинг!G2\")) * _C_(\"Инфляция!AH34\")\n",
            "\n",
            "\n",
            "Ячейки, которые используются в формуле: ['ПП B2C!G68', 'Маркетинг!E8', 'Нормативы_Маркетинг!G2', 'Инфляция!AH34']\n",
            "\n",
            "Ячейка ПП B2C!G68 находится в диапазоне: 'ПП B2C'!$D$66:$DS$80.\n",
            "Таблица: PP_B2C_net_sales\n",
            "Graph construction done, 5293 nodes, 6857 edges, 5316 self.cell_map entries\n"
          ]
        },
        {
          "output_type": "stream",
          "name": "stderr",
          "text": [
            "INFO:pycel:Graph construction done, 5293 nodes, 6857 edges, 5316 self.cell_map entries\n"
          ]
        },
        {
          "output_type": "stream",
          "name": "stdout",
          "text": [
            "\n",
            "Ячейка Маркетинг!E8 находится в диапазоне: Маркетинг!$D$8:$E$11.\n",
            "Таблица: MARKETING_polygraphy_normative_from_chp\n",
            "\n",
            "Ячейка Нормативы_Маркетинг!G2 находится в диапазоне: Нормативы_Маркетинг!$E$1:$G$6.\n",
            "Таблица: NORMATIVES_MARKETING_the_upper_right\n",
            "\n",
            "Ячейка Инфляция!AH34 находится в диапазоне: Инфляция!$AE$28:$ET$38.\n",
            "Таблица: INFLATION_indexing_by_months_accumulated_total_constant_costs_b2c_b2r_b2f\n",
            "\n",
            "Редуцирую локальные функции pycel из формулы...\n",
            "\n",
            "Переприсваиваю имена ячеек в формуле...\n",
            "\n",
            "\n",
            "Python code | UPD version:\n",
            " ((PP_B2C_net_sales[ИКТВ][G] * MARKETING_polygraphy_normative_from_chp[ИКТВ][E]) * NORMATIVES_MARKETING_the_upper_right[Полиграфия: рекламно-информационного характера][G]) * INFLATION_indexing_by_months_accumulated_total_constant_costs_b2c_b2r_b2f[Полиграфия: рекламно-информационного характера][AH]\n",
            "\n",
            "---------------------------------------------------------------------------------------------------------------------------------\n",
            "\n",
            " Документация по исследуемым ячейкам экспортирована в файл\n",
            "Путь к файлу:/content/Инфляция.txt\n",
            "Идентификация ячейки завершена: Маркетинг!K9...\n",
            "Range Отток B2C!S89:S129 evaluated to '((0.06968958757123887,), (0.04901087330839433,), (0.061266150500530095,), (0.06068411449347024,), (0.03971495104902673,), (0.05836139299186543,), (0.08096021223077737,), (0.056898631775040794,), (0.0297029702970297,), (0.05777300336657303,), (0.04256214635379985,), (0.08127026025794865,), (0.053614550130343115,), (0.05971763937802464,), (0.059716856226545156,), (0.0787471374786848,), (0.04785156519065726,), (0.05858130221585915,), (0.04899355637802592,), (0.06059370004815631,), (0.05800450510303559,), (0.053899937942876196,), (0.06429887354953506,), (0.057052917418769555,), (0.051046877608796525,), (0.05629457736034693,), (0.06570909032923229,), (0.06988142967478088,), (0.06106077595495014,), (0.05281991544069151,), (0.05237234100026745,), (0.05708155736629393,), (0.062065449192671755,), (0.07192976569976038,), (0.05623651989454867,), (0.059446945712648726,), (0.06667251732731322,), (0.061101240337689905,), (0.05202705003501065,), (0.063525923536116,), (0.07556675062972291,))'\n"
          ]
        },
        {
          "output_type": "stream",
          "name": "stderr",
          "text": [
            "INFO:pycel:Range Отток B2C!S89:S129 evaluated to '((0.06968958757123887,), (0.04901087330839433,), (0.061266150500530095,), (0.06068411449347024,), (0.03971495104902673,), (0.05836139299186543,), (0.08096021223077737,), (0.056898631775040794,), (0.0297029702970297,), (0.05777300336657303,), (0.04256214635379985,), (0.08127026025794865,), (0.053614550130343115,), (0.05971763937802464,), (0.059716856226545156,), (0.0787471374786848,), (0.04785156519065726,), (0.05858130221585915,), (0.04899355637802592,), (0.06059370004815631,), (0.05800450510303559,), (0.053899937942876196,), (0.06429887354953506,), (0.057052917418769555,), (0.051046877608796525,), (0.05629457736034693,), (0.06570909032923229,), (0.06988142967478088,), (0.06106077595495014,), (0.05281991544069151,), (0.05237234100026745,), (0.05708155736629393,), (0.062065449192671755,), (0.07192976569976038,), (0.05623651989454867,), (0.059446945712648726,), (0.06667251732731322,), (0.061101240337689905,), (0.05202705003501065,), (0.063525923536116,), (0.07556675062972291,))'\n"
          ]
        },
        {
          "output_type": "stream",
          "name": "stdout",
          "text": [
            "Range Отток B2C!S347:S387 evaluated to '((0.0624687656171914,), (0.07664111962679106,), (0.061,), (0.077,), (0.06706706706706707,), (0.06943056943056942,), (0.06693306693306694,), (0.0719640179910045,), (0.075,), (0.06293706293706293,), (0.07303651825912956,), (0.095,), (0.0844577711144428,), (0.07303651825912957,), (0.064,), (0.06999999999999999,), (0.067,), (0.0635,), (0.068,), (0.0769615192403798,), (0.07433333333333333,), (0.06296851574212893,), (0.08104052026013008,), (0.06966666666666667,), (0.06346826586706647,), (0.064,), (0.05779010633379565,), (0.06268756252084026,), (0.06268756252084026,), (0.06268756252084026,), (0.06268756252084026,), (0.06268756252084026,), (0.06268756252084026,), (0.06268756252084026,), (0.06268756252084026,), (0.06268756252084026,), (0.06268756252084026,), (0.06268756252084026,), (0.06268756252084026,), (0.06268756252084026,), (0.06268756252084026,))'\n"
          ]
        },
        {
          "output_type": "stream",
          "name": "stderr",
          "text": [
            "INFO:pycel:Range Отток B2C!S347:S387 evaluated to '((0.0624687656171914,), (0.07664111962679106,), (0.061,), (0.077,), (0.06706706706706707,), (0.06943056943056942,), (0.06693306693306694,), (0.0719640179910045,), (0.075,), (0.06293706293706293,), (0.07303651825912956,), (0.095,), (0.0844577711144428,), (0.07303651825912957,), (0.064,), (0.06999999999999999,), (0.067,), (0.0635,), (0.068,), (0.0769615192403798,), (0.07433333333333333,), (0.06296851574212893,), (0.08104052026013008,), (0.06966666666666667,), (0.06346826586706647,), (0.064,), (0.05779010633379565,), (0.06268756252084026,), (0.06268756252084026,), (0.06268756252084026,), (0.06268756252084026,), (0.06268756252084026,), (0.06268756252084026,), (0.06268756252084026,), (0.06268756252084026,), (0.06268756252084026,), (0.06268756252084026,), (0.06268756252084026,), (0.06268756252084026,), (0.06268756252084026,), (0.06268756252084026,))'\n"
          ]
        },
        {
          "output_type": "stream",
          "name": "stdout",
          "text": [
            "Range ПП B2C!F18:G18 evaluated to '((0, 0),)'\n"
          ]
        },
        {
          "output_type": "stream",
          "name": "stderr",
          "text": [
            "INFO:pycel:Range ПП B2C!F18:G18 evaluated to '((0, 0),)'\n"
          ]
        },
        {
          "output_type": "stream",
          "name": "stdout",
          "text": [
            "Graph construction done, 5385 nodes, 7291 edges, 5408 self.cell_map entries\n"
          ]
        },
        {
          "output_type": "stream",
          "name": "stderr",
          "text": [
            "INFO:pycel:Graph construction done, 5385 nodes, 7291 edges, 5408 self.cell_map entries\n"
          ]
        },
        {
          "output_type": "stream",
          "name": "stdout",
          "text": [
            "\n",
            "K9 = 0\n",
            "\n",
            "Генерирую методологию расчетов для ячейки... Ячейка содержит формулу, требуется расшифровка.\n",
            "\n",
            " Маркетинг!K9 -> ='ПП B2C'!G69*$E9*Нормативы_Маркетинг!$G$2*Инфляция!AH$34\n",
            "\n",
            "Вычисляю, в какой диапазон попадает исследуемая ячейка...\n",
            "Ячейка K9 находится в диапазоне: Маркетинг!$H$7:$DW$11.\n",
            "\n",
            "Предполагаемая таблица для хранения: MARKETING_polygraphy_calculated_value\n",
            "\n",
            "Переприсвоенная ячейка: MARKETING_polygraphy_calculated_value[Интернет МКД][K]\n",
            "\n",
            "Формула: ='ПП B2C'!G69*$E9*Нормативы_Маркетинг!$G$2*Инфляция!AH$34\n",
            "\n",
            "Python code: ((_C_(\"ПП B2C!G69\") * _C_(\"Маркетинг!E9\")) * _C_(\"Нормативы_Маркетинг!G2\")) * _C_(\"Инфляция!AH34\")\n",
            "\n",
            "\n",
            "Ячейки, которые используются в формуле: ['ПП B2C!G69', 'Маркетинг!E9', 'Нормативы_Маркетинг!G2', 'Инфляция!AH34']\n",
            "\n",
            "Ячейка ПП B2C!G69 находится в диапазоне: 'ПП B2C'!$D$66:$DS$80.\n",
            "Таблица: PP_B2C_net_sales\n",
            "\n",
            "Ячейка Маркетинг!E9 находится в диапазоне: Маркетинг!$D$8:$E$11.\n",
            "Таблица: MARKETING_polygraphy_normative_from_chp\n",
            "\n",
            "Ячейка Нормативы_Маркетинг!G2 находится в диапазоне: Нормативы_Маркетинг!$E$1:$G$6.\n",
            "Таблица: NORMATIVES_MARKETING_the_upper_right\n",
            "\n",
            "Ячейка Инфляция!AH34 находится в диапазоне: Инфляция!$AE$28:$ET$38.\n",
            "Таблица: INFLATION_indexing_by_months_accumulated_total_constant_costs_b2c_b2r_b2f\n",
            "\n",
            "Редуцирую локальные функции pycel из формулы...\n",
            "\n",
            "Переприсваиваю имена ячеек в формуле...\n",
            "\n",
            "\n",
            "Python code | UPD version:\n",
            " ((PP_B2C_net_sales[Интернет МКД][G] * MARKETING_polygraphy_normative_from_chp[Интернет МКД][E]) * NORMATIVES_MARKETING_the_upper_right[Полиграфия: рекламно-информационного характера][G]) * INFLATION_indexing_by_months_accumulated_total_constant_costs_b2c_b2r_b2f[Полиграфия: рекламно-информационного характера][AH]\n",
            "\n",
            "---------------------------------------------------------------------------------------------------------------------------------\n",
            "\n",
            " Документация по исследуемым ячейкам экспортирована в файл\n",
            "Путь к файлу:/content/Инфляция.txt\n",
            "Идентификация ячейки завершена: Маркетинг!K10...\n",
            "Range Продажи B2C!K7:M7 evaluated to '((0, 0, 0),)'\n"
          ]
        },
        {
          "output_type": "stream",
          "name": "stderr",
          "text": [
            "INFO:pycel:Range Продажи B2C!K7:M7 evaluated to '((0, 0, 0),)'\n"
          ]
        },
        {
          "output_type": "stream",
          "name": "stdout",
          "text": [
            "Range ПП B2C!F23:G23 evaluated to '((0, 0),)'\n"
          ]
        },
        {
          "output_type": "stream",
          "name": "stderr",
          "text": [
            "INFO:pycel:Range ПП B2C!F23:G23 evaluated to '((0, 0),)'\n"
          ]
        },
        {
          "output_type": "stream",
          "name": "stdout",
          "text": [
            "Range ПП B2C!F24:G24 evaluated to '((0, 0),)'\n"
          ]
        },
        {
          "output_type": "stream",
          "name": "stderr",
          "text": [
            "INFO:pycel:Range ПП B2C!F24:G24 evaluated to '((0, 0),)'\n"
          ]
        },
        {
          "output_type": "stream",
          "name": "stdout",
          "text": [
            "Range ПП B2C!F25:G25 evaluated to '((0, 0),)'\n"
          ]
        },
        {
          "output_type": "stream",
          "name": "stderr",
          "text": [
            "INFO:pycel:Range ПП B2C!F25:G25 evaluated to '((0, 0),)'\n"
          ]
        },
        {
          "output_type": "stream",
          "name": "stdout",
          "text": [
            "Range ПП B2C!F26:G26 evaluated to '((0, 0),)'\n"
          ]
        },
        {
          "output_type": "stream",
          "name": "stderr",
          "text": [
            "INFO:pycel:Range ПП B2C!F26:G26 evaluated to '((0, 0),)'\n"
          ]
        },
        {
          "output_type": "stream",
          "name": "stdout",
          "text": [
            "Range ПП B2C!F27:G27 evaluated to '((0, 0),)'\n"
          ]
        },
        {
          "output_type": "stream",
          "name": "stderr",
          "text": [
            "INFO:pycel:Range ПП B2C!F27:G27 evaluated to '((0, 0),)'\n"
          ]
        },
        {
          "output_type": "stream",
          "name": "stdout",
          "text": [
            "Range ПП B2C!F28:G28 evaluated to '((0, 0),)'\n"
          ]
        },
        {
          "output_type": "stream",
          "name": "stderr",
          "text": [
            "INFO:pycel:Range ПП B2C!F28:G28 evaluated to '((0, 0),)'\n"
          ]
        },
        {
          "output_type": "stream",
          "name": "stdout",
          "text": [
            "Range ПП B2C!F29:G29 evaluated to '((0, 0),)'\n"
          ]
        },
        {
          "output_type": "stream",
          "name": "stderr",
          "text": [
            "INFO:pycel:Range ПП B2C!F29:G29 evaluated to '((0, 0),)'\n"
          ]
        },
        {
          "output_type": "stream",
          "name": "stdout",
          "text": [
            "Range ПП B2C!G74:G80 evaluated to '((0,), (0,), (0,), (0,), (0,), (0,), (0,))'\n"
          ]
        },
        {
          "output_type": "stream",
          "name": "stderr",
          "text": [
            "INFO:pycel:Range ПП B2C!G74:G80 evaluated to '((0,), (0,), (0,), (0,), (0,), (0,), (0,))'\n"
          ]
        },
        {
          "output_type": "stream",
          "name": "stdout",
          "text": [
            "Graph construction done, 5445 nodes, 7406 edges, 5468 self.cell_map entries\n"
          ]
        },
        {
          "output_type": "stream",
          "name": "stderr",
          "text": [
            "INFO:pycel:Graph construction done, 5445 nodes, 7406 edges, 5468 self.cell_map entries\n"
          ]
        },
        {
          "output_type": "stream",
          "name": "stdout",
          "text": [
            "\n",
            "K10 = 0\n",
            "\n",
            "Генерирую методологию расчетов для ячейки... Ячейка содержит формулу, требуется расшифровка.\n",
            "\n",
            " Маркетинг!K10 -> =SUM('ПП B2C'!G74:G80)*$E$10*Инфляция!AH$34\n",
            "\n",
            "Вычисляю, в какой диапазон попадает исследуемая ячейка...\n",
            "Ячейка K10 находится в диапазоне: Маркетинг!$H$7:$DW$11.\n",
            "\n",
            "Предполагаемая таблица для хранения: MARKETING_polygraphy_calculated_value\n",
            "\n",
            "Переприсвоенная ячейка: MARKETING_polygraphy_calculated_value[Цифровые продукты][K]\n",
            "\n",
            "Формула: =SUM('ПП B2C'!G74:G80)*$E$10*Инфляция!AH$34\n",
            "\n",
            "Python code: (sum_(_R_(\"ПП B2C!G74:G80\")) * _C_(\"Маркетинг!E10\")) * _C_(\"Инфляция!AH34\")\n",
            "\n",
            "\n",
            "Ячейки, которые используются в формуле: ['ПП B2C!G74:G80', 'Маркетинг!E10', 'Инфляция!AH34']\n",
            "\n",
            "Диапазон ячеек, использующийся в формуле состоит из: \n",
            "['ПП B2C!G74',\n",
            " 'ПП B2C!G75',\n",
            " 'ПП B2C!G76',\n",
            " 'ПП B2C!G77',\n",
            " 'ПП B2C!G78',\n",
            " 'ПП B2C!G79',\n",
            " 'ПП B2C!G80']\n",
            "\n",
            "Ячейка ПП B2C!G74 находится в диапазоне: 'ПП B2C'!$D$66:$DS$80.\n",
            "Таблица: PP_B2C_net_sales\n",
            "\n",
            "Ячейка ПП B2C!G75 находится в диапазоне: 'ПП B2C'!$D$66:$DS$80.\n",
            "Таблица: PP_B2C_net_sales\n",
            "\n",
            "Ячейка ПП B2C!G76 находится в диапазоне: 'ПП B2C'!$D$66:$DS$80.\n",
            "Таблица: PP_B2C_net_sales\n",
            "\n",
            "Ячейка ПП B2C!G77 находится в диапазоне: 'ПП B2C'!$D$66:$DS$80.\n",
            "Таблица: PP_B2C_net_sales\n",
            "\n",
            "Ячейка ПП B2C!G78 находится в диапазоне: 'ПП B2C'!$D$66:$DS$80.\n",
            "Таблица: PP_B2C_net_sales\n",
            "\n",
            "Ячейка ПП B2C!G79 находится в диапазоне: 'ПП B2C'!$D$66:$DS$80.\n",
            "Таблица: PP_B2C_net_sales\n",
            "\n",
            "Ячейка ПП B2C!G80 находится в диапазоне: 'ПП B2C'!$D$66:$DS$80.\n",
            "Таблица: PP_B2C_net_sales\n",
            "\n",
            "Ячейка Маркетинг!E10 находится в диапазоне: Маркетинг!$D$8:$E$11.\n",
            "Таблица: MARKETING_polygraphy_normative_from_chp\n",
            "\n",
            "Ячейка Инфляция!AH34 находится в диапазоне: Инфляция!$AE$28:$ET$38.\n",
            "Таблица: INFLATION_indexing_by_months_accumulated_total_constant_costs_b2c_b2r_b2f\n",
            "\n",
            "Редуцирую локальные функции pycel из формулы...\n",
            "\n",
            "Переприсваиваю имена ячеек в формуле...\n",
            "\n",
            "\n",
            "Python code | UPD version:\n",
            " (sum_(['PP_B2C_transfers_percentage[Дмф][G]', 'PP_B2C_transfers_percentage[-][G]', 'PP_B2C_transfers_percentage[-][G]', 'PP_B2C_transfers_percentage[-][G]', 'PP_B2C_transfers_percentage[-][G]', 'PP_B2C_transfers_percentage[-][G]', 'PP_B2C_transfers_percentage[-][G]']) * MARKETING_polygraphy_normative_from_chp[Цифровые продукты][E]) * INFLATION_indexing_by_months_accumulated_total_constant_costs_b2c_b2r_b2f[Полиграфия: рекламно-информационного характера][AH]\n",
            "\n",
            "---------------------------------------------------------------------------------------------------------------------------------\n",
            "\n",
            " Документация по исследуемым ячейкам экспортирована в файл\n",
            "Путь к файлу:/content/Инфляция.txt\n"
          ]
        }
      ]
    },
    {
      "cell_type": "markdown",
      "source": [
        "# **График прямо тут**\n",
        "Внимание!  Для тяжелых ячеек это долго и неинформативно\n",
        "\n",
        "\n"
      ],
      "metadata": {
        "id": "Q713gZxks2U7"
      }
    },
    {
      "cell_type": "code",
      "source": [
        "if cell_or_range == '1':\n",
        "\n",
        "    plot_answer = input('Вывести график в консоль? (д/н) ')\n",
        "    if plot_answer == 'д':\n",
        "        print(\"Plotting using matplotlib...\")\n",
        "        try:\n",
        "            excel.plot_graph()\n",
        "            print(\"Well done...\")\n",
        "        except ImportError:\n",
        "            pass\n"
      ],
      "metadata": {
        "id": "6ZNmyanrqU9M",
        "colab": {
          "base_uri": "https://localhost:8080/"
        },
        "outputId": "1933ec55-b1c4-4750-c1cd-abebc7c2f9f6"
      },
      "execution_count": null,
      "outputs": [
        {
          "name": "stdout",
          "output_type": "stream",
          "text": [
            "Хочешь чекнуть график? (д/н) н\n"
          ]
        }
      ]
    },
    {
      "cell_type": "markdown",
      "source": [
        "# **ЭКСПОРТ ГРАФИКА в виде файла**"
      ],
      "metadata": {
        "id": "aWEhCbk3tCEV"
      }
    },
    {
      "cell_type": "code",
      "source": [
        "if cell_or_range == '1':\n",
        "\n",
        "    export_plot_answer = input('Экспортировать график в .gexf для gephi? (д/н) ')\n",
        "    if export_plot_answer == 'д':\n",
        "        # export the graph, can be loaded by a viewer like gephi\n",
        "        fname = f'{sheet_name}!{cell_name}'\n",
        "        print(\"Exporting to gexf...\")\n",
        "        excel.export_to_gexf(fname + \".gexf\")\n",
        "\n",
        "    print(\"\\n.\\n.\\n.\\nFINISH\")\n",
        "\n",
        "\n",
        "# import pycel\n",
        "# row = pycel.AddressCell('Инфляция!AE$34').row  #34\n",
        "# coordinate = pycel.AddressCell('Инфляция!AE$34').coordinate  #AE34\n",
        "# test_cell = pycel.AddressCell('Инфляция!AE$34')\n",
        "# test_range= pycel.AddressRange('Инфляция!AE$34:AF$37') #has start and end"
      ],
      "metadata": {
        "id": "vYRbWhUisP7Y",
        "colab": {
          "base_uri": "https://localhost:8080/"
        },
        "outputId": "5fac1ec6-5ebd-475a-be7c-f0ff5423ac49"
      },
      "execution_count": null,
      "outputs": [
        {
          "output_type": "stream",
          "name": "stdout",
          "text": [
            "Может выгрузить его в .gexf для gephi? (д/н) н\n",
            "\n",
            ".\n",
            ".\n",
            ".\n",
            "Great job! Please, smoke and drink some coffee one more time to celebrate:)\n"
          ]
        }
      ]
    },
    {
      "cell_type": "markdown",
      "source": [
        "# **BAG FIX #1**\n",
        "Ошибочное извлечение строки при извлечении ссылок на ячейки\n",
        "![image.png](data:image/png;base64,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)"
      ],
      "metadata": {
        "id": "W0uWn2qeM6IO"
      }
    },
    {
      "cell_type": "code",
      "source": [
        "\"\"\"\n",
        "    Программа для исключения извлечения простых строк из выделенного списка ссылок на ячейки из-за кавычек\n",
        "    Исключение строк не содержащих Листа со знаком восклицания или сочетания букв и цифр при помощи filter()\n",
        "    Примечание: так как бывают ссылки без листов \"С9\", этот фикс не сработает, если попадется значение, например, 'Частный сектор2', так как оно имеет такую же структуру\n",
        "    Технически можно ограничить следующим образом: строка воспринимается в качестве ссылки на ячейку только если перед цифрой одна или две буквы, но это тоже не абсолютное решение\n",
        "\"\"\"\n",
        "\n",
        "# Список строк с похожими элементами\n",
        "list1 = ['Организационные!E110', 'Частный сектор', 'Организационные!E3', 'Нормативы_Маркетинг!A7:C46', 'Организационные!E3', 'Нормативы_Маркетинг!A7:C46']\n",
        "list2 = ['Организационные!E110', 'Организационные!E3', 'Нормативы_Маркетинг!A7:C46', 'Организационные!E3', 'Нормативы_Маркетинг!A7:C46']\n",
        "\n",
        "\n",
        "# функция, которая проверяет строки на вхождение\n",
        "def filter_refs(string_to_check):\n",
        "    if len(re.findall(r'\\w+[!]*\\w?\\d+', string_to_check)) > 0: # len(re.findall(r'!', string_to_check)) > 0 or\n",
        "        return True\n",
        "    else:\n",
        "        return False\n",
        "\n",
        "# Применение filter() для удаления повторяющихся строк\n",
        "ll = list2\n",
        "out_filter = list(filter(filter_refs, list1))\n",
        "\n",
        "print(\"Неотфильтрованный список:\", list1)\n",
        "print(\"Отфильтрованный список:\", out_filter)\n",
        "print(\"Сошлось ли:\", out_filter == list2)"
      ],
      "metadata": {
        "colab": {
          "base_uri": "https://localhost:8080/"
        },
        "id": "yT-b0gxNKY7Q",
        "outputId": "51ee7f90-e418-4f7d-edba-f1196b1f85e1"
      },
      "execution_count": null,
      "outputs": [
        {
          "output_type": "stream",
          "name": "stdout",
          "text": [
            "Неотфильтрованный список: ['Организационные!E110', 'Частный сектор', 'Организационные!E3', 'Нормативы_Маркетинг!A7:C46', 'Организационные!E3', 'Нормативы_Маркетинг!A7:C46']\n",
            "Отфильтрованный список: ['Организационные!E110', 'Организационные!E3', 'Нормативы_Маркетинг!A7:C46', 'Организационные!E3', 'Нормативы_Маркетинг!A7:C46']\n",
            "Сошлось ли: True\n"
          ]
        }
      ]
    },
    {
      "cell_type": "markdown",
      "source": [
        "# **BAG FIX #3**\n",
        "Неправильный ренейминг ячейки в имя диапазона + ТЕСТ\n",
        "\n",
        "![image.png](data:image/png;base64,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)"
      ],
      "metadata": {
        "id": "eZ6pYK8rEOmF"
      }
    },
    {
      "cell_type": "code",
      "source": [
        "formula = rf'_C_(\"ПП B2C!D69\")'\n",
        "i = 'ПП B2C!D69'\n",
        "\n",
        "sheet_name = pycel.AddressCell(i).sheet\n",
        "cell_name = pycel.AddressCell(i).coordinate\n",
        "\n",
        "filtered_defined_names = filter_defined_names_by_type_and_sheet(workbook.defined_names, sheet_name)\n",
        "\n",
        "done = False\n",
        "a = 0\n",
        "for name, value in filtered_defined_names.items():\n",
        "    if done == False:\n",
        "        # print(f'{name} : {value}')\n",
        "        ranges = workbook.defined_names[name].value  # 'АА_методология!$A$13:$DR$53'\n",
        "        ranges_splited = ranges.split(',')\n",
        "        for range in ranges_splited:\n",
        "            min_col, min_row, max_col, max_row = openpyxl.utils.cell.range_boundaries(range.split('!')[1])\n",
        "            result = is_cell_in_explicit_range(workbook, sheet_name, cell_name, min_row, max_row, min_col,\n",
        "                                                max_col)\n",
        "            if result:\n",
        "                print(f\"\\nЯчейка {sheet_name}!{cell_name} находится в диапазоне: {range}.\")\n",
        "                print(f'Таблица: {name}')\n",
        "                done = True\n",
        "                dependent_tables[i] = f'{name}'\n",
        "                cell_name_new_i = f'{name}'\n",
        "                break\n",
        "        if len(ranges_splited) > 1:\n",
        "            for range_temp in ranges_splited:\n",
        "                if a == 0:\n",
        "                    min_col_temp, min_row_temp, max_col_temp, max_row_temp = openpyxl.utils.cell.range_boundaries(range_temp.split('!')[1])\n",
        "                else:\n",
        "                    min_col_tempp, min_row_tempp, max_col_tempp, max_row_tempp = openpyxl.utils.cell.range_boundaries(\n",
        "                        range_temp.split('!')[1])\n",
        "                    if min_col_tempp < min_col_temp:\n",
        "                        min_col_temp = min_col_tempp\n",
        "                a += 1\n",
        "            start_range_column_i = openpyxl.utils.cell.get_column_letter(min_col_temp)\n",
        "        else:\n",
        "            # start_range_column_i = pycel.AddressRange(range.split('!')[1]).start.column\n",
        "            start_range_column_i = pycel.AddressRange(ranges.split(',')[0].split('!')[1]).start.column\n",
        "\n",
        "old_cell_column_i = pycel.AddressCell(cell_name).column\n",
        "old_cell_row_i = pycel.AddressCell(cell_name).row\n",
        "\n",
        "old_cell_row_i = excel.evaluate(f'{sheet_name}!{start_range_column_i}{old_cell_row_i}')\n",
        "excel.evaluate(f'{sheet_name_to_write}!{pycel.AddressCell(cell_name_to_write).column}{pycel.AddressCell(cell_name_to_write).row}')\n",
        "\n",
        "replace_cell_name = f'{cell_name_new_i}[{old_cell_row_i}][{old_cell_column_i}]'\n",
        "\n",
        "formula = re.sub(rf'{sheet_name}!{cell_name}', replace_cell_name, formula)\n",
        "\n",
        "print(\"\\nРедуцирую локальные функции pycel из формулы...\")\n",
        "compiled_code = remove_patterns(formula)\n",
        "\n",
        "print(f\"\\n\\nPython code | UPD version:\\n {compiled_code}\\n\\n\")\n"
      ],
      "metadata": {
        "colab": {
          "base_uri": "https://localhost:8080/"
        },
        "id": "XPq9mbrwaB__",
        "outputId": "b5f53fdc-4d83-4dfb-d50d-c2fb6ac974cf"
      },
      "execution_count": 169,
      "outputs": [
        {
          "output_type": "stream",
          "name": "stdout",
          "text": [
            "\n",
            "Ячейка ПП B2C!D69 находится в диапазоне: 'ПП B2C'!$D$66:$DS$80.\n",
            "Таблица: PP_B2C_net_sales\n",
            "\n",
            "Редуцирую локальные функции pycel из формулы...\n",
            "\n",
            "\n",
            "Python code | UPD version:\n",
            " PP_B2C_net_sales[Интернет МКД][D]\n",
            "\n",
            "\n"
          ]
        }
      ]
    },
    {
      "cell_type": "code",
      "source": [],
      "metadata": {
        "id": "Mcl98HEm01zZ"
      },
      "execution_count": null,
      "outputs": []
    },
    {
      "cell_type": "markdown",
      "source": [
        "# **BAG FIX #10**\n",
        "Настройка форматирования аутпута\n",
        "\n",
        "![image.png](data:image/png;base64,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)"
      ],
      "metadata": {
        "id": "lHOC8SDzadhR"
      }
    },
    {
      "cell_type": "code",
      "source": [
        "def write_to_file(cell_name, sheet_name, compiled_code, table, dependent_tables, upd_name, filename='/content/output.txt'):\n",
        "    with open(filename, 'a+') as file:\n",
        "        # Write sheet_name in H2 style\n",
        "        file.write(f'### {sheet_name}\\n\\n')\n",
        "        file.write(f'#### {old_cell_row} =\\> {table}\\n\\n')\n",
        "\n",
        "        # Write cell_name in H1 style\n",
        "        file.write(f'{sheet_name_to_write}!{pycel.AddressCell(cell_name_to_write).column}{pycel.AddressCell(cell_name_to_write).row} =\\>  {upd_name}\\n\\n')\n",
        "\n",
        "        # Write compiled_code in code block style\n",
        "        # compiled_code_markdown = markdown.markdown(compiled_code, extensions=['codehilite'])\n",
        "        file.write(f'```\\n{compiled_code}\\n```')\n",
        "\n",
        "        # Write table name\n",
        "        file.write(f'\\n\\nТаблицы для хранения расчетного значения: *{{red}}({table})*\\n\\n')\n",
        "\n",
        "        dep_tables_formatted = [f'* {value} ({key})\\n' for key,value in dependent_tables.items()]\n",
        "        # Write connected tables names\n",
        "        file.write(f'Таблицы с исходными данными для расчета:\\n\\n{\"\".join(dep_tables_formatted)}\\n\\n')"
      ],
      "metadata": {
        "id": "iDO68iziYMHt"
      },
      "execution_count": 177,
      "outputs": []
    },
    {
      "cell_type": "code",
      "source": [
        "dep_tables_temp = [f'* {value} ({key})\\n' for key,value in dependent_tables.items()]\n",
        "print(\"\".join(dep_tables_temp))"
      ],
      "metadata": {
        "colab": {
          "base_uri": "https://localhost:8080/"
        },
        "id": "N0CgqqsOaqpx",
        "outputId": "f7d9fda3-873e-4111-b5fa-0474dbecc795"
      },
      "execution_count": 182,
      "outputs": [
        {
          "output_type": "stream",
          "name": "stdout",
          "text": [
            "* MARKETING_polygraphy_normative_from_chp (Маркетинг!L8)\n",
            "* MARKETING_polygraphy_normative_from_chp (Маркетинг!L9)\n",
            "* MARKETING_polygraphy_normative_from_chp (Маркетинг!L10)\n",
            "\n"
          ]
        }
      ]
    },
    {
      "cell_type": "markdown",
      "source": [
        "# **Архивная версия переприсвоения для строк**"
      ],
      "metadata": {
        "id": "eN54QvpvpTn3"
      }
    },
    {
      "cell_type": "code",
      "source": [
        "            # ПЕРЕПРИСВОЕНИЕ для строк\n",
        "            # Для переприсвоения строки на продукт необходимо вытащить по name именованный диапазон\n",
        "            # У него найти первый столбец\n",
        "            # a = 0\n",
        "            # if len(workbook.defined_names[name].value.split(',')) > 1:\n",
        "            #     for range_temp in workbook.defined_names[name].value.split(','):\n",
        "            #         if a == 0:\n",
        "            #             min_col_temp, min_row_temp, max_col_temp, max_row_temp = openpyxl.utils.cell.range_boundaries(range_temp.split('!')[1])\n",
        "            #         else:\n",
        "            #             min_col_tempp, min_row_tempp, max_col_tempp, max_row_tempp = openpyxl.utils.cell.range_boundaries(\n",
        "            #                 range_temp.split('!')[1])\n",
        "            #             if min_col_tempp < min_col_temp:\n",
        "            #                 min_col_temp = min_col_tempp\n",
        "            #         a += 1\n",
        "            #     start_range_column_i = openpyxl.utils.cell.get_column_letter(min_col_temp)\n",
        "            # else:\n",
        "            #     # start_range_column_i = pycel.AddressRange(range.split('!')[1]).start.column\n",
        "            #     start_range_column_i = pycel.AddressRange(workbook.defined_names[name].value).start.column\n",
        "\n",
        "            # И из него вытащить элемент по old_cell_row и подставить вместо old_cell_row\n",
        "            # start_range_column_i = openpyxl.utils.cell.get_column_letter(min_col_temp)"
      ],
      "metadata": {
        "id": "cD-h40PQpP7F"
      },
      "execution_count": null,
      "outputs": []
    }
  ]
}